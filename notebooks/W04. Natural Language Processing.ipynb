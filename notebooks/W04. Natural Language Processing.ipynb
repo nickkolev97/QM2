{
  "cells": [
    {
      "cell_type": "markdown",
      "metadata": {
        "id": "cxouC6cfjAYL"
      },
      "source": [
        "# Natural Language Processing\n",
        "\n",
        "## *Workshop 4*  [![Open In Colab](https://github.com/oballinger/QM2/blob/main/colab-badge.png?raw=1)](https://colab.research.google.com/github/oballinger/QM2/blob/main/notebooks/W04.%20Natural%20Language%20Processing.ipynb)\n",
        "\n",
        "Today we'll be using the *Natural Language Tool Kit* package **nltk**, which will allow us to split (clean) text into words, parts of speech, and sentences, and plot word occurrence and frequency.\n",
        "\n",
        "**Aims**\n",
        "\n",
        "- to work with nltk and some standard corpus texts\n",
        "- to tokenise by word and sentence\n",
        "- to plot word occurrence and frequency\n",
        "- to filter by parts of speech"
      ]
    },
    {
      "cell_type": "markdown",
      "source": [
        "## Background\n",
        "\n",
        "Exxon Mobil is the 4th largest oil company in the world. In 1978, an Exxon scientist named James Black wrote an [internal briefing](https://insideclimatenews.org/documents/james-black-1977-presentation/) called \"The Greenhouse Effect\" in which he warned: “Present thinking holds that man has a time window of five to ten years before the need for hard decisions regarding changes in energy strategies might become critical.” \n",
        "\n",
        "Rather than acting on this information, Exxon spent the next [forty years aggressively funding climate denial](https://news.harvard.edu/gazette/story/2021/09/oil-companies-discourage-climate-action-study-says/). Recently, [a U.S. court ruled](https://www.theguardian.com/environment/2022/may/24/exxon-trial-climate-crimes-fossil-fuels-global-heating) that ExxonMobil must face trial over accusations that it lied about the climate crisis and covered up the fossil fuel industry’s role in worsening environmental devastation.\n",
        "\n",
        "### Earnings Calls\n",
        "Every three months, Exxon conducts an [\"earnings call\"](https://www.investopedia.com/terms/e/earnings-call.asp); a conference call between the management of a public company, analysts, investors, and the media to discuss the company’s financial results during a given reporting period, such as a quarter or a fiscal year. \n",
        "\n",
        "You can [register](https://globalmeet.webcasts.com/starthere.jsp?ei=1488251&tp_key=440e363aaf) to attend their next one if you want! No worries if you miss it, they provide [transcripts](https://corporate.exxonmobil.com/Investors/Investor-relations/Investor-materials-archive#Quarterlyearningsmaterials) on their website.\n",
        "\n",
        "These transcripts provide an intimate window into the company's \n",
        ". We can see how much pressure investors are putting on the company to tackle climate change, and how the company responds. \n",
        "\n",
        "We'll be working with transcripts spanning nealry 20 years and over 10 million words; that's like reading the Harry Potter series 10 times. "
      ],
      "metadata": {
        "id": "3sLO5n6tnemE"
      }
    },
    {
      "cell_type": "markdown",
      "source": [
        "![](https://haha.business/business.jpg)\n"
      ],
      "metadata": {
        "id": "zIhVuwMlbvQC"
      }
    },
    {
      "cell_type": "code",
      "source": [],
      "metadata": {
        "id": "LD1Au6yHbr2q"
      },
      "execution_count": 209,
      "outputs": []
    },
    {
      "cell_type": "markdown",
      "metadata": {
        "id": "RZwtwz53jAYM"
      },
      "source": [
        "## Downloading the Data\n",
        "Let's grab the data we will need this week from our course website and save it into our data folder. If you've not already created a data folder then do so using the following command. \n",
        "\n",
        "Don't worry if it generates an error, that means you've already got a data folder."
      ]
    },
    {
      "cell_type": "code",
      "execution_count": 229,
      "metadata": {
        "id": "c8OXlIf2jAYN"
      },
      "outputs": [],
      "source": [
        "%%capture\n",
        "!pip install spacy\n",
        "!pip install textacy\n",
        "!pip install nltk\n",
        "!pip install scattertext\n",
        "!pip install tika"
      ]
    },
    {
      "cell_type": "code",
      "execution_count": 211,
      "metadata": {
        "id": "AeYFCcv4jAYT",
        "colab": {
          "base_uri": "https://localhost:8080/"
        },
        "outputId": "8c3b485a-0bc2-4cb9-e201-0848ad2b531f"
      },
      "outputs": [
        {
          "output_type": "stream",
          "name": "stdout",
          "text": [
            "mkdir: cannot create directory ‘data/wk4’: File exists\n"
          ]
        }
      ],
      "source": [
        "#Make a ./data/wk4 directory\n",
        "!mkdir data/wk4\n",
        "\n"
      ]
    },
    {
      "cell_type": "code",
      "execution_count": 419,
      "metadata": {
        "id": "MXB0zCQEjAYY",
        "colab": {
          "base_uri": "https://localhost:8080/"
        },
        "outputId": "1799cde5-9db1-4f92-fbcd-48e81e781c11"
      },
      "outputs": [
        {
          "output_type": "stream",
          "name": "stderr",
          "text": [
            "[nltk_data] Downloading package stopwords to /root/nltk_data...\n",
            "[nltk_data]   Package stopwords is already up-to-date!\n"
          ]
        }
      ],
      "source": [
        "import spacy\n",
        "import json\n",
        "import pylab\n",
        "from IPython.core.display import display, HTML\n",
        "import nltk\n",
        "import tika \n",
        "import numpy as np\n",
        "import pandas as pd\n",
        "import matplotlib.pyplot as plt\n",
        "\n",
        "%matplotlib inline\n",
        "\n",
        "nltk.download('stopwords')\n",
        "pylab.rcParams['figure.figsize'] = (10., 8.)\n",
        "nlp = spacy.load(\"en_core_web_sm\")"
      ]
    },
    {
      "cell_type": "markdown",
      "source": [
        "Exxon host earnings calls on their website in PDF form. Usually, working with PDFs is a real pain as they are not machine-readable. Using a python package called [tika](https://www.geeksforgeeks.org/parsing-pdfs-in-python-with-tika/), we can \"parse\" a pdf, turning it into machine-readable text:"
      ],
      "metadata": {
        "id": "eU1g5loJ2_3s"
      }
    },
    {
      "cell_type": "code",
      "source": [
        "# define the URL where your PDF lives. You could also upload your own pdf.\n",
        "url='https://corporate.exxonmobil.com/-/media/Global/Files/investor-relations/quarterly-earnings/earnings-transcripts/2022-earnings-transcripts/1Q22-XOM-Earnings-Call-Transcript-4-29-22.pdf'\n",
        "\n",
        "# parse the pdf by feeding tika the URL and store the text in an object called \"raw\" \n",
        "raw = parser.from_file(url)\n"
      ],
      "metadata": {
        "colab": {
          "base_uri": "https://localhost:8080/"
        },
        "id": "ibXsDF1uW_dP",
        "outputId": "0d0ccfc0-8ebf-4830-dd3a-457fd4a6c757"
      },
      "execution_count": 213,
      "outputs": [
        {
          "output_type": "stream",
          "name": "stderr",
          "text": [
            "2022-10-20 12:45:27,036 [MainThread  ] [INFO ]  Retrieving https://corporate.exxonmobil.com/-/media/Global/Files/investor-relations/quarterly-earnings/earnings-transcripts/2022-earnings-transcripts/1Q22-XOM-Earnings-Call-Transcript-4-29-22.pdf to /tmp/media-global-files-investor-relations-quarterly-earnings-earnings-transcripts-2022-earnings-transcripts-1q22-xom-earnings-call-transcript-4-29-22.pdf.\n",
            "INFO:tika.tika:Retrieving https://corporate.exxonmobil.com/-/media/Global/Files/investor-relations/quarterly-earnings/earnings-transcripts/2022-earnings-transcripts/1Q22-XOM-Earnings-Call-Transcript-4-29-22.pdf to /tmp/media-global-files-investor-relations-quarterly-earnings-earnings-transcripts-2022-earnings-transcripts-1q22-xom-earnings-call-transcript-4-29-22.pdf.\n"
          ]
        }
      ]
    },
    {
      "cell_type": "markdown",
      "source": [
        "Now, we have an object called \"raw\" that contains some useful information. Notice the squiggly brackets; this is a dictionary. It contains several fields, including some useful metadata such as the author"
      ],
      "metadata": {
        "id": "g4Wevbuz4Q8i"
      }
    },
    {
      "cell_type": "code",
      "source": [
        "date=raw['metadata']['date']\n",
        "title=raw['metadata']['dc:title']\n",
        "raw_text=raw['content']\n",
        "\n",
        "print('Date: ', date)\n",
        "print('Title: ', title)\n",
        "print('Word Count: ', len(raw_text))\n",
        "print('Text:')\n",
        "raw_text"
      ],
      "metadata": {
        "colab": {
          "base_uri": "https://localhost:8080/",
          "height": 214
        },
        "id": "1na8WczX4RQm",
        "outputId": "c19d084a-641d-4855-dbd6-f5b4c1abb554"
      },
      "execution_count": 214,
      "outputs": [
        {
          "output_type": "stream",
          "name": "stdout",
          "text": [
            "Date:  2022-05-04T16:51:56Z\n",
            "Title:  1Q22 XOM Earnings Call Transcript 4-29-22\n",
            "Word Count:  58778\n",
            "Text:\n"
          ]
        },
        {
          "output_type": "execute_result",
          "data": {
            "text/plain": [
              "\"\\n\\n\\n\\n\\n\\n\\n\\n\\n\\n\\n\\n\\n\\n\\n\\n\\n\\n\\n\\n\\n\\n\\n\\n\\n\\n\\n\\n\\n\\n\\n\\n\\n\\n\\n\\n\\n\\n\\n\\n\\n\\n\\n1Q22 XOM Earnings Call Transcript 4-29-22\\n\\n\\n \\n \\n\\n  1  \\n\\nExxonMobil First Quarter 2022 Earnings Call Transcript \\n\\nThis transcript presents ExxonMobil’s first quarter 2022 earnings call held on April 29, 2022. \\n\\n \\n\\nOperator: Good day, everyone.  Welcome to this ExxonMobil Corporation First Quarter 2022 \\n\\nEarnings Call.  Today's call is being recorded.  At this time, I'd like to turn the call over to the Vice \\n\\nPresident of Investor Relations, Mrs. Jennifer Driscoll.  Please go ahead, ma'am.   \\n\\n \\n\\nJennifer Driscoll: Good morning, everyone.  Welcome to our first quarter earnings call.  We appreciate \\n\\nyour interest in ExxonMobil.  Joining me today are Darren Woods, our Chairman, and Chief \\n\\nExecutive Officer; and Kathy Mikells, our Senior Vice-President, and Chief Financial Officer.   \\n\\n \\n\\n The slides and our prerecorded remarks were made available on our Investor Section of our \\n\\nwebsite earlier this morning along with our news release.  In a minute, Darren will provide \\n\\nopening comments, and reference a few slides from that presentation.  Then, we'll conduct a \\n\\nquestion-and-answer session.   \\n\\n \\n\\n We expect to conclude the call by about 9:30 AM Central Time.  Let me encourage you to read \\n\\nour cautionary statement, which is on slide 2.  Please note we also provided supplemental \\n\\ninformation at the end of our earnings slides, which are posted on the website.  Now, I'll turn the \\n\\ncall over to Darren Woods.   \\n\\n \\n\\nDarren Woods: Good morning, and thanks for joining us today.  As we laid out at our most recent \\n\\nInvestor Day, our goal is to sustainably grow shareholder value through the execution of our \\n\\nstrategic priorities as seen on this slide.  As we think about recent events, our job has never been \\n\\nclearer or more important.   \\n\\n \\n\\n The need to meet society's evolving needs reliably and affordably is what consumers and \\n\\nbusinesses across the globe are demanding, and what we delivered this quarter.  First, we \\n\\n\\n\\n \\n \\n\\n  2  \\n\\ncontinue to build our competitively advantaged production portfolio, bringing new barrels to \\n\\nmarket today driven in part by the high-value investments.   \\n\\n \\n\\n We continue to progress through the pandemic-driven downturn in prices.  A prime example of \\n\\nthe benefits of our continued investments is Guyana.  This quarter saw the successful start-up of \\n\\nLiza Phase 2.  Production is ramping up ahead of schedule, and is expected to reach capacity of \\n\\n220,000 barrels of oil per day by the third quarter this year.   \\n\\n \\n\\n Combined with Liza Phase 1, it will bring our total production capacity in Guyana to more than \\n\\n340,000 barrels per day.  Our third project, Payara, is running ahead of schedule with startup now \\n\\nlikely by yearend 2023.  Yellowtail, the fourth and largest project to date on the Stabroek block, \\n\\nreceived government approval of our development plan, and is on schedule to start up in 2025.   \\n\\n \\n\\n Further adding to our portfolio, we have made five new discoveries this year that have increased \\n\\nthe estimated recoverable resources to nearly 11 billion oil-equivalent barrels.  Turning to the US, \\n\\nwe continue to grow production in the Permian Basin.  In March, we produced about 560,000 oil-\\n\\nequivalent barrels per day on pace to deliver a 25% increase versus 2021.   \\n\\n \\n\\n Looking forward, we are also growing our globally diverse portfolio of low-cost, capital-efficient \\n\\nLNG developments.  In Mozambique, the 3.4 million-ton-per-year Coral South Floating LNG \\n\\nproduction vessel is being commissioned after arriving on site in January.  Coral South is on \\n\\nbudget with the first LNG cargo expected in the fourth quarter.   \\n\\n \\n\\n In addition to investing in high-value opportunities in our existing businesses, we are also \\n\\nadvancing opportunities in our Low Carbon Solutions business.  During the quarter, we \\n\\nannounced plans to build a large-scale hydrogen plant in Baytown, Texas.  We anticipate the \\n\\nfacility will have the capacity to produce up to 1 billion cubic feet of hydrogen per day.   \\n\\n \\n\\n\\n\\n \\n \\n\\n  3  \\n\\n Combined with carbon capture, transport, and storage of approximately 10 million metric tons of \\n\\nCO2 per year, this facility will be a foundational investment in the development of the Houston \\n\\nCCS Hub, which will have the potential to eliminate 100 million metric tons of CO2 per year, and \\n\\nrepresents a meaningful step forward in advancing accretive, low-carbon solutions.   \\n\\n \\n\\n We also reached a final investment decision to expand another important carbon capture and \\n\\nstorage project at our helium plant in Wyoming.  In addition, we received the top certification of \\n\\nour management of methane emissions at our Poker Lake development in the Permian.   \\n\\n \\n\\n We are the first company to achieve this certification for natural gas production associated with \\n\\noil.  At the end of the first quarter, we implemented a series of organizational changes to further \\n\\nleverage the scale and integration of the corporation, improve the effectiveness of our operations, \\n\\nand better serve our customers.   \\n\\n \\n\\n We combined our downstream and chemical operations into a single Product Solutions business.  \\n\\nThis new integrated business will be focused on developing high-value products, improving \\n\\nportfolio value, and leading in sustainability.  As a result of these changes, our company is now \\n\\norganized along three primary businesses: Upstream, Product Solutions, and Low Carbon \\n\\nSolutions.   \\n\\n \\n\\n These three businesses are supported by corporate-wide organizations including projects, \\n\\ntechnology, engineering, operations, safety, and sustainability.  Before I cover our financial \\n\\nresults, I wanted to provide our perspective on the market environment.  In the first quarter, a tight \\n\\nsupply/demand environment primarily due to the low investment levels during the pandemic \\n\\ncontributed to rapid increases in prices for crude, natural gas, and refined products.   \\n\\n \\n\\n Clearly, the events in Ukraine have added uncertainty to what was already a tight supply outlook.  \\n\\nBrent rose by about $22 dollars per barrel or 27% versus the fourth quarter.  Today, natural gas \\n\\n\\n\\n \\n \\n\\n  4  \\n\\nprices remain well above the 10-year historical ranges driven by tight global market conditions \\n\\nand ongoing European supply concerns.   \\n\\n \\n\\n The same tight supply/demand factors have also pushed refining margins near the top of the \\n\\nrange.  Chemical margins in Asia have fallen sharply with product prices lagging the steep \\n\\nincreases in feed and energy costs.  In our case, the US ethane feed advantage provided a \\n\\nsignificant positive offset versus this global view.   \\n\\n \\n\\n With that market environment as the backdrop, let me turn to our first quarter financials.  Earnings \\n\\ntotaled $8.8 billion, excluding an identified item, the after-tax charge associated with Sakhalin-1.  \\n\\nAs you know, we are discontinuing our Sakhalin-1 operations in Russia, which represented less \\n\\nthan 2% of our total production last year, about 65,000 oil-equivalent barrels per day, and about \\n\\n1% of our corporate operating earnings.   \\n\\n \\n\\n As the operator, our priority continues to be the health and safety of our people, and the \\n\\nprotection of the environment.  Of course, we remain in full compliance with all US sanctions, and \\n\\nare closely coordinating with the US Administration.  Turning to structural savings, we continue to \\n\\ndrive further efficiencies now delivering more than $5 billon of annual savings versus 2019.   \\n\\n \\n\\n Capex totaled $4.9 billion for the quarter in line with our full-year guidance of $21 to $24 billion.  \\n\\nCash flow from operations was $14.8 billion, maintaining our strong balance sheet.  Our debt-to-\\n\\ncapital ratio remains near the low end of our 20%-25% target range, while our net debt-to-capital \\n\\nratio dropped to about 17%.   \\n\\n \\n\\n We returned $5.8 billion to shareholders, of which about two-thirds was in the form of dividends \\n\\nand the remainder share repurchases, consistent with our previous program.  We said during our \\n\\nCorporate Plan Update in December that we expect to repurchase $10 billion dollars of our \\n\\nshares.   \\n\\n\\n\\n \\n \\n\\n  5  \\n\\n \\n\\n This morning we announced an increase to the program, up to $30 billion dollars in total through \\n\\n2023.  This move reflects the confidence we have in our strategy, the performance we are seeing \\n\\nacross our businesses, and the strength of our balance sheet.  Before I leave you with a few key \\n\\ntakeaways, let me share one other decision we made this month with respect to our workforce.   \\n\\n \\n\\n Continually investing in our people and maintaining a strong culture are core strategic priorities \\n\\nand essential to achieving our long-term objectives.  As part of that effort, we are tripling the \\n\\nnumber of employees eligible for stock grants by bringing in high-performing employees at earlier \\n\\nstages of their careers.   \\n\\n \\n\\n Our goal is to increase our people's ownership in the company, and importantly in our financial \\n\\nand operating results.  Secondly, in June, we will implement a 3% off-cycle compensation \\n\\nadjustment in the US to maintain competitiveness.  Our compensation and benefits programs are \\n\\na key element of our total value proposition that enables us to continue to attract and retain the \\n\\nbest talent in the industry.   \\n\\n \\n\\n Let me leave you with a few key takeaways.  We had a strong first quarter, and I'm proud of the \\n\\norganization's progress.  The impact of weather on the upstream volumes and derivatives and \\n\\ntiming impacts in the downstream obscured a strong underlying performance.  We anticipate an \\n\\nabsence of these impacts and strong refining margins will position us very well in the second \\n\\nquarter.  We are making outstanding progress on our high-value growth developments in \\n\\nGuyana, the Permian, and LNG.  Our new Corpus Christi Chemical Complex is up and running \\n\\nahead of schedule, and generated positive earnings and cash flow in its first quarter of \\n\\noperations.   \\n\\n \\n\\n We have strengthened the balance sheet and are creating value for shareholders through an \\n\\nattractive dividend and increased share repurchases.  We are advancing hydrogen, biofuels, and \\n\\n\\n\\n \\n \\n\\n  6  \\n\\nother low-carbon solutions consistent with our intention to lead in the energy transition, leveraging \\n\\nour competitive advantages of scale, integration, and technology.   \\n\\n \\n\\n Finally, we are evolving our organization from a holding company to an operating company to \\n\\nbetter serve our customers' evolving needs and grow long-term shareholder value.  Before we \\n\\ntake your questions, I want to acknowledge the very real impact the high prices are having on \\n\\nfamilies all around the world.   \\n\\n \\n\\n You may recall that we anticipated this in 2020 with industry investment levels well below those \\n\\nrequired to offset depletion.  That is why we worked so hard to preserve our capital expenditures \\n\\nduring the depths of the pandemic and ensure that additional production was available to meet \\n\\nthe eventual recovery in demand.   \\n\\n \\n\\n Today, that long-term focus is paying off with growing production of industry-advantaged supply.  \\n\\nWe are continuing to focus on the fundamentals through ongoing investment in advantaged \\n\\nprojects and low-emission initiatives to ensure that we can continue to meet the critical needs of \\n\\npeople all around the world reliably and affordably well into the future.   \\n\\n \\n\\nJennifer Driscoll: Thank you, Darren.  One last piece of housekeeping I wanted to mention is that \\n\\nahead of the segment reporting change next quarter, we plan to provide you annual and quarterly \\n\\ninformation for the past five years using the new reporting segments to assist you with your \\n\\nmodeling.  We plan to post the new data on our website around mid-June.   \\n\\n \\n\\n Also, please note that starting with this call, we ask our analysts to limit themselves to a single \\n\\nquestion.  So, that we can fit in questions for more people.  However, you may remain on the line \\n\\nin case clarification is needed.  And with that operator, please provide the instructions and then \\n\\nopen the phone lines for the first question.   \\n\\n \\n\\n\\n\\n \\n \\n\\n  7  \\n\\nOperator: Thank you, Mrs. Driscoll.  The question-and-answer session will be conducted \\n\\nelectronically.  If you'd like to ask a question, please do so by pressing the star key followed by \\n\\nthe digit one on your touchtone telephone.  Once again, we request that you limit yourselves to \\n\\none question, so, that we may take as many questions as possible.   \\n\\n \\n\\n We'll take our first question from the line of Phil Gresh with JP Morgan.   \\n\\n \\n\\nPhil Gresh: Yes, hi.  Good morning, Darren and Kathy.   \\n\\n \\n\\nDarren Woods: Good morning.   \\n\\n \\n\\nPhil Gresh: So, I guess my question is a little bit of a two-part question, then.  The buyback, $30 \\n\\nbillion over two years, previously you talked about I think $10 billion mostly in 2022.  So, should we \\n\\nassume the $30 billion is essentially rateable, $15 billion this year?  And then if that's the case, it still \\n\\nseems like there's a lot of excess cash potentially building up at strip prices.  So, how do you think about \\n\\nany excess cash, debt reduction, etc. given where the leverage is versus targets now?  Thank you.   \\n\\n \\n\\nKathryn Mikells: Great.  Thanks very much.  So, look, we don't know exactly how long the strong \\n\\nmarket conditions that we're seeing today are going to persist.  And we've learned some pretty \\n\\ntough liquidity lessons during the pandemic so our cash balance has been building a bit.   \\n\\n \\n\\n You would see that it was $11 billion as we ended the quarter.  So, you should expect with the \\n\\nbackdrop of these strong market conditions that even with the higher buyback program that we \\n\\nannounced this morning, we would be building our cash in the near term, potentially between $20 \\n\\nto $30 billion over time.   \\n\\n \\n\\n And so, that really addresses our need for flexibility in what's an incredibly uncertain environment.  \\n\\nand ensuring that we'll continue to appropriately invest in the business and sustain the share \\n\\n\\n\\n \\n \\n\\n  8  \\n\\nrepurchase program that we talked about through 2023.  In terms of just how to think about the \\n\\npace and the program, it's up to $30 billion through the end of 2023.   \\n\\n \\n\\n We obviously got $2.1 billion done in this quarter.  You should think about us looking to get up to \\n\\na ratable pace.  And that roughly, we'd be looking to get $15 billion done a year.  Again, looking \\n\\nto sustain the program more consistently over this two-year period.  So, that's how I would think \\n\\nabout roughly where we see our cash balance, and just looking to maintain a lot of flexibility in \\n\\nwhat's a pretty uncertain environment.   \\n\\n \\n\\n And we did learn some real lessons during the pandemic.  We used to try and hold our cash \\n\\nbalance, call it between $3 billion and $5 billion, and run a lot of commercial paper.  And when the \\n\\npandemic hit, that was quite problematic for the company.  So, we're going to be a little bit more \\n\\nconservative here in the near term.   \\n\\n \\n\\nOperator: Your next question comes from the line of Jeanine Wai with Barclays.   \\n\\n \\n\\nJeanine Wai: Hi.  Good morning, everyone.  Thanks for taking our questions.   \\n\\n \\n\\nDarren Woods: Morning.   \\n\\n \\n\\nJeanine Wai: Good morning.  Our question is related broadly to your global gas opportunities.  Can you \\n\\ntalk about how you see the evolution of the US market?  And how do you see certified gas \\n\\nplaying a role in US supply?  And I guess, do you intend to really look for a global outlet for a \\n\\nportion of your US gas?   \\n\\n \\n\\n And we understand that Golden Pass, that provides a great opportunity to capture the spread.  \\n\\nBut maybe, are you thinking about some other opportunities besides Golden Pass?  Thank you.   \\n\\n \\n\\n\\n\\n \\n \\n\\n  9  \\n\\nDarren Woods: Sure.  You're welcome, Jeanine, and good to hear from you again.  Just maybe a broad \\n\\ncomment on the LNG business.  Obviously, as we're seeing across each of our sectors, the \\n\\npandemic had a pretty profound effect with respect to deferring, delaying capital spend, and \\n\\ntherefore additional capacity coming on.   \\n\\n \\n\\n And as the pandemic has subsided and demand has recovered, we're seeing very tight markets.  \\n\\nAnd we're seeing that play out really around the world, obviously a significant impact.  And then \\n\\nwith the Ukraine and the situation there, that has added a significant additional level of \\n\\nuncertainty around supply.   \\n\\n \\n\\n And so, I think a very dynamic market and a very high-priced market.  And what we've seen in \\n\\nresponse to that is basically very full capacity utilization all around the world maximizing the \\n\\namount of LNG moving.  Obviously, we've got our Coral LNG starting up later this year, which will \\n\\nhelp contribute to and ease some of that tightness.   \\n\\n \\n\\n And then you mentioned Golden Pass, which is an important leg of our strategy of making sure \\n\\nthat we have access to LNG supplies that we can use to supply demand all around the world.  \\n\\nAnd that's a very important part of our strategy in LNG going forward is making sure that we've \\n\\ngot barrels that we can then move and trade in the marketplace, and move across the different \\n\\nregional demand centers.   \\n\\n \\n\\n And so, I think we're going to continue to look for opportunities in LNG.  It's an important part of \\n\\nthe portfolio.  We've got opportunities in PNG that we're progressing.  Obviously, additional \\n\\ninvestments in Mozambique are in the future as well.  And so, I think, it'll be a very important \\n\\nfoundational layer of supply, and a really important part of our overall business offer.   \\n\\n \\n\\nKathryn Mikells: And I would just add.  You asked a little bit about that top rating that we got on \\n\\nmethane management in Poker Lake in the Permian.  And we would say, we really see a market \\n\\n\\n\\n \\n \\n\\n  10  \\n\\nover time building for lower-emission products, and that really plays into that.  And we would \\n\\ncertainly hope that we'd also start to see a premium on those lower-emission products, right.   \\n\\n \\n\\n And we'd say that's consistent across our business, but we definitely are looking to play into that \\n\\ngoing forward.   \\n\\n \\n\\nDarren Woods: Yeah, I would just add to that.  Obviously, that would be a benefit.  But it's certainly not \\n\\nthe main driver with respect to making sure that our operations have very low emissions, and very \\n\\nlow methane emissions.  And so, that's a core part of our commitment in running these facilities.   \\n\\n \\n\\n And to the extent the market pays a premium for that, that's an advantage that we'll look to take \\n\\nadvantage of.   \\n\\n \\n\\nOperator: Your next question comes from the line of Devin McDermott with Morgan Stanley.   \\n\\n \\n\\nDevin McDermott: Hey, good morning.  Thanks for taking my question.   \\n\\n \\n\\nDarren Woods: Morning.   \\n\\n \\n\\nDevin McDermott: I wanted to ask about some of the structural cost reduction goals.  You continue to \\n\\nmake good progress there.  But the question is, can you add a little bit of color around what \\n\\nyou're seeing on just broad cost in inflation, labor, and otherwise?  And how if at all that impacts \\n\\nsome of those goals and targets over time?   \\n\\n \\n\\nKathryn Mikells: Sure.  So, I'll start out with just saying, we feel good about the progress that we're \\n\\ncontinuing to make.  At the end of the fourth quarter, we had said we had gotten to about $5 \\n\\nbillion in structural cost savings relative to 2019 we are now at $5.4 billion so I'd say overall, we \\n\\nfeel really good about that progress.   \\n\\n\\n\\n \\n \\n\\n  11  \\n\\n \\n\\n Obviously, we have now put in place the new organizational structure, which should drive \\n\\nincremental efficiencies on top of just driving better operations, faster speed-to-market, better \\n\\ndeployment, faster deployment of resources to the highest opportunities across the company.   \\n\\n \\n\\n We're not immune to inflation obviously and we would see a fair amount of both energy and \\n\\nfeedstock inflation coming through the business in certain areas that put a little bit of pressure on \\n\\nmargins.  Overall, in terms of how we are managing that, it flows through two parts of the \\n\\noperations.   \\n\\n \\n\\n So, one is on Capex.  We feel really good about where we are at there because during the \\n\\npandemic we really took the opportunity to extend contracts on work that was coming forward.  I'd \\n\\nsay while the shorter-cycle work programs obviously have some inflationary pressure, the teams \\n\\nare working really hard to offset that.   \\n\\n \\n\\n Overall, I'd say we really try and lever master-service agreements, self-managed procurement.  \\n\\nWe utilize a diverse set of global contractors across the globe in trying to really manage inflation.  \\n\\nSo, through the quarter right now, I'd say we're doing a pretty good job of offsetting it.  But it's \\n\\nobviously something that we're watching really closely.   \\n\\n \\n\\nDarren Woods: Yeah, I would just emphasize the point that Kathy made.  But I think one worth \\n\\nremembering is this longer-term view that we took during the pandemic in trying to maintain a \\n\\nlevel of investment, we also recognized that as economies recovered and demand picked up that \\n\\nwe would potentially see inflation.   \\n\\n \\n\\n And so, we were very focused in anticipation of that trying to lock in some of the pricing and \\n\\nsavings during the low points that we could then take advantage of early on in a recovery, which \\n\\n\\n\\n \\n \\n\\n  12  \\n\\nis to the point Kathy made.  And maybe the final point I would make is with the new organization, \\n\\nit's working hard.   \\n\\n \\n\\n And our leadership team is working hard to offset inflation and doing a pretty good job with that.  \\n\\nAnd we think we've got a pretty good handle here, certainly in the short term.  Obviously, we'll \\n\\nsee how the market develops.   \\n\\n \\n\\nOperator: Our next question will come from the line of Neil Mehta with Goldman Sachs.   \\n\\n \\n\\nNeil Mehta: Yeah.  Good morning, team.  I have a question we want to focus on was around \\n\\nDownstream.  And Darren, you know the refining business really well given your leadership role \\n\\nthere over the years.  And so, I'd love you to characterize how you are seeing the crack and \\n\\nrefining market environment, which is obviously extraordinarily strong?   \\n\\n \\n\\n And then put that in the context of the quarter, which was softer in Downstream.  But to your \\n\\npoint, I think a lot of that was timing effects.  And it feels like things should sequentially move in \\n\\nthe right direction as you move into 2Q.  So, the big picture question around the refining macro \\n\\nand then tie it into how you are thinking about the sequential move in your earnings power from \\n\\nhere?   \\n\\n \\n\\nDarren Woods: Sure.  And good morning, Neil.  Yeah, I may if I can start -- and I feel like we're going to \\n\\nbe a little bit of a broken record with respect to the anchoring a lot of what we're seeing in the \\n\\nmarket today across our sectors with the pandemic.  And you will recall as we were going through \\n\\nthat very deep downcycle where demand for fuels products dropped significantly.   \\n\\n \\n\\n There was a lot of refinery rationalization.  In fact, refineries were shutting down at a much, much \\n\\nhigher rate than historical averages, four times if not higher.  And so, you had a lot of capacity \\n\\n\\n\\n \\n \\n\\n  13  \\n\\ncoming out of the marketplace.  There were new facilities that were planned or in progress \\n\\nprimarily in the Middle East and out in Asia.   \\n\\n \\n\\n Those got deferred and delayed because of the crunch.  And so, you've got I think this period of \\n\\ntime where you've taken a lot of capacity out.  And new capacity that was planned or in progress \\n\\nhas been deferred and delayed.  And so, we've got a period with lower supply.  And then of \\n\\ncourse, as demand has picked up, that has led to this very tight market and the higher margins \\n\\nthat we're seeing.   \\n\\n \\n\\n What's compounded that then is the important role that Russia plays in supplying markets around \\n\\nthe world.  And with the uncertainty associated with that supply and potential impacts of additional \\n\\nsanctions that's put I think additional concern and anxiety in the marketplace, which is leading to \\n\\na very, very high margin environment.   \\n\\n \\n\\n One, frankly that I do not think is a sustainable one.  And two, good for economies around the \\n\\nworld.  So, I think we are in a bit of a very tight timeframe.  And as you've talked about the first \\n\\nquarter, obviously, we saw that evolve over the first quarter with kind of rising margins in January, \\n\\nFebruary, March, and now into April, very high margins.   \\n\\n \\n\\n And so, I think that is something that we're going to see for quite some time, certainly here this \\n\\nyear and into next depending on obviously how demand plays out.  The final point I'll make, which \\n\\nyou touched on is you are right, this quarter reflects that ramp up of margins.  So, you are not \\n\\nreally seeing the healthy market that we're experiencing right now in the first quarter results.   \\n\\n \\n\\n That will I think manifest itself in the second quarter.  And then some of the timing impacts, we \\n\\nexpect to see unwind, maybe I'll let Kathy just touch on those.   \\n\\n \\n\\n\\n\\n \\n \\n\\n  14  \\n\\nKathryn Mikells: Sure.  I'm happy to do that.  And just to add a stat, our March refining margin was \\n\\nabout $4 higher than the average in the quarter.  So, that's kind of reflecting that ramp up that \\n\\nDarren just mentioned.  And then obviously in our prepared script, you would have seen us talk a \\n\\nfair amount to timing impacts that impacted profitability in downstream for the quarter.   \\n\\n \\n\\n I think everybody understands the mark-to-market on open derivatives.  So, I won't talk about \\n\\nthat, but we had another $590 million of other timing differences.  About $400 million of that was \\n\\nalso tied to derivatives.  We had $200 million that associated with cargos where the derivatives \\n\\nactually closed in March.  And then they reversed when the physical deliveries occurred in April.  \\n\\nSo, I'd say the way you should think about that is we took a $200 million bad guy in March.  And \\n\\nwe will see a $200 million good guy in April.  We also had $200 million associated with settled \\n\\nderivatives that we just used to ensure pricing of our refinery crude runs is ratable, right.   \\n\\n \\n\\n The way you should think about that it's a wash over time.  Sometimes, that pricing mechanism \\n\\ngives us a positive in a quarter.  Sometimes, it gives us a negative in a quarter.  Over time, it's \\n\\njust a wash.  And then the last impact that we talked about was just commercial pricing lag, right.   \\n\\n \\n\\n And the way I would think about that is we were in a steep rising price environment over the \\n\\nquarter.  And so, we had pricing that was a little bit lagging.  If we're in a stable environment, that \\n\\npricing will catch up.  If pricing turns to a downward curve, then we would actually get a little bit of \\n\\na benefit.   \\n\\n \\n\\n So, that's how I think about it as you are trying to just model the evolution into the second quarter \\n\\nhere.  The bottom line is obviously, we are carrying a lot of positive momentum as we stand here \\n\\ntoday.   \\n\\n \\n\\nNeil Mehta: Thanks, guys.   \\n\\n \\n\\n\\n\\n \\n \\n\\n  15  \\n\\nOperator: And next, we'll go to Doug Leggate with Bank of America.   \\n\\n \\n\\nDoug Leggate: Thanks.  Good morning, everyone.  Let me first of all thank the Investor Relations team \\n\\nfor the better presentation of results.  So, thanks for that, Jennifer, but we are losing a question \\n\\nhere so, I'll temper the enthusiasm.  But I'm kidding, thank you.  So, guys, my question, Darren \\n\\nand Kathy is on your balance sheet.   \\n\\n \\n\\n Darren, going back some years I guess a couple of years ago, you talked about, do not expect \\n\\nExxon to go back to the days of zero net debt.  We are going to have a more efficient balance \\n\\nsheet.  I just wonder if you can frame that for us today then what we should expect that to look \\n\\nlike because obviously that speaks to go-forward cash distributions, buybacks, cash on hand, the \\n\\nwhole thing, and obviously dividend policy?  So, that was my question for today please.   \\n\\n \\n\\nDarren Woods: Yeah.  Thank you, Doug.  And good morning to you, and I appreciate your compliments \\n\\nto the IR team.  I know they've been working hard to make sure that they're improving the \\n\\ntransparency and giving you the information that you need to help understand what we're doing \\n\\nhere and the business results that we're achieving.   \\n\\n \\n\\n I think to your point on the balance sheet and you'll remember what we started back in 2018 was \\n\\nthis countercyclical approach, where we lean on the balance sheet during the depths, made those \\n\\ninvestments with an eye on the fundamentals and the expected recoveries, and to take \\n\\nadvantage of the ups with investments in facilities in the ground.   \\n\\n \\n\\n And then reinvest and lean into the down cycles.  And I would tell you generally speaking, that \\n\\ncontinues to be an ambition of ours.  And part of our strategy is to try to drive the countercyclical \\n\\ninvestment approach which has worked out very well for us and is paying off in today's market.   \\n\\n \\n\\n\\n\\n \\n \\n\\n  16  \\n\\n But that I would say one philosophy.  Obviously, it is tempered by just the availability of cash, and \\n\\nhow deep and high the swings in this commodity cycle are.  And so, I think a part of that balance \\n\\nsheet -- and I'd want to toss it to Kathy here in a minute to let her make some comments on it.   \\n\\n \\n\\n But a part of that is just going to be a function of where you are at in the cycle, and how severe \\n\\nthat cycle is.  And so, there will be periods I think where you see some movement in both cash, \\n\\nand how the balance sheet is structured, and based on where we're at and where the revenues \\n\\nare and I would also tell you though that what's not going to change is being very focused on \\n\\nmaking sure that any investment that we make is advantaged across the cycle.  And you'll recall \\n\\nmy definition of disciplined investing is not an absolute level, but more of making sure that any \\n\\nway you spend money that you're convinced that you'll be the low-cost supplier with an \\n\\nadvantage versus the rest of industry.  That will be successful as you move through the cycle.   \\n\\n \\n\\nKathryn Mikells: Yeah.  And then the only thing that I would add to that Doug is occasionally I get the \\n\\nquestion of, why don't you just go and pay off all of the debt you have as a priority?  And I'd say, \\n\\nwe're really comfortable with the level of debt that we have.  And obviously, our gross debt-to-cap \\n\\nis at the lower end of the range that we talked about.   \\n\\n \\n\\n And we said, we're going to carry a little bit of a higher cash balance just reflective of the volatility \\n\\nthat we've really seen in the market.  So, that's how I think you should think about it.  But we're \\n\\nvery comfortable with our level of debt, and just being able to manage at that level through the \\n\\ncycle.   \\n\\n \\n\\nDoug Leggate: Okay.  Thanks, folks.   \\n\\n \\n\\nOperator: Next, we'll go to Stephen Richardson with Evercore ISI.   \\n\\n \\n\\n\\n\\n \\n \\n\\n  17  \\n\\nStephen Richardson: Good morning.  Thank you.  Another question on the downstream if I could, \\n\\nDarren.  And I wonder if I could ask on the circular polymer efforts, and some of the things you're \\n\\ntalking about in terms of recycling in the plastics business?  I guess, the question is the overall \\n\\napproach between mechanical and molecular recycling?   \\n\\n \\n\\n And how are you seeing that market evolve?  And is this a conversion of existing facilities or new \\n\\nreactors?  And then also, what are your expectations for the returns in that business through \\n\\ncycle?   \\n\\n \\n\\nDarren Woods: Sure, yeah.  Thank you, Stephen.  I think, you touched on I think a really important part of \\n\\nour strategy as we look at going forward, not only in the plastics and plastics recycling, but also in \\n\\nbiofuels.  And I think what people have thought about with respect to our refining footprint and the \\n\\nsize of that footprint is that as traditional fuels demand declines that those assets become \\n\\ndisadvantaged.   \\n\\n \\n\\n And frankly, given the integration that we have with those facilities, if you think about our \\n\\nchemicals and refining facilities integrated which are now reflected in our Product Solutions \\n\\nbusiness, the fact that we've got base stocks and lubricant facilities integrated with those, they \\n\\nare very robust platforms with large scale and low cost.   \\n\\n \\n\\n And what we see is the opportunity that as demand shifts to convert those facilities to produce \\n\\nmore lower-emissions fuels for biofuels, and to utilize existing equipment for advanced recycling \\n\\nin plastics.  And that's what you've seen us do in Baytown with conversion of some of our heavy \\n\\ncracking facilities on the refining side used to recycle waste plastic.   \\n\\n \\n\\n And we've got pretty ambitious plans in that space.  We like what we see there.  It gives products \\n\\nthat have all the same attributes as virgin products.  But obviously, without the same -- with the \\n\\nability to recycle the waste.  And so, we like the molecular recycling.  That's where we're focusing.   \\n\\n\\n\\n \\n \\n\\n  18  \\n\\n \\n\\n We think we can bring an advantage there with one, our facilities, but two, our technology.  And \\n\\nthen three, with our marketing organization with respect to the marketing of those products.  So, \\n\\nwe feel generally good about that.  We've got plans to drive that advanced recycling to 500,000 \\n\\nmetric tons by 2026.   \\n\\n \\n\\n We should have 30,000 metric tons in place by the end of this year.  So, I think in total, we like \\n\\nwhat we see there.  The market today is interested in those products.  And there is a premium out \\n\\nthere.  So, right now I think that looks pretty attractive.  I suspect with time, that the market will \\n\\nstabilize.  But we think, it's going to be a pretty healthy market for some time to come.   \\n\\n \\n\\nStephen Richardson: Thanks very much.   \\n\\n \\n\\nDarren Woods: You're welcome.   \\n\\n \\n\\nOperator: Next, we'll go to Jason Gabelman with Cowen.   \\n\\n \\n\\nJason Gabelman: Hey, good morning.  Thanks for taking my question.  I wanted to ask a question \\n\\nabout your international gas footprint and the maintenance cadence because it seems like, you've \\n\\nmentioned in the slides that gas production is going to be higher than it typically is in 2Q and 3Q, \\n\\nbut you do have higher scheduled maintenance.   \\n\\n \\n\\n So, I'm wondering if any of that maintenance is in the European gas footprint?  And then more \\n\\nbroadly, if you're seeing in the industry in Europe more tempered declines from European gas \\n\\ninto the summer just given where prices are?  And if you expect that to be a feature of the market \\n\\nmoving forward?  Thanks.   \\n\\n \\n\\n\\n\\n \\n \\n\\n  19  \\n\\nDarren Woods: Yeah.  Good morning, Jason.  Yeah, I think you've touched on the point that we made in \\n\\nour second quarter outlook with respect to the seasonality, which historically we've seen going \\n\\ninto the second quarter a significant drop in demand for gas.  And given where the markets are at \\n\\ntoday and the level of inventories around the world, our expectation is we're not going to see the \\n\\nsame level of demand change quarter on quarter.   \\n\\n \\n\\n And we tried to indicate that in our outlook to suggest that we will see the same level of \\n\\nseasonality going forward, I think.  And as I said earlier with response to Jeanine's question, we \\n\\ndo see this market being fairly tight here in the short term.  Obviously, the industry is working hard \\n\\nto supply that.   \\n\\n \\n\\n But the time cycle on investments and bringing additional supply on is fairly long, particularly in \\n\\nthe context of where demand is at today and the tightness in the marketplace.  So, I think that's \\n\\ngoing to continue to be with us for a while.  And as demand declines, I think we'll see supplies \\n\\nstart to move into inventory.   \\n\\n \\n\\n And so, that purchases will move from meeting current demand out in the marketplace to meeting \\n\\nthe demand to fill inventory to make sure that inventories are well positioned as we move through \\n\\nthe summer and then back into the fall and into the winter season that the markets are well \\n\\nsupplied.   \\n\\n \\n\\n And then the final point I'd make there is obviously with what's happening in Ukraine, there is a \\n\\nwildcard there.  That I think most economies and governments around the world are going to \\n\\nmake sure that they're trying to mitigate the potential implications of that supply disruption by \\n\\nhaving good inventory levels.   \\n\\n \\n\\nOperator: All right.  Next, we'll go to Sam Margolin with Wolfe Research.   \\n\\n \\n\\n\\n\\n \\n \\n\\n  20  \\n\\nSam Margolin: Good morning.  How are you?   \\n\\n \\n\\nKathryn Mikells: Good morning.   \\n\\n \\n\\nDarren Woods: Morning, Sam.   \\n\\n \\n\\nSam Margolin: Actually, just a longer-term capital allocation question.  In the context of what's become \\n\\nconventional wisdom that NOCs around the world are very interested in accelerating activity here \\n\\nand bringing new resource to market.  But the majority of NOCs with the exception of a few rely \\n\\non foreign investment and partners like ExxonMobil.   \\n\\n \\n\\n And the industry on the independent operator side has framed a stable spending view over the \\n\\nlong term, which has been something that's been very helpful for investors to have that multiyear \\n\\nCapex range.  So, I'm just wondering your perspective on how that squares, if the industry is \\n\\ngoing to get pulled into the imperative of NOCs to spend more and do more?  Or if you think \\n\\nthese steady ranges of Capex are achievable even within that context?  Thank you.   \\n\\n \\n\\nKathryn Mikells: Sure.  I'm happy to take that, Sam.  So, first of all, I would just remind you that we do \\n\\nhave Capex guidance that's out there.  Obviously, for this year, it's $21 billion to $24 billion.  And \\n\\nwe've talked about through 2027, a range of $20 billion to $25 billion.  Now within that, we always \\n\\ntry to leave ourselves a little bit of room understanding that there's these opportunities that can \\n\\ncome up in the future.   \\n\\n \\n\\n And obviously, we've made some investments in the type of opportunities that you're talking \\n\\nabout in the past.  And by the way, Golden Pass is a JV that we have with foreign investment that \\n\\nsits behind it as well.  So, I'd say, we don't feel any particular pressure.  I'll just reference back to \\n\\nwhat Darren said earlier, which is we spend capital when we have confidence behind the projects \\n\\nand the returns that those projects are going to offer, right.   \\n\\n\\n\\n \\n \\n\\n  21  \\n\\n \\n\\n And we're I'd say very, very disciplined at pressure testing those projects to make sure they're \\n\\nresilient across I'd say a wide set of market environment given the cyclicality that we have in the \\n\\nbusiness.  So, we feel great about the opportunities that stand in front of us right now.   \\n\\n \\n\\n Obviously, we've got low cost-of-supply barrels that we're investing in, be it Guyana or the \\n\\nPermian, Brazil.  Darren mentioned the LNG projects that we're moving forward, which we feel \\n\\nreally good about.  Obviously, we've got in the Product Solutions space, investments that we \\n\\ncontinue to make to support growth in high-value products, right.   \\n\\n \\n\\n And to keep, I'd say optimizing our downstream circuit.  So, we feel good about that.  If there's \\n\\nopportunities where we feel like there's a good return to be earned, we'll certainly look at \\n\\npotentially participating in those opportunities.  But we're going to be very disciplined in our \\n\\napproach as you should expect from us.   \\n\\n \\n\\nDarren Woods: Yeah.  And I would just add to that, Sam.  If you look at the work we've been doing with \\n\\nour organization, the changes that we've made in the structure, consolidation of capabilities \\n\\nacross the corporation, one of the changes we announced on April 1st was a technology \\n\\norganization that combined the technical skills and capabilities and the engineering capabilities \\n\\nacross the corporation.   \\n\\n \\n\\n We've seen really good results doing that in the projects area.  We think we've got a real \\n\\nopportunity in the technology area to realize similar benefits in terms of effectiveness on top of \\n\\nwhatever efficiencies that might come from that work.   \\n\\n \\n\\n And I would say that effectiveness and that concentration of technology and really getting the \\n\\norganization to focus on where we can add unique value and grow competitive advantage is \\n\\n\\n\\n \\n \\n\\n  22  \\n\\ngoing to be a really important part of continuing to be a valued partner with NOCs and others all \\n\\naround the world.   \\n\\n \\n\\n Our strategy here is to make sure that we're an essential partner.  That when NOCs and other \\n\\nresource holders want somebody who can effectively and efficiently develop the resource and do \\n\\nit in a sustainable manner that the first name to come to mind is ExxonMobil.   \\n\\n \\n\\n And that we bring those unique capabilities.  And I would tell you, I have enormous confidence \\n\\nthat that's what's going to happen.  That the things that we can see in the pipeline, the \\n\\nopportunities that we have in front of us to become more effective at what we do, I think are huge.  \\n\\nAnd I'm looking forward just to then leveraging that business opportunities in the future.   \\n\\n \\n\\nOperator: All right.  Next question will come from the line of Biraj Borkhataria with RBC.   \\n\\n \\n\\nBiraj Borkhataria: Hi, thanks for taking my question.  I had a question on Guyana, the fourth FPSO \\n\\nwhich you just sanctioned was a large one, 250,000 barrels a day.  I was just wondering in your \\n\\nbase case plans, are you assuming a similar size for the later FPSOs at that rate?  And if I could \\n\\nadd a second question?   \\n\\n \\n\\n A few days ago, there was an announcement from the DOE around additional export capacity \\n\\nfrom Golden Pass.  I was wondering if you could just help me understand whether that was just \\n\\nan administrative thing, whether that was you sort of relooking at the project or is there some kind \\n\\nof future proofing ahead of debottlenecking there?  Thank you.   \\n\\n \\n\\nDarren Woods: Yeah, sure.  On Guyana, Biraj, I would tell you that as you know, we are having a \\n\\ntremendous success with respect to discoveries there and the characterization of that resource.  \\n\\nAnd I would just say that our teams have been very focused on making sure we have a good \\n\\ncharacterization of that resource, which will then be a really important part of how we choose to \\n\\n\\n\\n \\n \\n\\n  23  \\n\\ndevelop that resource in a cost-effective way to make sure that the cost of supply, and obviously \\n\\nthe returns for those projects lead the industry.   \\n\\n \\n\\n And so, as we look at these bigger production facilities make a lot of sense when you have the \\n\\nresource to support them because it brings your unit cost down, brings down your cost of supply.  \\n\\nAs we look at extending those developments in other areas of the resource base, it'll be a \\n\\nfunction of what we find.   \\n\\n \\n\\n But I would say we would lean towards these larger developments.  And we'll obviously lean \\n\\ntowards extending some of the current developments that we have in taking advantage of \\n\\nwhatever synergies we might have with those facilities.  And so, I wouldn't say there's a single \\n\\nrecipe here.   \\n\\n \\n\\n It's really tailoring the recipe to make sure that it's optimized for the development opportunities \\n\\nthat we've got in front of us.  And that's going to evolve as we better characterize the resource \\n\\nbase.  And I will just say with respect to Golden Pass, that project and the work that we're doing \\n\\nthere, we feel good about the progress that we're making.  And we're on schedule.  The concept \\n\\nthere is not changing.   \\n\\n \\n\\nBiraj Borkhataria: Okay, thank you.   \\n\\n \\n\\nOperator: Next, we'll go to Roger Read with Wells Fargo.   \\n\\n \\n\\nRoger Read: Yeah.  Thank you.  Good morning.   \\n\\n \\n\\nKathryn Mikells: Good morning.   \\n\\n \\n\\nDarren Woods:  Morning.   \\n\\n\\n\\n \\n \\n\\n  24  \\n\\n \\n\\nRoger Read: Maybe to come back a little bit to the Guyana question.  And I wanted to clarify one thing \\n\\nthere, and then maybe just a contrast to your Permian operations given Permian production is \\n\\nhigher today, but Guyana resource is probably larger.  As we think about the 11 billion barrels of \\n\\nresource, should we assume that's exclusively oil at this point?   \\n\\n \\n\\n That's been our baseline given the type of production coming out.  And then how should we think \\n\\nabout the long-term gas situation there, the opportunity?  And when I said versus the Permian, \\n\\nI'm thinking about those two as we look to the middle and latter part of the decade?   \\n\\n \\n\\nDarren Woods: Yeah.  Good morning, Roger.  I would say the resource is a mix.  And then depending on \\n\\nwhere you're at within the Stabroek Block, that mix changes.  Our development priorities is \\n\\nweighted toward liquid.  So, I think what you'll see in our plans and the way we talk about it is \\n\\nthere's a bias toward liquid today.   \\n\\n \\n\\n And then with time, we'll see how those developments evolve.  We're doing some things with the \\n\\nGovernment of Guyana to bring gas onshore to help deliver more cost-efficient and \\n\\nenvironmentally-better power to the people of Guyana, and give them a much lower-cost energy \\n\\nsource, and a much cleaner energy source.   \\n\\n \\n\\n And so, there is some development gas in that space.  But I would say generally liquids weighted.  \\n\\nAnd obviously, as we move through the field and run the economics, we'll develop the resources \\n\\nthat optimize capital and grow returns.   \\n\\n \\n\\nRoger Read: Thank you.   \\n\\n \\n\\nOperator: All right.  The next question will come from the line of Ryan Todd with Piper Sandler.   \\n\\n \\n\\n\\n\\n \\n \\n\\n  25  \\n\\nRyan Todd: Good.  Thanks.  Maybe one on capital allocation.  As we think about your capital budget, \\n\\nso, it's not just for this year, but over the next few years and the range that you have within those \\n\\nbudgets.  Should we think about that range as primarily driven by timing or is there a possibility \\n\\nthat higher commodity prices -- should we think about maybe pushing towards the higher end of \\n\\nthe range through some combination of inflation or are there opportunities in the portfolio to \\n\\ndeploy a little additional organic capital, whether it's on short or mid-cycle in-fill drilling, tieback \\n\\nopportunities?  Does the higher commodity price open up the door to a little extra capital \\n\\ndeployment opportunity there?   \\n\\n \\n\\nDarren Woods: Yeah.  I'll just start off.  And then pass it to Kathy for any additional comments.  But I think \\n\\nthe short answer is no.  And I think we have tried to emphasize looking through the cycles, \\n\\nlooking at the long term and making sure that the investments that we make are robust to the \\n\\nwhole of the cycle.  You'll remember, we were investing pretty heavily when prices were down in \\n\\nanticipation of longer-term fundamentals.   \\n\\n \\n\\n I would say, while we're in a very tight market today, we're not going to let that distract us from \\n\\nour focus of making sure that we have low cost of supply, industry-leading advantaged projects.  \\n\\nAnd so, that remains the focus.   \\n\\n \\n\\n On the short cycle stuff, I think to the extent that we stay within our competitively-advantaged \\n\\napproach and the manufacturing processes that we set in and the boundaries that we set with \\n\\nrespect to the facilities that we've built and pre-invested in, we'll continue to optimize around that.   \\n\\n \\n\\n But we're not going to go outside of that broader strategy of the long-ball game that we're playing \\n\\nin the Permian and in the unconventional space.   \\n\\n \\n\\n\\n\\n \\n \\n\\n  26  \\n\\nKathryn Mikells: Yeah.  And I would say, certainly timing over what's a relatively long-term period is \\n\\nsomething that we're trying to give a little flexibility for.  I'd actually point to what we talked about \\n\\non the Payara Guyana project.  Originally, we said that was going to start up in 2024.   \\n\\n \\n\\n And now, we're saying, we think it's likely it'll start up at the end of 2023.  So, that would be an \\n\\nexample of we have initial planning that we do.  But obviously, accelerating projects if we can \\n\\nbring them in a shorter timeframe.  And obviously, on or under budget is something we're always \\n\\nfocused on.   \\n\\n \\n\\nRyan Todd: Good.  Thank you.   \\n\\n \\n\\nDarren Woods: You're welcome.   \\n\\n \\n\\nOperator: Next, we'll go to Paul Cheng with Scotiabank.   \\n\\n \\n\\nPaul Cheng: Thank you.  Hi, good morning.   \\n\\n \\n\\nDarren Woods: Good morning.   \\n\\n \\n\\nKathryn Mikells:  Good morning.   \\n\\n \\n\\nPaul Cheng: First, hopefully that also I won't use my quota if I want to complement IR for the new \\n\\nformat on the call as well as the increased disclosure.  I really appreciate.  I have to apologize \\n\\nfirst because I want to go back into the inflation question.  Kathy, if we're looking on for your next \\n\\nseveral years, do you have a number you can share?  What percent of your Capex that pretty \\n\\nmuch that have some pretty fixed pricing?   \\n\\n \\n\\n\\n\\n \\n \\n\\n  27  \\n\\n And what percent is going to be subject to the inflation factor?  And also in your presentation, you \\n\\ntalked about the 3% off cycle compensation adjustment.  Could you quantify how big is that \\n\\nnumber for us?  Thank you.   \\n\\n \\n\\nKathryn Mikells: Sure.  So, overall, I think we talked a little bit about inflation on Capex.  And the fact \\n\\nthat certainly in the near term, we're feeling pretty good because we did a lot of work during the \\n\\npandemic.  So, we had paused some projects.  And during the pandemic, we did a lot of work to \\n\\nactually put the contracts in place.   \\n\\n \\n\\n Like, finish the engineering and put the contracts in place at a point where I'd say there were \\n\\nsome deflationary pressures in the market.  So, as it relates to our overall capital projects, we feel \\n\\npretty good over the next couple of years.  And obviously strategically, the timing of when we do \\n\\nthe engineering, when we go out to procurement is something that we're always looking at and \\n\\ntaking into consideration.   \\n\\n \\n\\n And then, I mentioned the fact that doing our own procurement globally to make sure that we're \\n\\ngetting globally-competitive bids is something else we do.  We do spend a lot of money over the \\n\\nyears as we're looking forward on the boats associated with the Guyana development.   \\n\\n \\n\\n And again, we approach that in a really strategic manner.  So, that we're managing those projects \\n\\nto the lowest cost, getting the specific design that we need.  So, that's how I would really discuss \\n\\nwhat's happening with regard to inflation.   \\n\\n \\n\\nDarren Woods: Yeah.  And I would just add that the salary action that we announced this morning we're \\n\\ntaking won't be material in the analysis that you're doing, Paul.  Our intention would be to \\n\\ncontinue to deliver on the efficiencies that we had projected in our plan.   \\n\\n \\n\\nPaul Cheng: All right.  Thank you.   \\n\\n\\n\\n \\n \\n\\n  28  \\n\\n \\n\\nOperator: Next, we'll go to Manav Gupta with Credit Suisse.   \\n\\n \\n\\nManav Gupta: I have a very quick question here is at the start of the call, you indicated that Asian \\n\\nchemical margins are below mid cycle.  And I just want to understand generally, when crude \\n\\nmoves up, there is support for commodity prices.  So, there's two equations going on here, some \\n\\ncapacity coming on, but crude is also moving up.   \\n\\n \\n\\n So, do you expect the margins to remain below mid cycle for some time or do you think that \\n\\nhigher crude could actually push up the ethylene margins and stuff in the non-US region on a go-\\n\\nforward basis?  Thank you.   \\n\\n \\n\\nDarren Woods: Sure.  Yeah, I think it's an unusual time we've got in the chemicals market just because \\n\\nwe see a level of dislocation between what's happening in Asia, and what we see happening in \\n\\nthe Atlantic Basin.  I think we made reference in the comments that our North America footprint in \\n\\nchemical and the ethane advantage that we have has actually helped to mitigate this broader \\n\\ndownturn that we're seeing with the global chemical markets, which are heavily weighted to -- or \\n\\nweighted towards the downturn that we're seeing in Asia.   \\n\\n \\n\\n And I think as you look at crude prices coming up and the marginal supply and olefins being \\n\\nliquids cracker and naphtha feed, that as that crude price goes up, your feed goes up.  Your \\n\\nnaphtha feed goes up.  And so, you've got cost increases on your feed.  And because of some of \\n\\nthe logistics constraints and the ability to connect the market's demand is somewhat dislocated.   \\n\\n \\n\\n And so, you've got oversupply in a market like China, where you see some of the demand coming \\n\\noff with the lockdowns and the logistics constraints.  So, I think, we're in a unique period right \\n\\nnow, where you're seeing some regional imbalances and the inability to close those imbalances \\n\\nthrough logistics and transportation.   \\n\\n\\n\\n \\n \\n\\n  29  \\n\\n \\n\\n It's difficult to say how long it's going to last.  But I think ultimately as markets open up, we'll see \\n\\nthose equilibrate.  Again, I think if crude remains high, my suspicion is that ethane and ethane \\n\\ncracking will continue to be advantaged.  And then that will obviously move as crude prices move \\n\\nwith respect to gas prices.   \\n\\n \\n\\nManav Gupta: Thank you.   \\n\\n \\n\\nDarren Woods: You're welcome.   \\n\\n \\n\\nOperator: Your next question comes from the line of Lucas Herrmann with Exane.   \\n\\n \\n\\nLucas Herrmann: Darren, thanks very much for the opportunity.  I just wanted to return to Golden Pass \\n\\nif I might, and a couple of aspects to the question.  The first is just, can you expand on the \\n\\nmarketing approach, and how you intend placing volume?  It's a very large project.   \\n\\n \\n\\n But it's a project, which to the best of my knowledge has very little by way of contracts at this \\n\\ntime.  So, to what extent yourself and your partner QP will -- how you'll be looking to market \\n\\nproduct?  And just can you give us some indication on the phasing of the startup of the three \\n\\ntrains?   \\n\\n \\n\\n I presume when you talk about 2024 startup, that the first train, I guess I'd expect four to six \\n\\nmonths or so between the startup of each subsequent trains.  But any guidance you can give \\n\\nthere would be helpful?  Thank you.   \\n\\n \\n\\nDarren Woods: Sure, yeah.  Good morning, Lucas.  Yeah, just to start on the backend of your question.  \\n\\nYou're right.  Train one is we expect to start up in 2024, and then the remaining trains in 2025.  \\n\\n\\n\\n \\n \\n\\n  30  \\n\\nAnd the strategic drive behind that investment and that supply point was really getting a balanced \\n\\nglobal footprint with respect to LNG supply.   \\n\\n \\n\\n And so, that Golden Pass facility gives us an anchor point within the Americas to take advantage \\n\\nof the US gas market and the developments that we've seen there and the supply potential that \\n\\nwe see in US gas.  And so, that forms a really important anchor supply point.   \\n\\n \\n\\n And we intend to use that with a bit of the trading business that we're growing in LNG and use it \\n\\nas an ability to trade and often times bridge some of our other LNG projects are being developed \\n\\nto bridge and supply between those projects to allow us to optimize and make commitments for \\n\\nprojects with flexibility in terms of using Golden Pass as a supply point.   \\n\\n \\n\\n And then to also just trade in the spot market.  So, I think it's going to give us a lot of flexibility to \\n\\nsupplement our longer-term contracts for our bigger projects, but to also participate in the spot \\n\\nmarket.   \\n\\n \\n\\nLucas Herrmann: So, there's no intent to contract some of the volume in what could be a very \\n\\nconstructive market for pricing over the next two to three years for those who have supply coming \\n\\non this near term?   \\n\\n \\n\\nDarren Woods: I would tell you that the LNG organization is going to basically develop that portfolio in a \\n\\nway that they think maximizes the value of it.  So, I wouldn't take anything off the table.  I'm \\n\\nsuggesting that we've got a lot of optionality and flexibility.  And the expectation is the LNG \\n\\nbusiness and the individual running that, take advantage of that flexibility to maximize the value.  \\n\\nThat's how I would characterize it.   \\n\\n \\n\\nLucas Herrmann: Darren, thanks very much.   \\n\\n \\n\\n\\n\\n \\n \\n\\n  31  \\n\\nDarren Woods: You're welcome.   \\n\\n \\n\\nOperator: And it looks like we have time for one more question.  So, we'll take that from Neal \\n\\nDingmann with Truist Securities.   \\n\\n \\n\\nNeal Dingmann: Thank you all.  Thanks for squeezing me in.  And my question is on the Permian.  \\n\\nJust wondering, I'm currently seeing you all running somewhere around 16 rigs and five spreads.  \\n\\nI'm just wondering, will this continue to be around the level of activity needed in order to achieve \\n\\nthat?   \\n\\n \\n\\n I think your goal is around that 25% year-over-year Permian growth plans.  And I was just also \\n\\nwondering if you could talk about maybe just broadly the degree of inflation you're just currently \\n\\nseeing there?   \\n\\n \\n\\nDarren Woods: Yeah, I would tell you that.  The plan that we had and we've talked about with respect to \\n\\nthe Permian specifically is somewhere between 10 and 12 rigs, and then six to eight frac crews, \\n\\nsomething like that.  And we're basically I think in line with that plan right now.   \\n\\n \\n\\n And a part of that is making sure that the developments that we're pursuing are consistent with \\n\\nthe base infrastructure, the technology, and the capital efficiency approaches that we've built into \\n\\nthat development.  That tends to drive what we're doing there.  I think Kathy has touched on.   \\n\\n \\n\\n We again had anticipated the market recovery and some of the tightness.  And so, we had \\n\\ndeveloped some contracting strategies and partnering with suppliers to try to mitigate that impact.  \\n\\nThat's paying off.  We're seeing that advantage here in the Permian.  Eventually, that obviously \\n\\nwill roll off.   \\n\\n \\n\\n\\n\\n \\n \\n\\n  32  \\n\\n Some of the consumables and some of the labor tightness that we're seeing in the Permian, \\n\\nobviously that's starting to impact us as well.  So, we are seeing inflationary pressures.  The \\n\\nexpectation is that we’ll continue to grow as the work activity opens up and as some of the \\n\\nlogistics constraints get resolved.   \\n\\n \\n\\n And basically, we've challenged the team to try to manage that.  And to make sure that as we \\n\\nlook at progressing development and grow that production that we're doing it in a constructive \\n\\nway, and not undermining the cost of supply or the advantaged position of those barrels, where \\n\\nthey sit in the cost of supply curve for the industry.   \\n\\n \\n\\n So, I think this disciplined approach that we've talked about is not so much a spend.  But in terms \\n\\nof efficiency and making sure that everything, that every dollar we spend there is productive.  And \\n\\nthe challenge for that team is to make sure we don't lose productivity and the capital that we're \\n\\nspending.   \\n\\n \\n\\nNeal Dingmann: Well said.  Thanks, Darren.   \\n\\n \\n\\nDarren Woods: Yeah.   \\n\\n \\n\\nJennifer Driscoll: Thanks, Darren.  And thanks, everybody for your time, and for your questions this \\n\\nmorning.  We appreciate that.  We will post the transcript of the call on our investor website early \\n\\nnext week.  Have a great weekend.  Thanks.   \\n\\n \\n\\nOperator: And that concludes today's conference.  We thank everyone again for their participation.   \\n\\n \\n\\n\\n\""
            ],
            "application/vnd.google.colaboratory.intrinsic+json": {
              "type": "string"
            }
          },
          "metadata": {},
          "execution_count": 214
        }
      ]
    },
    {
      "cell_type": "markdown",
      "source": [
        "look at that! we're beginning to give some structure to our text data. But suppose I wanted to analyze multiple earnings calls; I need to organize this data so that it can accomodate new entries. As always, we want to **tabularize** our data. Let's create a dataframe with three columns (Date, Title, and Text) in which each row is one earnings call:"
      ],
      "metadata": {
        "id": "UPC9xxqr8dji"
      }
    },
    {
      "cell_type": "code",
      "source": [
        "# create a dataframe using the above data \n",
        "call=pd.DataFrame({'Date':[date],'Title':[title],'Text':[raw_text]})\n",
        "\n",
        "# remember, datetime information almost always reaches us as text. \n",
        "# we need to explicitly convert it to the datetime data type. \n",
        "call['Date']=pd.to_datetime(call['Date'], infer_datetime_format=True)\n",
        "\n",
        "# Let's see what we've got.\n",
        "call"
      ],
      "metadata": {
        "colab": {
          "base_uri": "https://localhost:8080/",
          "height": 81
        },
        "id": "QgbT-rjW7-Y4",
        "outputId": "a507b15a-396b-40b9-86ca-dfcc085c160d"
      },
      "execution_count": 215,
      "outputs": [
        {
          "output_type": "execute_result",
          "data": {
            "text/plain": [
              "                 Date                                      Title  \\\n",
              "0 2022-05-04 16:51:56  1Q22 XOM Earnings Call Transcript 4-29-22   \n",
              "\n",
              "                                                Text  \n",
              "0  \\n\\n\\n\\n\\n\\n\\n\\n\\n\\n\\n\\n\\n\\n\\n\\n\\n\\n\\n\\n\\n\\n\\n...  "
            ],
            "text/html": [
              "\n",
              "  <div id=\"df-a2b30114-c7cf-483a-ac6b-e253702591e1\">\n",
              "    <div class=\"colab-df-container\">\n",
              "      <div>\n",
              "<style scoped>\n",
              "    .dataframe tbody tr th:only-of-type {\n",
              "        vertical-align: middle;\n",
              "    }\n",
              "\n",
              "    .dataframe tbody tr th {\n",
              "        vertical-align: top;\n",
              "    }\n",
              "\n",
              "    .dataframe thead th {\n",
              "        text-align: right;\n",
              "    }\n",
              "</style>\n",
              "<table border=\"1\" class=\"dataframe\">\n",
              "  <thead>\n",
              "    <tr style=\"text-align: right;\">\n",
              "      <th></th>\n",
              "      <th>Date</th>\n",
              "      <th>Title</th>\n",
              "      <th>Text</th>\n",
              "    </tr>\n",
              "  </thead>\n",
              "  <tbody>\n",
              "    <tr>\n",
              "      <th>0</th>\n",
              "      <td>2022-05-04 16:51:56</td>\n",
              "      <td>1Q22 XOM Earnings Call Transcript 4-29-22</td>\n",
              "      <td>\\n\\n\\n\\n\\n\\n\\n\\n\\n\\n\\n\\n\\n\\n\\n\\n\\n\\n\\n\\n\\n\\n\\n...</td>\n",
              "    </tr>\n",
              "  </tbody>\n",
              "</table>\n",
              "</div>\n",
              "      <button class=\"colab-df-convert\" onclick=\"convertToInteractive('df-a2b30114-c7cf-483a-ac6b-e253702591e1')\"\n",
              "              title=\"Convert this dataframe to an interactive table.\"\n",
              "              style=\"display:none;\">\n",
              "        \n",
              "  <svg xmlns=\"http://www.w3.org/2000/svg\" height=\"24px\"viewBox=\"0 0 24 24\"\n",
              "       width=\"24px\">\n",
              "    <path d=\"M0 0h24v24H0V0z\" fill=\"none\"/>\n",
              "    <path d=\"M18.56 5.44l.94 2.06.94-2.06 2.06-.94-2.06-.94-.94-2.06-.94 2.06-2.06.94zm-11 1L8.5 8.5l.94-2.06 2.06-.94-2.06-.94L8.5 2.5l-.94 2.06-2.06.94zm10 10l.94 2.06.94-2.06 2.06-.94-2.06-.94-.94-2.06-.94 2.06-2.06.94z\"/><path d=\"M17.41 7.96l-1.37-1.37c-.4-.4-.92-.59-1.43-.59-.52 0-1.04.2-1.43.59L10.3 9.45l-7.72 7.72c-.78.78-.78 2.05 0 2.83L4 21.41c.39.39.9.59 1.41.59.51 0 1.02-.2 1.41-.59l7.78-7.78 2.81-2.81c.8-.78.8-2.07 0-2.86zM5.41 20L4 18.59l7.72-7.72 1.47 1.35L5.41 20z\"/>\n",
              "  </svg>\n",
              "      </button>\n",
              "      \n",
              "  <style>\n",
              "    .colab-df-container {\n",
              "      display:flex;\n",
              "      flex-wrap:wrap;\n",
              "      gap: 12px;\n",
              "    }\n",
              "\n",
              "    .colab-df-convert {\n",
              "      background-color: #E8F0FE;\n",
              "      border: none;\n",
              "      border-radius: 50%;\n",
              "      cursor: pointer;\n",
              "      display: none;\n",
              "      fill: #1967D2;\n",
              "      height: 32px;\n",
              "      padding: 0 0 0 0;\n",
              "      width: 32px;\n",
              "    }\n",
              "\n",
              "    .colab-df-convert:hover {\n",
              "      background-color: #E2EBFA;\n",
              "      box-shadow: 0px 1px 2px rgba(60, 64, 67, 0.3), 0px 1px 3px 1px rgba(60, 64, 67, 0.15);\n",
              "      fill: #174EA6;\n",
              "    }\n",
              "\n",
              "    [theme=dark] .colab-df-convert {\n",
              "      background-color: #3B4455;\n",
              "      fill: #D2E3FC;\n",
              "    }\n",
              "\n",
              "    [theme=dark] .colab-df-convert:hover {\n",
              "      background-color: #434B5C;\n",
              "      box-shadow: 0px 1px 3px 1px rgba(0, 0, 0, 0.15);\n",
              "      filter: drop-shadow(0px 1px 2px rgba(0, 0, 0, 0.3));\n",
              "      fill: #FFFFFF;\n",
              "    }\n",
              "  </style>\n",
              "\n",
              "      <script>\n",
              "        const buttonEl =\n",
              "          document.querySelector('#df-a2b30114-c7cf-483a-ac6b-e253702591e1 button.colab-df-convert');\n",
              "        buttonEl.style.display =\n",
              "          google.colab.kernel.accessAllowed ? 'block' : 'none';\n",
              "\n",
              "        async function convertToInteractive(key) {\n",
              "          const element = document.querySelector('#df-a2b30114-c7cf-483a-ac6b-e253702591e1');\n",
              "          const dataTable =\n",
              "            await google.colab.kernel.invokeFunction('convertToInteractive',\n",
              "                                                     [key], {});\n",
              "          if (!dataTable) return;\n",
              "\n",
              "          const docLinkHtml = 'Like what you see? Visit the ' +\n",
              "            '<a target=\"_blank\" href=https://colab.research.google.com/notebooks/data_table.ipynb>data table notebook</a>'\n",
              "            + ' to learn more about interactive tables.';\n",
              "          element.innerHTML = '';\n",
              "          dataTable['output_type'] = 'display_data';\n",
              "          await google.colab.output.renderOutput(dataTable, element);\n",
              "          const docLink = document.createElement('div');\n",
              "          docLink.innerHTML = docLinkHtml;\n",
              "          element.appendChild(docLink);\n",
              "        }\n",
              "      </script>\n",
              "    </div>\n",
              "  </div>\n",
              "  "
            ]
          },
          "metadata": {},
          "execution_count": 215
        }
      ]
    },
    {
      "cell_type": "markdown",
      "source": [
        "Now, if we were so inclined, we could use a loop to repeat this process for a large number of earnings calls, yielding a neatly organized dataframe containing the date, title, and text of earnings calls over time. I've done this so you don't have to, and stored it as a file called \"Exxon.json\". It spans 2002-2019, and contains over 10 million words' worth of earnings calls. Let's take a peek:"
      ],
      "metadata": {
        "id": "Br3d1ibYBQYc"
      }
    },
    {
      "cell_type": "code",
      "source": [
        "df=pd.read_json('data/wk4/Exxon.json')\n",
        "df"
      ],
      "metadata": {
        "colab": {
          "base_uri": "https://localhost:8080/",
          "height": 424
        },
        "id": "ZAcADSi_BRUX",
        "outputId": "6987c8b9-0c77-4094-f1fa-37b7b978582d"
      },
      "execution_count": 428,
      "outputs": [
        {
          "output_type": "execute_result",
          "data": {
            "text/plain": [
              "                                                 Title       Date  \\\n",
              "0    Exxon  Mobil Corp at Barclays CEO EnergyPower ... 2019-09-04   \n",
              "1     Q2 2019  Exxon  Mobil Corp Earnings Call - Final 2019-08-02   \n",
              "2    Event Brief of Q2 2019  Exxon  Mobil Corp Earn... 2019-08-02   \n",
              "3    Exxon  Mobil Corp at JPMorgan Energy Conferenc... 2019-06-18   \n",
              "4    Exxon  Mobil Corp Annual Shareholders Meeting ... 2019-05-29   \n",
              "..                                                 ...        ...   \n",
              "177  Event Brief of Q3 2002  Exxon  Mobil Corporati... 2002-10-31   \n",
              "178  Q3 2002  Exxon  Mobil Corporation Earnings Con... 2002-10-31   \n",
              "179  Q2 2002  Exxon  Mobil Corporation Earnings Con... 2002-08-01   \n",
              "180  Abstract of Q2 2002  Exxon  Mobil Corporation ... 2002-08-01   \n",
              "181  Exxon  Mobil Corporation First Quarter 2002 Re... 2002-04-23   \n",
              "\n",
              "                                                  Text  \n",
              "0    Mr. Woods joined ExxonMobil International in 1...  \n",
              "1    NEIL A. HANSEN, VP OF IR & SECRETARY, EXXON MO...  \n",
              "2    . Neil A. Hansen - Exxon Mobil Corporation,VP ...  \n",
              "3    So with that, I'll turn it over to you. Thank ...  \n",
              "4    DARREN W. WOODS, CHAIRMAN & CEO, EXXON MOBIL C...  \n",
              "..                                                 ...  \n",
              "177  OVERVIEW \\n\\n XOM reported normalized earnings...  \n",
              "178  In particular, I refer you to factors affectin...  \n",
              "179  Welcome to Exxon Mobil's teleconference and we...  \n",
              "180  OVERVIEW \\n\\n XOM: 2Q02 net income was $2.64b....  \n",
              "181  We also signed a memorandum of understanding t...  \n",
              "\n",
              "[182 rows x 3 columns]"
            ],
            "text/html": [
              "\n",
              "  <div id=\"df-75f3b6a7-a9d8-4746-a8d1-812275d72ea4\">\n",
              "    <div class=\"colab-df-container\">\n",
              "      <div>\n",
              "<style scoped>\n",
              "    .dataframe tbody tr th:only-of-type {\n",
              "        vertical-align: middle;\n",
              "    }\n",
              "\n",
              "    .dataframe tbody tr th {\n",
              "        vertical-align: top;\n",
              "    }\n",
              "\n",
              "    .dataframe thead th {\n",
              "        text-align: right;\n",
              "    }\n",
              "</style>\n",
              "<table border=\"1\" class=\"dataframe\">\n",
              "  <thead>\n",
              "    <tr style=\"text-align: right;\">\n",
              "      <th></th>\n",
              "      <th>Title</th>\n",
              "      <th>Date</th>\n",
              "      <th>Text</th>\n",
              "    </tr>\n",
              "  </thead>\n",
              "  <tbody>\n",
              "    <tr>\n",
              "      <th>0</th>\n",
              "      <td>Exxon  Mobil Corp at Barclays CEO EnergyPower ...</td>\n",
              "      <td>2019-09-04</td>\n",
              "      <td>Mr. Woods joined ExxonMobil International in 1...</td>\n",
              "    </tr>\n",
              "    <tr>\n",
              "      <th>1</th>\n",
              "      <td>Q2 2019  Exxon  Mobil Corp Earnings Call - Final</td>\n",
              "      <td>2019-08-02</td>\n",
              "      <td>NEIL A. HANSEN, VP OF IR &amp; SECRETARY, EXXON MO...</td>\n",
              "    </tr>\n",
              "    <tr>\n",
              "      <th>2</th>\n",
              "      <td>Event Brief of Q2 2019  Exxon  Mobil Corp Earn...</td>\n",
              "      <td>2019-08-02</td>\n",
              "      <td>. Neil A. Hansen - Exxon Mobil Corporation,VP ...</td>\n",
              "    </tr>\n",
              "    <tr>\n",
              "      <th>3</th>\n",
              "      <td>Exxon  Mobil Corp at JPMorgan Energy Conferenc...</td>\n",
              "      <td>2019-06-18</td>\n",
              "      <td>So with that, I'll turn it over to you. Thank ...</td>\n",
              "    </tr>\n",
              "    <tr>\n",
              "      <th>4</th>\n",
              "      <td>Exxon  Mobil Corp Annual Shareholders Meeting ...</td>\n",
              "      <td>2019-05-29</td>\n",
              "      <td>DARREN W. WOODS, CHAIRMAN &amp; CEO, EXXON MOBIL C...</td>\n",
              "    </tr>\n",
              "    <tr>\n",
              "      <th>...</th>\n",
              "      <td>...</td>\n",
              "      <td>...</td>\n",
              "      <td>...</td>\n",
              "    </tr>\n",
              "    <tr>\n",
              "      <th>177</th>\n",
              "      <td>Event Brief of Q3 2002  Exxon  Mobil Corporati...</td>\n",
              "      <td>2002-10-31</td>\n",
              "      <td>OVERVIEW \\n\\n XOM reported normalized earnings...</td>\n",
              "    </tr>\n",
              "    <tr>\n",
              "      <th>178</th>\n",
              "      <td>Q3 2002  Exxon  Mobil Corporation Earnings Con...</td>\n",
              "      <td>2002-10-31</td>\n",
              "      <td>In particular, I refer you to factors affectin...</td>\n",
              "    </tr>\n",
              "    <tr>\n",
              "      <th>179</th>\n",
              "      <td>Q2 2002  Exxon  Mobil Corporation Earnings Con...</td>\n",
              "      <td>2002-08-01</td>\n",
              "      <td>Welcome to Exxon Mobil's teleconference and we...</td>\n",
              "    </tr>\n",
              "    <tr>\n",
              "      <th>180</th>\n",
              "      <td>Abstract of Q2 2002  Exxon  Mobil Corporation ...</td>\n",
              "      <td>2002-08-01</td>\n",
              "      <td>OVERVIEW \\n\\n XOM: 2Q02 net income was $2.64b....</td>\n",
              "    </tr>\n",
              "    <tr>\n",
              "      <th>181</th>\n",
              "      <td>Exxon  Mobil Corporation First Quarter 2002 Re...</td>\n",
              "      <td>2002-04-23</td>\n",
              "      <td>We also signed a memorandum of understanding t...</td>\n",
              "    </tr>\n",
              "  </tbody>\n",
              "</table>\n",
              "<p>182 rows × 3 columns</p>\n",
              "</div>\n",
              "      <button class=\"colab-df-convert\" onclick=\"convertToInteractive('df-75f3b6a7-a9d8-4746-a8d1-812275d72ea4')\"\n",
              "              title=\"Convert this dataframe to an interactive table.\"\n",
              "              style=\"display:none;\">\n",
              "        \n",
              "  <svg xmlns=\"http://www.w3.org/2000/svg\" height=\"24px\"viewBox=\"0 0 24 24\"\n",
              "       width=\"24px\">\n",
              "    <path d=\"M0 0h24v24H0V0z\" fill=\"none\"/>\n",
              "    <path d=\"M18.56 5.44l.94 2.06.94-2.06 2.06-.94-2.06-.94-.94-2.06-.94 2.06-2.06.94zm-11 1L8.5 8.5l.94-2.06 2.06-.94-2.06-.94L8.5 2.5l-.94 2.06-2.06.94zm10 10l.94 2.06.94-2.06 2.06-.94-2.06-.94-.94-2.06-.94 2.06-2.06.94z\"/><path d=\"M17.41 7.96l-1.37-1.37c-.4-.4-.92-.59-1.43-.59-.52 0-1.04.2-1.43.59L10.3 9.45l-7.72 7.72c-.78.78-.78 2.05 0 2.83L4 21.41c.39.39.9.59 1.41.59.51 0 1.02-.2 1.41-.59l7.78-7.78 2.81-2.81c.8-.78.8-2.07 0-2.86zM5.41 20L4 18.59l7.72-7.72 1.47 1.35L5.41 20z\"/>\n",
              "  </svg>\n",
              "      </button>\n",
              "      \n",
              "  <style>\n",
              "    .colab-df-container {\n",
              "      display:flex;\n",
              "      flex-wrap:wrap;\n",
              "      gap: 12px;\n",
              "    }\n",
              "\n",
              "    .colab-df-convert {\n",
              "      background-color: #E8F0FE;\n",
              "      border: none;\n",
              "      border-radius: 50%;\n",
              "      cursor: pointer;\n",
              "      display: none;\n",
              "      fill: #1967D2;\n",
              "      height: 32px;\n",
              "      padding: 0 0 0 0;\n",
              "      width: 32px;\n",
              "    }\n",
              "\n",
              "    .colab-df-convert:hover {\n",
              "      background-color: #E2EBFA;\n",
              "      box-shadow: 0px 1px 2px rgba(60, 64, 67, 0.3), 0px 1px 3px 1px rgba(60, 64, 67, 0.15);\n",
              "      fill: #174EA6;\n",
              "    }\n",
              "\n",
              "    [theme=dark] .colab-df-convert {\n",
              "      background-color: #3B4455;\n",
              "      fill: #D2E3FC;\n",
              "    }\n",
              "\n",
              "    [theme=dark] .colab-df-convert:hover {\n",
              "      background-color: #434B5C;\n",
              "      box-shadow: 0px 1px 3px 1px rgba(0, 0, 0, 0.15);\n",
              "      filter: drop-shadow(0px 1px 2px rgba(0, 0, 0, 0.3));\n",
              "      fill: #FFFFFF;\n",
              "    }\n",
              "  </style>\n",
              "\n",
              "      <script>\n",
              "        const buttonEl =\n",
              "          document.querySelector('#df-75f3b6a7-a9d8-4746-a8d1-812275d72ea4 button.colab-df-convert');\n",
              "        buttonEl.style.display =\n",
              "          google.colab.kernel.accessAllowed ? 'block' : 'none';\n",
              "\n",
              "        async function convertToInteractive(key) {\n",
              "          const element = document.querySelector('#df-75f3b6a7-a9d8-4746-a8d1-812275d72ea4');\n",
              "          const dataTable =\n",
              "            await google.colab.kernel.invokeFunction('convertToInteractive',\n",
              "                                                     [key], {});\n",
              "          if (!dataTable) return;\n",
              "\n",
              "          const docLinkHtml = 'Like what you see? Visit the ' +\n",
              "            '<a target=\"_blank\" href=https://colab.research.google.com/notebooks/data_table.ipynb>data table notebook</a>'\n",
              "            + ' to learn more about interactive tables.';\n",
              "          element.innerHTML = '';\n",
              "          dataTable['output_type'] = 'display_data';\n",
              "          await google.colab.output.renderOutput(dataTable, element);\n",
              "          const docLink = document.createElement('div');\n",
              "          docLink.innerHTML = docLinkHtml;\n",
              "          element.appendChild(docLink);\n",
              "        }\n",
              "      </script>\n",
              "    </div>\n",
              "  </div>\n",
              "  "
            ]
          },
          "metadata": {},
          "execution_count": 428
        }
      ]
    },
    {
      "cell_type": "markdown",
      "source": [
        "Great-- we've got a structured dataset of earnings calls. But even though the data has *structure*, the data in the \"Text\" column still needs some cleaning and processing. "
      ],
      "metadata": {
        "id": "BsEn8Sq_BqVu"
      }
    },
    {
      "cell_type": "markdown",
      "source": [
        "## Dirty Words\n",
        "\n",
        "Text often comes 'unclean' either containing tags such as HTML (or XML), or has other issues.\n",
        "We've already done a bit of tidying, but it's been relatively straightforward. Be cautious when committing to a text analysis project - you may spend a great deal of time tidying up your text. \n",
        "\n",
        "For example, you may have noticed \"\\n\\n\\n\\n\\n\\n\\n\\n...\" in the text of the first earnings call we downloaded. This is a character (just like \"a\" or \"$\") except it indicates that we want to create a new line. It's part of the formatting of the pdf. That's not really useful information to us. Let start by selecting an earnings call; i've chosen the 38th in this dataframe:"
      ],
      "metadata": {
        "id": "ELfPVOKy6jh7"
      }
    },
    {
      "cell_type": "code",
      "source": [
        "call=df.iloc[38]\n",
        "\n",
        "print('Date: ', call['Date'])\n",
        "print('Title: ', call['Title'])\n",
        "print('Word Count: ', len(call['Text']))\n",
        "print('Text:')\n",
        "call['Text']"
      ],
      "metadata": {
        "colab": {
          "base_uri": "https://localhost:8080/",
          "height": 1000
        },
        "id": "lliAXrWoCXsD",
        "outputId": "c0fa5992-87d4-48ba-b665-270a6f050f52"
      },
      "execution_count": 236,
      "outputs": [
        {
          "output_type": "stream",
          "name": "stdout",
          "text": [
            "Date:  2016-05-25 00:00:00\n",
            "Title:  Exxon  Mobil Corp Annual Shareholders Meeting - Final\n",
            "Word Count:  125746\n",
            "Text:\n"
          ]
        },
        {
          "output_type": "execute_result",
          "data": {
            "text/plain": [
              "'I\\'m Rex Tillerson, I\\'m the Chairman and Chief Executive Officer of the Exxon Mobil Corporation. And I am pleased to welcome each of you that made the effort to join us today in person. I also, though, want to welcome our shareholders around the world who are joining us by way of the Internet.\\n\\nI do hope you had the opportunity to meet some of our employees in person while visiting the displays in the foyer this morning. These Exxon Mobil employees are among the over 73,000 people who are working 24 hours a day, seven days a week, 365 days a year on your behalf. And many of them are working in challenging locations to deliver the energy and products needed by consumers around the world.\\n\\nThe financial and operating results that I bring to you today are really their results, and I have the privilege of presenting them to you on their behalf.\\n\\nSeated next to me is Jeff Woodbury, Vice President of Investor Relations and our Corporate Secretary. He will assist me in running the meeting today. I\\'ll introduce the other members of the board to you a little later in the meeting.\\n\\nAs mentioned on Page 2 of the proxy statement, it is the policy of the corporation to provide confidential voting to shareholders. For shareholders who returned their proxy cards without written comments, the voted proxies have not been seen by nor reported to the corporation except in aggregate numbers. Anyone turning in a proxy card at this meeting who wishes to keep his or her votes secret, may obtain an envelope from the ushers. Proxy cards will be collected later in the meeting. A list of shareholders entitled to vote at this meeting or at any adjournment thereof is available for inspection. If anyone wishes to examine this list, an usher will be pleased to direct you to the proper location.\\n\\nShirley Nessralla and Paula Buckley of Computershare Trust Company have been appointed Inspectors of the Election for this meeting. They have taken an oath of office that has been delivered to the Secretary for filing with the minutes of the meeting. Notice of this meeting has been properly given, and the Inspectors of Election have determined that a quorum is present. There are 3.5 billion shares represented at this meeting, equating to approximately 85% of the issued and outstanding shares of stock of the corporation that are entitled to vote. I directed the inspector\\'s written determination as to the number of shares entitled to vote at the meeting be filed with the minutes. I declare a quorum present and the meeting ready for business.\\n\\nI\\'d now like to explain our plan for conducting the meeting today. First, Secretary Woodbury will outline the rules of conduct and how to gain recognition. Then, I\\'ll make some brief comments about our business results and the future we see for your company. After that, the items of business comprised of 14 proposals from the Board of Directors and shareholders will be presented. As described in the Annual Meeting program, discussion on the items of business will be deferred until all items have been presented. Time permitting, we may also have time to respond to some of the questions submitted ahead of time via proxy cards and the Internet. Upon completion of the discussion on the items of business and voting, the polls will be closed, the formal business of this year\\'s Annual Meeting will be concluded, and the Inspectors of Election will prepare this preliminary voting report.\\n\\nWhile this is occurring, there may be time for additional comments or questions regarding our business. When the inspectors are ready, I\\'ll ask them to give us their voting report. We will then conclude the meeting.\\n\\nShown in this slide is the list of board and shareholder proposals that will be presented and voted on this morning. The 14 items of business will be presented beginning with the election of directors, the ratification of independent auditors and the advisory vote to approve executive compensation as required by law. Then, we will continue with the 11 shareholder proposals shown in the proxy statement.\\n\\nAt this time, I would like to turn the meeting over to Jeff Woodbury to discuss the rules of conduct.\\n\\nJEFF WOODBURY, VP OF INVESTOR RELATIONS, CORPORATE SECRETARY, EXXONMOBIL CORPORATION: Thank you, Mr. Chairman. Ladies and gentlemen, good morning. I\\'d like to take this opportunity to familiarize everyone with the safety features of the auditorium. In case of emergency, we will be notified through the public address system. Emergency exits for the ground level, as shown on the screen behind me, are situated at the rear of the auditorium, where you entered, and down in front on either side. If we do need to evacuate, please proceed to the nearest exit and the Meyerson personnel will guide you to the best way out. In addition, for safety reasons, please do not stand in aisles or in the back of the hall and do not block the exits.\\n\\nTo ensure that the meeting is conducted in the interest of all shareholders, there are certain rules of conduct governing this meeting. These rules are included in the program and shown on the screen behind me.\\n\\nLet me now just cover several of the rules. The distribution of pamphlets and other literature, banners, signs and other displays is strictly prohibited. Anyone who intentionally obstructs or interferes with this lawful meeting by physical action or verbal utterance is in violation of Texas law. Any persons engaging in such conduct will be asked to cease, and if they refuse, they will be escorted from the meeting.\\n\\nThe laws of New Jersey, where Exxon Mobil is incorporated, provide that no business can be brought up for a vote unless proper notice has been given to all shareholders. Therefore, in the fairness of other shareholders not in attendance and in keeping with the laws that govern our Annual Meeting, formal business at today\\'s meeting is restricted to the items included in this year\\'s proxy statement. As such, additional proposals may not be introduced on the floor.\\n\\nIn order to present a proposal, you must have checked in at the admission\\'s desk in the lobby and verified that you are the proponent or a duly authorized proxy under New Jersey law. Presenters whose credentials have been verified will be given a blue presenter\\'s pass. If neither the proponent nor an authorized proxy has checked in and obtained a presenter\\'s pass, we will presume the proponent is not present, and I will move the proposal for the purposes of orderly conduct of the meeting and so that shareholder votes cast may be recorded. However, I will not be acting as a representative of the proponent. The authorized presenter of a shareholder proposal will have up to 3 minutes to present the proposal, and time may not be shared with another speaker. As the Chairman indicated, discussion on all items of business will be deferred until the discussion period later in the meeting.\\n\\nOnly shareholders as of record date or their properly appointed proxies are entitled to speak at this Annual Meeting of Exxon Mobil shareholders. Shareholders making comments during the meeting must speak or have the words translated into English so that the majority of shareholders present can understand what is being said. Comments that are offensive or otherwise inappropriate will not be permitted. Also, we ask that any issues of personal interest that\\'s not relevant to all shareholders be raised directly with appropriate company representatives outside of the Annual Meeting. We request that individual shareholders respect the right of others to speak and keep their comments as brief as possible. As noted in the proxy statement, the Chairman has broad authority to conduct the meeting in an orderly and timely manner.\\n\\nIf you wish to make comments, you must first fill out a speaker identification card that is included in the program and was provided to you as you entered the lobby. This card confirms that you meet the requirements to speak at this meeting. Please give the completed card to the usher when you are recognized to address the meeting.\\n\\nTo ensure as many shareholders as possible who want to address the meeting today have the opportunity to do so, we ask you to follow these additional instructions. If you would like to address the meeting, move to a reserved aisle seat, remain seated, raise your hand holding your speaker identification card to indicate to the Chairman that you wish to speak. When recognized by the Chairman, give your completed speaker card to the usher, and a microphone will be provided. Please stand and begin by stating your name. You may speak for up to 2 minutes.\\n\\nNow due to the large number of items on today\\'s agenda and a need to conclude the meeting within a reasonable period of time, we cannot assure that every shareholder who wishes to speak will be able to do so. First priority will be given to those who have not yet had an opportunity to speak.\\n\\nAs we\\'ve done in the past, we\\'ve provided a timing system with lights that will help speakers manage their time, and we\\'ll demonstrate the system at this time.\\n\\nWhen the Chairman recognizes a speaker and a microphone has been provided by the usher, a green light will come on at the displays on both sides of the stage. The hall microphones will be activated only after the speaker has been recognized by the Chairman. When the speaker\\'s time remaining reaches 30 seconds, a yellow light will turn on, and finally, a red light will indicate the speaker is at the end of their allowed time. And at that point, we ask you to conclude your comments.\\n\\nFinally, as we typically note at the outset of similar meetings, I would like to draw your attention to our cautionary statement that\\'s shown on this slide. The statement contains information regarding today\\'s presentation and discussion. You may also refer to the corporate website for additional information on factors affecting future results as well as supplementary information defining key terms that we use today throughout the meeting.\\n\\nAnd now I will turn the podium back to the Chairman to provide an overview on the business. Thank you.\\n\\nREX TILLERSON: Thank you, Jeff. We will address our items of business shortly. However, first, I will share with you some financial and operating highlights from 2015, provide an update on our annual outlook for energy and review key elements of our integrated businesses. The photo you see behind me is the Antwerp refinery, one of the most efficient in Europe, where we are progressing construction of a new delayed coker. Exxon Mobil\\'s strategy, constancy of purpose and competitive advantages continue to create superior, long-term shareholder value. Regardless of the business environment, we maintain a relentless focus on the fundamentals, those factors that we control. Our integrated business model remains resilient through the commodity price cycle. We are continuing a disciplined and paced investment approach focused on creating value while maintaining our commitment to a reliable and growing dividend.\\n\\nExxon Mobil is demonstrating differentiated performance that has become all the more visible this past year. We lead the industry in return on capital employed and most importantly, long-term shareholder returns.\\n\\nOver the next few slides, I\\'ll highlight how we have delivered on our 2015 commitments and discuss our industry-leading performance against several key metrics. This photograph of the Deepwater Champion drilling vessel, which successfully drilled the Liza-1 exploration discovery well offshore Guyana, highlights one example of our approach to long-term resource capture and value generation. We\\'re pleased with the initial results, and I\\'ll discuss our plans for Guyana later in the presentation.\\n\\nSince our shareholder meeting last year, the business environment continued to deteriorate with a sharp decrease in crude oil and natural gas prices. The graphic is a stark reminder of the volatile and cyclical nature of a commodity prices business. However, the corporation is uniquely suited to endure these conditions and outperform the competition.\\n\\nRegardless of prices, we remain focused on the following business fundamentals. Operational integrity is an organizational imperative. Operating safely, reliably and effectively is the primary objective. Maximizing the reliability of our facilities, lowering cost and increasing efficiency maximizes the value of our existing asset base.\\n\\nOur integrated businesses have a distinct competitive advantage which enables us to create additional value as market conditions change. Our investment decisions are based on a long-term view informed by our energy outlook and tested across various economic parameters, including a broad range of commodity prices.\\n\\nFinally, once we decide to invest, our world-class project execution delivers a competitive, reliable asset base. These fundamentals, applied daily throughout our portfolio, deliver leading results that grow shareholder value throughout the business cycle.\\n\\n2015 results demonstrate the strength of our integrated business in a weaker commodity price environment. Our approach to business, operations and corporate citizenship is grounded in a commitment to integrity in everything we do. Nowhere is that more evident than in our commitment to safe operations. As the chart shows, our workforce safety performance for both employees and our contractors remains strong relative to the industry.\\n\\nAs to financial results, total corporate earnings were $16.2 billion with a return on capital employed of 7.9%. We generated $32.7 billion of cash flow from operations and asset sales, and selectively invested $31 billion back into the business. Total shareholder distributions including dividends and share repurchases were $15 billion.\\n\\nRisk management is at the core of our business. Everything we do has an element of risk, whether technical, operational, financial, geopolitical or environmental. We have a systematic approach guided by our Operations Integrity Management System, also known as OIMS, which helps us manage safety, security, health and environmental risk.\\n\\nOIMS guides the activities of our employers and contractors to achieve excellence in our operational performance. It is a proven approach, rigorously applied to all work processes at all levels. Everyone is expected to operate in the same safe way every day, everywhere. OIMS provides appropriate emphasis on both personnel and process safety, helping us achieve superior reliability and operating performance, which ultimately leads to better business performance.\\n\\nNow let\\'s take a look at our environmental performance. At Exxon Mobil, we recognize our dual responsibility to both expand energy supplies, but do so in a way that reflects our shared commitment to environmental stewardship. To minimize our environmental impact, we carefully identify, assess, manage and monitor potential environmental risk.\\n\\nOur comprehensive approach has continued to reduce emissions and releases, mitigating the environmental impact of our operations.\\n\\nOver the past five years, 8.8 million tons of additional greenhouse gas emissions were avoided through self-help initiatives. This is equivalent to eliminating the annual greenhouse gas emissions of nearly 2 million passenger vehicles. We\\'re currently working at the operational level to minimize flaring and venting, and continue to implement proven reduction technologies such as selective deployment of cogeneration capacity in more than 100 installations at more than 30 locations around the world. Currently, our gross capacity for cogeneration is 5.5 gigawatts, enough to meet the annual electricity needs of 2.5 million U.S. homes. These investments have made our operations some of the most productive and energy efficient in the world.\\n\\nExxon Mobil is also a global leader in carbon capture and sequestration with working interest in more than one-third of the world\\'s current capacity. In total, since the year 2000, we have invested nearly $7 billion in an array of technologies across the company to reduce our emissions.\\n\\nAs this chart illustrates, our approaches are broad based and targeted at delivering practical solutions in the near term and the mid-term while continuing to make long-term investments to advance emerging energy technologies on a host of frontiers.\\n\\nMost recently, we announced an expanded research program to pursue the novel application of carbonate fuel cells to capture emissions from power plants. We are in early days, but making carbon capture economic could lead to large-scale applications around the world, reducing emissions and mitigating the risk of climate change.\\n\\nExxon Mobil also continues to research potential game-changing technologies in the areas of advanced biofuels, including from algae, whole cellulosic biomass and cellulose-derived sugars, which avoid adversely affecting water use, land use or world food supplies. But to ensure investment and innovation can progress, society will need one more thing, sound public policy. Exxon Mobil has worked for decades to support and advance scientific understanding, to contribute to substantive and thoughtful policy discourse and to reach out to stakeholders and government officials at every level wherever we operate. Nowhere is this comprehensive cooperative approach more important than addressing the risk of climate change.\\n\\nFor many years now, Exxon Mobil has held the view that the risks of climate change are serious, and they do warrant thoughtful action. We have long worked collaboratively with academic and institutional efforts to support research, improve climate models and advance the scientific understanding of climate change. Our scientists have been participating with the UN\\'s intergovernmental panel on climate change from its founding and have produced hundreds of publicly available papers including more than 50-peer-reviewed publications.\\n\\nOn the policy front, we believe that addressing the risk of climate change is a global issue, which will require the involvement of governments, companies and all energy consumers. To enable the most efficient and effective investments in lower carbon technologies, cost of carbon policies must invite and promote global participation. They must ensure a uniform and predictable cost of greenhouse gas emissions in every economy. They must allow market prices to drive the selection of solutions. They must minimize complexity and administrative cost, and maximize transparency and provide flexibility for policy adjustments in light of economic performance or new discoveries and breakthroughs in climate science. In years ahead, the world\\'s ability to meet our shared need for energy and our shared aspirations for the environment will depend on sound policy, and that is why Exxon Mobil will continue to discuss the key principles supporting a revenue-neutral carbon tax as a possible broad-based approach.\\n\\nTurning to financial results. Exxon Mobil\\'s return on capital employed consistently leads the competition. In 2015, our ROCE of 7.9% was significantly impacted by the drop in oil and gas prices, but was still nearly 4 percentage points higher than our nearest competitor. Over the past five years, our ROCE averaged 18% or about 5 percentage points higher than the next best competitor. Sustained leadership in capital efficiency reflects our commitment to a disciplined investment approach, strong project management and innovative technologies to grow a well-balanced portfolio across a broad range of business conditions.\\n\\nRegardless of the business environment, we strive to lead the cost curve and currently are benefiting from both ongoing efficiencies as well as cost deflation. As you can see by the graphic, we are achieving significant market savings in the current business climate. We achieved a total net reduction of $11.5 billion in both capital and cash operating cost in 2015. Our Upstream unit costs are down 9% and in refining, our unit cash costs are 15% lower than the industry average. This focus on cost leadership also reduces project cost, which improve long-term returns and free cash flow. Robust operating performance and relentless attention to cost control enable our ability to generate industry-leading free cash flow over the long term.\\n\\nExxon Mobil generated $6.5 billion of free cash flow in 2015 and almost $100 billion over the past five years, outpacing competitors. We continue to pay a reliable and growing dividend and pursue investments in attractive opportunities to create long-term shareholder value. Although the share buyback program was tapered in 2015, we maintain industry-leading distributions. On average, $0.48 of every dollar generated by the business over the last five years was distributed to you, our shareholders, while we continue to make significant investments in the business.\\n\\nWe continue to grow the dividend. The corporation\\'s long-term dividend growth rate exceeds the S&P 500 and our industry competitors with only Exxon Mobil materially increasing the dividend in 2015, up 6.7% to $2.88 per share. And over the past 10 years from 2006 through 2015, annual dividends have increased 10% per year. We have increased our dividend 34 consecutive years including this year\\'s second quarter increase to $0.75 per share. Our dividend payments are made with a view to building long-term shareholder value and providing a reliable dividend growth.\\n\\nShare purchases are an efficient and flexible way of returning cash to our shareholders. The corporation purchased $3 billion in 2015 and prudently tapered the program consistent with changes in the business environment and the corporation\\'s cash requirements. Through the first half of 2016, Exxon Mobil has limited share purchases to amounts needed to offset dilution related to our benefits plans and programs. While the future pace of share purchases will reflect the market environment and cash flow at the time, we continue to regard them as a flexible method to return value to the shareholders and manage our long-term capital structure.\\n\\nSince the Exxon and Mobil merger, we have reduced total shares outstanding by 40%, including the impacts of shares we issued to purchase XTO in 2010. Over this period, total shareholder distributions including dividends were $357 billion. To put this number in perspective, these distributions to you are larger than the individual market capitalization values of 497 of the S&P 500 companies.\\n\\nNow every year, Exxon Mobil shares its long-term view of global energy demand and supply, which guides our company\\'s business strategies and our investments, and we publish that as our outlook for energy. This document confirms the wisdom of these investments and help provide the world with reliable and affordable energy necessary to advance economic prosperity and improve living standards well into the future.\\n\\nBy the year 2040, the world\\'s population is expected to increase from 7 billion people today to more than 9 billion people. This population growth will more than double global economic output sparking a dramatic expansion of the middle class. These fundamentals will drive energy demand growth. As a result, Exxon Mobil\\'s 2016 outlook for energy forecasts an increase in global energy demand of about 25% during this period, even while taking into account the offsetting impact of significant energy efficiency gains.\\n\\nNon-OECD nations, shown in blue on the chart, are expected to drive growth in GDP and therefore, energy use, accounting for about 70% of global energy demand by the year 2040. The world\\'s middle class is expected to increase by about 3 billion people, mostly from non-OECD nations. This means better living standards for billions, and it will be enabled in large part by improving access to modern technology and affordable, reliable energy. They\\'re going to be able to buy microwaves. They\\'re going to be able to buy refrigeration for their food and their medicines and one day, they\\'re going to be able to buy a car. Even so, energy use per capita in developing countries will still remain below the OECD.\\n\\nThe demand outlook for OECD countries shown in red highlights the large-scale impact of energy efficiency. GDP in these countries is expected to grow about 70% between now and 2040. However, energy demand is likely to remain essentially flat as expanded use of energy-efficient technologies and practices lead to significant energy savings. Without these efficiency gains, we estimate global demand growth would be about four times our projected 25%.\\n\\nFinally, I\\'ll note, our energy outlook assumptions are consistent with the aggregation of Paris climate agreement commitments.\\n\\nSo now we\\'ll move to discussion of energy supplies needed to meet this growing demand. As the world\\'s population grows and living standards improve, we expect to see an evolving energy landscape, driven by advances in technology, available resources and trade. Together, oil and natural gas will meet about 60% of global demand in the year 2040, about the same percentage as they do today, and will lead growth even though the energy mix evolves.\\n\\nWe expect oil will remain the leading energy source as it remains essential to meet growing needs for transportation and as a feedstock for petrochemicals. Natural gas is abundant and well suited to meet rising power generation and industrial needs, while also providing a cost-effective option to reduce carbon dioxide emissions. Natural gas demand will increase more than any other energy type, surpassing coal to become the second-largest source, in part driven by a tripling of global liquefied natural gas demand across this period.\\n\\nThe outlook anticipates that stringent government policies will increase the cost of CO2 emissions over time. These policies will incentivize the growth of energy types with low-carbon intensity, including natural gas, nuclear, solar and wind.\\n\\nOur view is grounded in the reality that abundant energy supplies are vital to modern life. Greater access to affordable and reliable energy will remain fundamental to reducing poverty and advancing standards of living for billions of people around the world.\\n\\nTo sustain progress and further expand prosperity, the world must increase the availability of affordable energy solutions. Therefore, meeting the growth in global energy demand will require diverse energy supplies from conventional and unconventional oil and gas, as well as liquefied natural gas and nuclear and renewables. We should pursue all economic opportunities.\\n\\nFortunately, technology advances continue to expand our energy options while helping to minimize our environmental footprint. Continued access to high-quality resources and substantial investments will remain fundamental in meeting these challenges. And free markets, supported by sound and reliable public policies, remain vital to the development of new energy supplies. This includes policies that promote free and open trade, and encourage private sector investments.\\n\\nSo now I\\'ll provide a business and operational update. Shown here is the Upper Zakum development, offshore Abu Dhabi, which utilizes our innovative approach of creating four artificial islands to maximize economic recovery from this very large field. Exxon Mobil, along with our partners, developed the island drilling concept, which has significantly reduced total development cost. Exxon Mobil provides industry leadership to meet the world\\'s energy needs. Key elements of our strategy are shown on this chart. Our approach has been consistent for decades, and through systematic implementation and continuous improvement, these elements have become resilient, competitive advantages.\\n\\nRisk management and operational excellence are at the very core of our business activities. Investment and cost discipline, along with world-class project execution result in the best asset mix in the industry. We continuously seek to high grade our portfolio beyond our exploration program through accretive acquisitions, restructurings and asset sales.\\n\\nAs I\\'ll discuss in the coming slides, we capture significant value-added benefits from our vertical integration. Our long-standing commitment to technology leadership stimulates innovation and provides unique advantages. And our high-performing workforce drives premier results across our businesses. Our employees are the best of the best, and their dedication produces the results that I share with you today. In short, we are delivering on our commitments and achieving differentiated performance to meet our objective of growing shareholder value.\\n\\nThe level of Exxon Mobil\\'s business integration is a sustainable, competitive advantage that is difficult to replicate, and we continue to increase that level of integration. Our businesses work together across the value chain to share knowledge, insights and best practices. This collaboration leads to better informed decisions, more efficient operations and higher quality investments, delivering unique value and resiliency. Our diverse asset base provides market optionality and operational flexibility to optimize value every step of the way from the wellhead all the way to the consumer. This structural advantage drives our differentiated financial strength and our superior results.\\n\\nAs I mentioned earlier, Exxon Mobil maintains a disciplined and paced investment approach, focused on creating long-term value. In 2016, we expect to spend around $23 billion or $8 billion less than in 2015. This plan reflects lower upstream project spending as we continue to bring major projects to completion and into production. Downstream and chemical plants reflect unique opportunities to grow and strengthen those businesses. We anticipate the 2017 budget will be less than $23 billion. We have a flexible, high-quality opportunity set and have the capability to increase the investment program based on market demand fundamentals or adjust future spending lower should conditions warrant. By selectively investing through the cycle, we remain positioned to capture market efficiencies and savings to deliver better financial returns.\\n\\nWe remain steadfast in our objective to create superior long-term value. Our planned deliverables are summarized on this chart. We manage the business to achieve industry-leading returns throughout the commodity price cycle. We work to maximize value chain benefits across the integrated portfolio, adjusting to changing product demand and improving the portfolio mix.\\n\\nCapital discipline remains paramount to our continued success. We\\'ve paced the investment program selectively, investing in attractive opportunities while maintaining our flexibility to adjust.\\n\\nUpstream volumes are an outcome of the investment program, and we anticipate a range of 4.0 million to 4.2 million oil equivalent barrels per day of production through the year 2020.\\n\\nCash flow is expected to grow from new investments, continued operating excellence, reduced spending and self-help initiatives, and we continue to share the corporation\\'s success with our shareholders. Distributions are made with a view to building long-term value by providing a reliable and growing dividend.\\n\\nNext, I\\'ll review our Upstream business. Exxon Mobil has a high-quality, diverse portfolio of assets, with oil and natural gas producing activities in 24 countries. Currently, we\\'re producing 2.3 million barrels per day of liquids and 10.5 billion cubic feet per day of natural gas. This base of operations provides long-term cash flow and the capability to progress attractive new opportunities through the cycle to meet long-term energy demand.\\n\\nWe have an extensive portfolio of approximately 100 capital projects to develop over 20 billion oil equivalent barrels, providing us multiple options that enable selective and paced investment. These projects are at varying stages of advancement, including those that are already under construction like the Odoptu Stage 2 project in Sakhalin, Russia; projects in the engineering design stage, such as the Tengiz Expansion project in Kazakhstan; and opportunities where we\\'re evaluating concepts to expand development around existing infrastructure, such as deepwater tiebacks offshore West Africa.\\n\\nWe have an unmatched opportunity base across multiple resource types, including both short and longer cycle opportunities that provide investment flexibility. Let\\'s talk about some of our recent startups. Projects that started up in 2015 added 300,000 oil equivalent barrels per day of working interest capacity. In West Africa -- in the deepwater, we added 70,000 oil equivalent barrels per day of working interest capacity with two capital-efficient projects that leveraged on existing infrastructure, the Erha North Phase 2 project in Nigeria and Kizomba Satellites Phase 2, offshore Angola. Both of these projects started up ahead of schedule and below budget. The Kearl expansion project started up five months ahead of schedule. The project incorporated learnings from the initial development phase and doubled Kearl\\'s production capacity to 230,000 barrels per day. In Indonesia, the Banyu Urip project added 75,000 barrels per day of working interest capacity. Production has now successfully ramped up to full capacity at 185,000 barrels per day.\\n\\nMoving on to 2016, 2017 startups. 10 projects are scheduled to be completed this year and next, adding more than 450,000 oil equivalent barrels per day of working interest capacity. These projects highlight the geographic resource diversity of our portfolio. As you can see, the locations range from North America to Russia, from Australia to the Middle East. Also consistent with energy demand growth projections, we are investing across several resource types, including liquefied natural gas, deepwater developments, conventional and the Arctic. We\\'re making great progress with these major construction projects with four of them starting up already this year.\\n\\nWe also have an attractive domestic onshore resource base. Our U.S. unconventional resource base is over 15 billion oil equivalent barrels. We continue to focus on liquids growth mainly through development in the Permian Basin and the Bakken plays with 2.1 million net acres and current net production of 230,000 barrels per day. In 2015, we increased our net Permian and Bakken production nearly 25%. The Permian unconventional production component nearly doubled as we increased horizontal drilling in the Wolfcamp formation in the Midland Basin.\\n\\nAdditionally, we continue to improve our acreage position through trades and farm-ins. We operate over 80% of our U.S. unconventional assets. Our ownership and operating position enable flexible development consistent with the business environment. As such, we\\'ve reduced our rig count over 70% from the peak 2015 levels while remaining positioned to adjust those levels up or down further depending on the market conditions.\\n\\nTurning to our exploration portfolio. As shown on the map, we\\'re pursuing a diverse set of high potential resource opportunities, which could add to our resource base. We hold more than 110 million net acres from under-explored regions with higher risk, but higher reward potential, to more established lower-risk basins close to existing infrastructure. We recently captured 10 new opportunities covering over 2 million net acres, gaining exposure to multiple plays in established areas as well as new emerging basins. The yellow stars marked the eight discoveries we made in 2015. We added 1.4 billion oil equivalent net barrels to our resource base, including the Liza exploration well, offshore Guyana, which was the largest oil discovery by industry in 2015. Additional resource was also added in Iraq, Nigeria, Romania, Australia and onshore North America.\\n\\nWe\\'ve accumulated an attractive position offshore Guyana, a new area with very large resource potential. We recently acquired an operating interest in the Canje Block adjacent to our existing Stabroek Block. This brings our total position to 8.1 million gross acres. To put this in perspective, this is the equivalent of 1,400 Gulf of Mexico blocks.\\n\\nFollowing the Liza-1 discovery, we completed the largest proprietary 3-dimensional seismic survey in our company\\'s history and have initiated a multi-well exploration and appraisal drilling campaign, with the spud of the Liza-2 well in February of this year. The data from this appraisal well and the 3D seismic will be used to further our understanding of the block\\'s potential and possible development concepts.\\n\\nLet\\'s now take a look at our Downstream and Chemical business. As the points on the map indicate, we have refining and petrochemicals manufacturing assets in all major regions of the world, supporting the marketing of our products in more than 130 countries. Our scale, integration and balanced portfolio of assets in fuels, lubricants and chemicals provide opportunities to capture the highest value for each molecule, while also capturing operating efficiencies.\\n\\nTo further grow the value of these businesses, we are progressing a diverse portfolio of attractive investments. Consistent with our strategy, these investments capitalize on several value chain opportunities, which include increasing feedstock and logistics flexibility.\\n\\nTo highlight a few projects underway, we are increasing our sour crude oil processing capability in Baton Rouge, Louisiana by expanding sulfur handling capacity by 40%, while also implementing steps to improve access to a broad range of North American crude oils.\\n\\nAt our refinery in Beaumont, Texas, we\\'re expanding capacity to run attractive light crude oils by 20,000 barrels per day. In chemicals, we are constructing a multibillion-dollar ethane steam cracker and associated polyethylene facilities in Texas, to capitalize on low-cost North American feedstock. When completed, these facilities will be among the world\\'s most competitive petrochemical projects through scale and integration with existing manufacturing facilities and production of premium metallocene polyethylene.\\n\\nAs mentioned earlier, at the Antwerp refinery in Belgium, we\\'re constructing a 50,000-barrel per day delayed coker to upgrade low-value bunker fuel oil currently produced at our Northern European refineries into higher value low sulfur -- ultra-low sulfur diesel.\\n\\nAt the Rotterdam refinery in the Netherlands, we are expanding the hydrocracking unit to upgrade low-value hydrocarbons into premium lube base stocks and ultra-low sulfur diesel, positioning ExxonMobil as the first large-scale producer of Group 2 base stocks in Europe.\\n\\nAt our Fawley refinery in the United Kingdom and our refinery in Singapore, we are making investments to debottleneck existing units, allowing us to upgrade distillate streams into higher value chemical intermediate products.\\n\\nEach of these projects target our most competitive strategic assets. We are also making selective investments in our lubes and chemical value chains to increase production of specialty products. We\\'re currently commissioning a specialty elastomers facility in Saudi Arabia to produce synthetic rubbers, polyolefin elastomers and carbon black to serve the auto industry.\\n\\nIn Singapore, we are expanding finished lubricant manufacturing capacity to support rapidly growing sales of our industry-leading synthetic lubricant products such as Mobil 1. Also in Singapore, construction is underway on a world scale facility to produce premium synthetic rubber for the growing tire market and premium resins for adhesive applications. These investments will strengthen ExxonMobil\\'s leading global positions in these high-growth products.\\n\\nOur direct interface with consumers is largely through our brands such as Esso, Exxon, Mobil and Mobil 1. Our broad product offering is supported by quality and reliability along with technology development, which enables us to bring new high performance products to market and further grow our brands.\\n\\nOver the past decade, we have more than doubled sales of synthetic lubricants including Mobil 1, Mobil Delvac 1 and a Mobil SHC. We\\'ve increased branded retail fuel sales by expanding our network to more than 20,000 Exxon, Mobil and Esso branded stations along with providing innovative brand marketing and technology programs to deliver a superior customer offering.\\n\\nI\\'ll conclude the business and operational update with a photo of construction under way at our world scale Baytown refining and petrochemical complex, one of the investments I described earlier. These major investment programs, whether they are new country entries or expansions of existing and legacy locations, can only succeed if we also invest in the communities where we live and work. The people of ExxonMobil understand and take seriously our responsibilities to shareholders, to communities, our neighbors and our customers to be responsible corporate citizens and to operate with the highest standards of ethical behavior. Safety and environmental protection are more than just a priority at ExxonMobil, they are core values, an integral part of our culture and fundamental to the success of our business.\\n\\nAs we develop oil and gas resources to meet the world\\'s growing energy needs, we must do so in a manner that contributes to the economic and social development of the communities in which we operate. Our efforts are directed at employing and training local workforces, supporting local suppliers and service providers and improving the livelihoods of the community members.\\n\\nWe continue to make substantial progress in training and hiring host country workers, which advances local economic development and education. For example, in Chad, 94% of our personnel are citizens of that country, and 72% of supervisory roles are held by locals. We make strategic investments to support needs of local communities. In 2015, we contributed $268 million to community initiatives around the world. Our education initiatives include programs supporting both students and teachers that encourage pursuit of careers in science, technology, engineering and math.\\n\\nFor 15 years, we have been a leader in the fight to combat preventable and treatable illnesses like malaria. To date, the antimalarial programs we have funded have reached more than 125 million people. Our support has helped train more than 520,000 health workers as well as distribute 3.8 million doses of antimalarial treatments and almost 14 million bed nets.\\n\\nWe\\'ve learned that empowering women economically is essential to local development. Through ExxonMobil\\'s women\\'s economic opportunity initiative, we invest in programs to develop the next generation of female entrepreneurs and business leaders. Through these programs, we provide the skills, resources and access to technology needed to increase their productivity and their income.\\n\\nAnd our people give not only of their personal treasure, but also their time through volunteering. Nearly 15,000 Exxon employees -- ExxonMobil employees, retirees and their families donated more than 629,000 hours to almost 5,000 charitable organizations in 34 countries around the world. It is not a slogan, but a fact. Where ExxonMobil people go, good things happen in those communities.\\n\\nIn highly capital-intensive industries such as ours, financial results and stock market returns are best viewed over a long time horizon. The energy industry requires sustainable risk management of the physical assets as well as the cash and the capital and long cycle times for investments to deliver results. ExxonMobil has generated greater shareholder returns than the average of our competitors over the last 5-, 10- and 20-year periods. These superior returns reflect our sustained financial and operating advantages that position us to maximize shareholder value.\\n\\nI want to leave you with a few personal thoughts about our company and its meaningful contributions to society. We are delivering on our business commitments in creating long-term shareholder value. Our talented, dedicated workforce drives premier results, providing reliable, affordable energy to advance human progress the world over.\\n\\nExxonMobil is more than an energy company. We\\'re making a significant difference in our communities, creating economic opportunities and improving lives by investing in better education, health care and infrastructure. We are pioneering science and advancing technologies to improve energy efficiency, reduce emissions and expand the sources of energy. We\\'ve taken thoughtful consistent action to protect the environment and to help understand and reduce the risk of climate change. I\\'m certainly proud of our employees. Who we are, what we do every day to provide energy the world needs while supporting our communities and improving the lives of people the world over.\\n\\nNow before we continue with our planned agenda items, I want to share with you a brief video that illustrates some of these meaningful contributions.\\n\\n(video playing)\\n\\nREX TILLERSON: So now, turning to the formal business of the meeting and a few brief remarks on shareholder proposals and voting. Each year, the corporation receives a number of suggestions from shareholders. Some of these are in the form of proposals to be presented at the Annual Meeting and each is given careful consideration.\\n\\nWe seek dialogues with the sponsors prior to the meeting when there is more time to better understand each other\\'s positions and we often find agreement. Let me be clear on the conduct of the meeting. Recognizing that the majority of our shareholders have voted by proxy and are not present, we have established procedures to facilitate an orderly meeting.\\n\\nWe\\'ve set up a process for speakers to identify themselves and to express their views and I assure you, we welcome those views. In order that as many shareholders as possible can participate, we have set time limits and a system of reminders to help you manage your time.\\n\\nWe have 14 items to consider. As Secretary Woodberry said earlier, discussion on all items of business will be deferred to the discussion period. This may enable us to have some time for general comments and questions as well and conclude the meeting in a reasonable time frame.\\n\\nFor those of you who may wish to leave the meeting at any time, let me express my appreciation for your attendance. Since we have a number of items yet to discuss on the program and you\\'ve been sitting for a while, I would invite you to stand and take a short stretch break and I would ask that you not leave the hall. We\\'ll resume in just a moment.\\n\\n(Break)\\n\\nREX TILLERSON: If you\\'d please take your seats. The first item of business is the election of 14 directors. I nominate the 14 persons identified on Pages 16 through 20 of the proxy statement. These 14 people are highly qualified to serve on the Board.\\n\\nAll of our nominees are currently serving as ExxonMobil directors, except for [Ms. Braly], who has been nominated by the Board for first election as a director today. All director nominees are in attendance today with the exception of Jay Fishman who was unable to attend, although I know Jay has dialed in on the Internet to the meeting.\\n\\nNow I\\'d like to ask the nominees seated to my right in the orchestra terrace to be recognized as their names are called and then I\\'ll close the nominations. Michael Boskin, Peter Brabeck-Letmathe, Angela Braly, Ursula Burns, Larry Faulkner, Henrietta Fore, Kenneth Frazier, Douglas Oberhelman, Sam Palmisano, Steve Reinemund, William Weldon and Darren Woods.\\n\\nI declare the polls open for all who want to vote in the election of directors and the 13 remaining items. If you wish to change your proxy instructions on the election of directors or any other of the 13 items or if you have not submitted a proxy and wish to vote by ballot, they are available from the ushers.\\n\\nPlease raise your hand if you would like a ballot at any time during the formal business. They will be collected after all items have been discussed.\\n\\nThe next item on the agenda is the ratification of PricewaterhouseCoopers as the independent auditors. The Audit Committee of the Board has appointed PricewaterhouseCoopers to audit ExxonMobil\\'s financial statements for 2016, and we are asking shareholders to ratify that appointment.\\n\\nPricewaterhouseCoopers is represented today by Mr. Alan Page. Alan, would you please stand? Thank you.\\n\\nThe Audit Committee\\'s reasons for recommending PricewaterhouseCoopers appear in the proxy statement. I move the adoption of the proposal shown on Pages 24 and 25 of the proxy statement.\\n\\nThe next order of business is consideration of the Board-sponsored proposal regarding Executive compensation. This board proposal calls for shareholder advisory vote to approve Executive compensation as required by law. The Board recommends a vote for this proposal, as outlined on Pages 26 and 27 of the proxy statement.\\n\\nThe next order of business is consideration of the 11 shareholder proposals in the proxy statement. The first shareholder proposal regarding an independent chairman is shown on Pages 56 and 57 of the proxy statement. I understand that Beth Richtman will present the proposal. Beth, are you here? Yes.\\n\\nBETH RICHTMAN, INVESTMENT MANAGER, CALPERS: Good morning. Mr. Secretary, Chair, members of the Board and fellow shareholders. My name is Beth Richtman. I am an investment manager at CalPERS, the largest U.S. pension fund, with approximately $300 billion under management.\\n\\nCalPERS is a long-term owner with 13 million shares of ExxonMobil worth over $1 billion. I\\'m here to present Proposal Number four, which calls on Exxon to separate the positions of chair and CEO in the transition to the next CEO on behalf of the Ellen Higgins Trust.\\n\\nCalPERS firmly believes that companies with good corporate governance and sustainable business practices will outperform over the long term. In our view, a separate independent chair and CEO structure eliminates the conflicts of interest, which arise when the CEO is also responsible for board oversight. It\\'s like grading your own exam papers when you have a chair who effectively oversees the CEO.\\n\\nWith the announced retirement of Mr. Tillerson, we think it\\'s an excellent time to review Exxon\\'s leadership structure and improve the governance by separating the chair and CEO roles.\\n\\nNow is a time of great change, great risk and great opportunity for Exxon and the energy sector. Many other governments -- many other companies, large shareowners and governments all agree that the COP21 Paris agreement sets us on a path towards a low-carbon economy.\\n\\nIt is widely recognized that chairing the Board is a very time-intensive job. Having a separate chair would provide more time for Exxon\\'s CEO to focus on running the company and the Board to focus on oversight in this time of unprecedented change for the company and the energy sector.\\n\\nWith an improved governance structure and improved focus and time commitments for the key leaders at Exxon, we would also expect improved disclosure to shareowners on how Exxon is analyzing and preparing for the transition to the low-carbon economy.\\n\\nCalPERS appreciates this opportunity to address the Board directly. We think that it is unfortunate that Exxon\\'s current policy prevents the Board from having a dialogue with shareowners.\\n\\nEngagement between shareowners and directors leads to the type of productive discussion of long-term strategic issues that can prevent the necessity of shareholder proposals and proxy battles. We\\'re hopeful Exxon will end this policy of preventing these important conversations with your shareowners.\\n\\nIn closing, please join CalPERS and vote for Proposal Number four to separate the CEO and chair roles and bring our company into the realm of best practice. Because accountability and transparency are the key tenets of good governance, CalPERS has also been actively soliciting with The New York City Comptroller\\'s office for Proposal Number seven concerning proxy access and Proposal Number 12 to improve the company\\'s risk reporting concerning climate change risk. Combined, these proposals will set Exxon on a future course for success. As long-term owners and as fiduciaries, we ask for nothing less. Thank you.\\n\\nREX TILLERSON: Thank you. The Board recommends a vote against this proposal, as outlined on Page 57 of the proxy statement.\\n\\nThe next shareholder proposal calls for the addition of a climate expert to the Board and as shown on Page 58 of the proxy statement. I understand Fr. Michael Crosby will present the proposal. Fr. Crosby?\\n\\nMICHAEL CROSBY, CAPUCHIN FRANCISCAN FRIAR: Good morning, Mr. Tillerson and Board members and fellow shareholders. As Mr. Tillerson said, I am Michael Crosby. I\\'m a Capuchin Franciscan friar priest from Milwaukee. So I move our resolution. We\\'re asking for a person with climate change expertise to be on the Board for two main reasons.\\n\\nAs many of you know, ExxonMobil doesn\\'t allow its shareholders to have access to the Board, as a whole, or any of its members to discuss these issues independent of management. But the other reason, if you would look at Pages 6 to 8, is according to the references for the Board members, which are substantial, not one person has any expertise on climate.\\n\\nAnd as a result, the Board is only able to address the issue given what management says. It notes the fact that 12 members have global business credentials, that five members have financial expertise, one has some credentials in chemistry, but management\\'s own list has nobody identified with climate risk. And this is the biggest risk facing the company\\'s business, not to mention everybody on the planet. Maybe if we would have had a climate change expert on the Board, she or he would not have allowed Exxon to act in the way they did when we first filed our shareholder resolution in 1997 on climate change or maybe they wouldn\\'t have denied it for the first 10 years after we did file it.\\n\\nEven as I speak today, the company is still supporting efforts, it seems, by some to undermine state\\'s efforts to ensure the health of their people by having some kind of mitigation around climate change.\\n\\nToday, at the meeting, we heard from CalPERS and CalPERS just issued a statement that from now on, they\\'re going to be asking all companies to have somebody with climate change on their board. If that\\'s going to be for all companies, how much more for a company where almost 100% of our product and our efforts and production is related to climate change.\\n\\nI\\'d like to compliment you on the way you began your remarks. I think it\\'s the first time, and you know I\\'ve been here quite a bit, where you begin with the problem of climate change and acknowledged it. But at this stockholders meeting, with more press participating than ever, ExxonMobil has a chance to restore the public\\'s trust. This calls for conversion. I like the kiosk out there that talked about the drone and we can create disruptive change, you said.\\n\\nWe don\\'t want disruptive change. We want constructive change and this conversion invites us to change. As a Catholic priest, I join Pope Francis in believing that conversion is possible to more and more efforts around renewables. And so as a result of that, I urge support for our resolution. Thank you.\\n\\nREX TILLERSON: Thank you, Fr. Crosby. The Board recommends a vote against this proposal, as outlined on Pages 58 and 59 of the proxy statement.\\n\\nThe next shareholder proposal, to hire an investment bank as shown on Page 59 of the proxy statement. I understand that Tracey Rembert will present the proposal. Ms. Rembert?\\n\\nTRACEY REMBERT, SHAREHOLDER, CHRISTIAN BROTHERS INVESTMENT SERVICES: Thank you, fellow shareholders, Mr. Tillerson and the Board. My name is Tracey Rembert and I\\'m here representing Christian Brothers Investment Services, which is a Catholic investment manager with over $6 billion in assets under management. We\\'ve been a longtime shareholder of ExxonMobil with over 329,000 shares currently, and we want to formally move Item Number Six, Ken Steiner\\'s proposal on hiring an investment bank to break up the company.\\n\\nWhile we don\\'t agree with this proposal, we are moving it as a formal courtesy to a fellow shareholder. We do think it -- we\\'re at an interesting time in discussion of the company and its current business model. But we haven\\'t given up on ExxonMobil just yet. We think that you can be prepared for a diversified energy future, but we can\\'t keep having these conversations year-over-year. I think in terms of action that\\'s needed, solutions that need to come to the table, I really hope I\\'m not here 10 years from now having the same conversations and the company has dramatically started to address some of the issues raised.\\n\\nI\\'m here to talk about impact on the world\\'s poor, and issues continue to circle around the company about the nimbleness of your current business model to be able to address issues. Exxon presents a false choice between providing reliable and affordable energy and addressing climate change. We don\\'t think it\\'s an either/or. We think right now, absolutely, both issues need to be addressed. Impacts the world\\'s poorest communities, including those in the global South, are happening now. Climate change is not some abstract thing likely to happen 80 or 100 years from now. It is here, and it is visceral, and it\\'s devastating the world\\'s poor people, and Exxon has said for over a decade that it wants to provide affordable energy to the world\\'s poor, but only through business as usual measures, but we expect more.\\n\\nWe question whether lives will actually be improved in low-income communities if they are regularly suffering from the impacts of drought, extreme weather, geopolitical upheaval due to climate change and other factors. We want to hear from our company how you will begin to address these impacts that are a consequence of your core products and current business model.\\n\\nThis is not about \"abundant energy supply\" as you just mentioned in some of your remarks earlier. This is about abundant ultra-low carbon energy supply for the masses that want energy. This is what is needed.\\n\\nWe currently question whether ExxonMobil long term will do more harm than good with its current business strategy. And, therefore, we really urge you, Mr. Tillerson, especially the Board, as new leadership comes in, it\\'s now or never.\\n\\nThe impacts to the world\\'s poor -- we\\'ve far surpassed, I think, the point where people are suffering and we\\'d really like to see Exxon bring some viable solution to the table, not just talking about small investments in an energy transition. We do want to see Exxon actually steer us to a low-carbon path. Thank you.\\n\\nREX TILLERSON: Thank you, Ms. Rembert. The Board recommends a vote against this proposal, as outlined on Page 59 of the proxy statement.\\n\\nThe next shareholder proposal for a proxy access bylaw is shown on Page 59 and 60 of the proxy statement. I understand that Michael Garland will present the proposal. Mr. Garland?\\n\\nMICHAEL GARLAND, ASSISTANT COMPTROLLER FOR CORPORATE GOVERNANCE AND RESPONSIBLE INVESTMENT, OFFICE OF NEW YORK CITY COMPTROLLER: Good morning Mr. Chairman, members of the board and fellow shareowners. I\\'m with the office of New York City Comptroller, Scott Stringer, and I\\'m presenting Proposal Seven on behalf of The New York City Pension Funds.\\n\\nThese funds have $160 billion in assets and are substantial, long-term ExxonMobil shareowners. We\\'re voting 10.5 million shares at today\\'s meeting valued at nearly $1 billion and this represents the retirement security for New York City\\'s teachers, firefighters, police and other loyal city employees.\\n\\nProposal seven calls for a proxy access bylaw to enable shareowners that have collectively held at least 3% of the company for three years to include a limited number of director candidates on the company ballot.\\n\\nThe proposed bylaw is intended to give substantial long-term shareowners a meaningful voice in electing the directors responsible for overseeing the company\\'s long-term strategy and risks, including risks related to climate change.\\n\\nProxy access will enable Exxon shareowners to ensure that the Board is made up of independent and accountable directors who have the diverse mix of relevant skills, experience and perspectives necessary to navigate these challenges and create long-term shareowner value.\\n\\nThe proposed bylaw includes appropriate safeguards to prevent abuse, a 3% interest in Exxon is currently valued at over $11 billion. By any measure, a significant stake in the company\\'s future. There\\'ve been extraordinary developments since last year\\'s Annual Meeting when the proposal received 49% of votes cast and these highlight why this is a defining moment for the board and why proxy access is so important for Exxon shareowners.\\n\\nOxford University released a study that found that major oil companies face significant risks from groupthink because they make large lumpy investments with long time horizons. The study found that Exxon had the least diverse board, particularly with respect to age range, nationality and industry experience among the six largest oil and gas companies in the world, publicly traded, and was therefore most exposed to risks of groupthink.\\n\\n175 companies -- 175 countries signed the Paris agreement, demonstrating that there\\'s global political will to limit carbon emissions, a scenario the Board must take more seriously.\\n\\nThe Saudi government announced dramatic steps to prepare its economy for the inevitability of a low-carbon future. Major oil companies like BP and Shell have supported shareowner requests for climate risk reporting similar to Proposal 12, which The New York City funds have joined with CalPERS to actively support along with proxy access.\\n\\nFinally, since last year\\'s meeting, more than 200 U.S. companies have enacted proxy access bylaws on terms similar to Proposal Seven. They include the largest U.S. oil companies other than Exxon. They include seven companies at which Exxon directors also serve as directors.\\n\\nMany of these companies have voluntarily enacted proxy access without the need for a vote, including more than 70% of the 72 companies that received proposals from New York City this year.\\n\\nExxon\\'s board is an outlier in its continuing opposition to proxy access, the climate risk reporting and to engaging directly with shareowners. It\\'s time for the board to demonstrate its commitment to an accountable system of corporate governance that fosters long-term value creation.\\n\\nWe urge shareowners to vote for Proposal Seven. Thank you.\\n\\nREX TILLERSON: Thank you, Mr. Garland. The Board recommends a vote against this proposal, as outlined on Pages 60 and 61 of the proxy statement.\\n\\nThe next shareholder proposal calls for a report on compensation for women and is shown on Pages 61 and 62 of the proxy statement. I understand that Tom Sifferman will present this proposal.\\n\\nTOM SIFFERMAN, REPRESENTATIVE, MOBIL OIL: Thank you, sir. It\\'s good to be back here again, Chairman. The Board of Directors, shareholders, this is my second time presenting this. My name is Tom Sifferman as indicated. I\\'m a Ph. D. and Registered/Licensed Professional Engineer and speaking on behalf of Eve Sprunt, my former coworker at Mobil Oil. She\\'s a Ph. D.\\n\\nI have eight bullet items, most of it it\\'s in the proxy statement, but one thing I wanted to say is that there is no doubt that Exxon from ExxonMobil\\'s statement in the proxy that they are attempting to help women advance.\\n\\nThe question is how effective those actions have been? Subtle and subconscious prejudice is difficult to combat as a major factor for women\\'s underrepresentation in leadership roles. The value that is placed one someone\\'s role within a company is reflected in their monetary compensation.\\n\\nWomen in management and executive ranks are often underrepresented and support functions that are less well compensated instead. The results of ExxonMobil\\'s actions are -- if they are so good, please show us the money, that\\'s the important thing, provide data on how women\\'s compensation compares with men\\'s at all levels. The Bureau of Statistics and Labor reports that 76% of human resource managers are female, but on the average, their pay is only 71% of their male counterparts. If human resource managers, who are the company\\'s watchdogs can\\'t take care of themselves, who can?\\n\\nThe proof of how successful the efforts are is in the money. Again, show us the money. We need to see the data. If, and that\\'s a question if, if ExxonMobil is a leader in advancing women the compensation data should be a valuable recruiting tool to attract the best and brightest women, let\\'s use it for our advantage. As shareholders, we want ExxonMobil to succeed in advancing women to attract and retain the most advanced, most talented and productive women.\\n\\nWomen also invest money in different funds and fund managers now days don\\'t seem to be too concerned about sending female investors a message that there should be pay transparency. Basically, show us the money. Thank you very much.\\n\\nREX TILLERSON: Thank you, Mr. Sifferman. The Board recommends a vote against this proposal, as outlined on Pages 62 and 63 of the proxy statement.\\n\\nThe next shareholder proposal calls for a report on lobbying and is shown on Pages 63 and 64 of the proxy statement. I understand that Hughes Jenkins will present the proposal. Mr. Jenkins?\\n\\nHUGHES JENKINS, EMPLOYEE, UNITED STEELWORKERS: Fellow shareholders and members of the board, my name is Hughes Jenkins, and I\\'m a nine-year employee at ExxonMobil in Baton Rouge, Louisiana. On behalf of the United Steelworkers and (inaudible) followers, I hereby move Item Nine. The proposal asking our company to provide a report on state and federal lobbying expenditures including indirect funding of lobbying through trade associations and support for the American Legislative Exchange Council known as ALEC.\\n\\nIllustrating the deep international concern about lobbying and climate change, AP7, a Swedish pension fund, which owns over 3.4 million shares joined as a co-filer this year. Transparency and accountability in corporate spending to influence public policy are the best -- are in the best interest of ExxonMobil shareholders, and a high profile investigation into whether our company mislead investors on climate change only underscores the importance of full disclosure.\\n\\nCorporations contribute millions of dollars to trade associations, they\\'re directly -- they lobby indirectly on their behalf without specific disclosure or accountability. ExxonMobil does not even disclose its trade association membership nor the portions of these payments used for lobbying, so shareholders currently have no way to know how much ExxonMobil\\'s trade association contributions are being used to lobby on its behalf.\\n\\nExxonMobil also contributes to tax-exempt organizations [their] right and endorse model state legislation playing a key role in ALEC. ALEC has attracted negative attention for its role in promoting bills on anti-immigration policies, and also blocking EPA regulation on climate change. ALEC also promotes legislation that seeks to diminish workers\\' rights in our country. As a proud member of the United Steelworkers Union, I find many of ALEC\\'s proposed laws to be distasteful.\\n\\nThis is one of the reasons why we are seeking full disclosure on lobbying. Our company argument against Item Nine suggests shareholders can use government (inaudible) to get this information, but public information does not provide a clear picture of ExxonMobil\\'s lobbying expenditures, nor is it easy to assess.\\n\\nWe urge shareholders to vote for this proposal to mandate our company supply this important report. Thank you.\\n\\nREX TILLERSON: Thank you, Mr. Jenkins. The Board recommends a vote against this proposal, as outlined on pages 64 and the 65 of the proxy statement.\\n\\nThe next proposal calls for a commitment to increase the total amount authorized for capital distributions and is shown on Page 65 and 66 of the proxy statement. I understand that [Natasha Lamb], will present the proposal. Ms. Lamb?\\n\\nNATASHA LAMB, DIRECTOR OF EQUITY RESEARCH, ARJUNA CAPITAL AND BALDWIN BROTHERS: Good morning, Mr. Chairman, members of the Board and fellow shareholders. My name is Natasha Lamb, and I am here on behalf of Arjuna Capital and Baldwin Brothers\\' client Eric MacCallum to move Proposal Number 10, which asks our company to prioritize profitability and value over growth by returning more capital to shareholders.\\n\\nWe ask this in light of increasingly risky investments in potentially stranded carbon assets. That is carbon assets we can\\'t burn without irreversible climate disruption. Implementing the proposal would represent a prudent, albeit, disciplined path forward in the face of unburnable carbon assets, which represent approximately two-thirds of proven global reserves according to the International Energy Agency.\\n\\nThese reserves cannot be burned when the Paris Climate Agreement established by 196 countries to prevent a less than 2 degrees Celsius rise in global temperature goes into effect. For a while, the business plan of extracting as much carbon as quickly as possible was a winner, last century, that same plan will destroy value this century and already has. Historic levels of capital spend on growth assets has eroded profitability and Exxon\\'s risk profile, return on equity and return on invested capital are at historic lows.\\n\\nProfitability has fallen 68% over the last decade and Exxon\\'s sterling credit rating has just been downgraded, increasing the company\\'s cost of capital. Continuing to grow high cost fossil fuel reserves in the face of global climate change disruptive agreement is no longer prudent.\\n\\nCitigroup estimates unburnable fossil fuel reserves could amount to over $1 trillion out to 2050. While the Carbon Tracker Initiative estimates that as oil majors choose to undertake projects consistent with a 2-degree demand level, combined upstream assets would actually be worth $140 billion more.\\n\\nWe are asking our company to prioritize value over growth, investing in the most profitable core carbon assets and returning a greater percentage of profits to shareholders, which would allow Exxon to decrease in size while increasing profitability, essentially shifting from a business plan of growth for growth\\'s sake to one of value.\\n\\nTo the opposite end, profitability has decreased, while total capital distributions have fallen for the last three years, by 35% last year and they\\'re projected to fall 50% in 2016 from 2014 levels. I urge shareholders, management and the board to fully consider this strategically important issue at such a critical juncture. Thank you.\\n\\nREX TILLERSON: Thank you, Ms. Lamb. The board recommends a vote against this proposal as outlined on Pages 66 and 67 of the proxy statement.\\n\\nThe next shareholder proposal calls for a policy to limit global temperature increases to 2 degrees centigrade and is shown on Pages 67 and 68 of the proxy statement. I understand that Sister Patricia Daly will present the proposal.\\n\\nPATRICIA DALY, SISTERS OF ST. DOMINIC OF CALDWELL NEW JERSEY: Good morning, Mr. Tillerson. How are you today?\\n\\nREX TILLERSON: I\\'m well. Thank you.\\n\\nPATRICIA DALY: Good morning, everybody, and members of the board. My name is Sister Patricia Daly. I\\'m a Dominican Sister of Caldwell, New Jersey, the lead filer along with 32 other institutional investors, most of whom -- many of whom are here today, but most of whom are members of the Interfaith Center on Corporate Responsibility, representing faith-based initiatives, institutions, Native American tribes, health care systems and asset management firms.\\n\\nI move Item 11 on the proxy, which asks ExxonMobil to adopt a policy acknowledging the imperative to limit global warming to 2 degrees Celsius. This resolution calls for moral leadership on the part of our company. Accepting the moral obligation of the 2-degree target in the midst of the climate crisis is surely the lowest hurdle our company will face on this issue.\\n\\nInstead, in opposing this resolution, our company has chosen to disregard the consensus of the scientific community, the will of 195 nations that signed the Paris Agreement in December, many of our peers in the oil and gas industry and the calls of faith leaders from the Catholic, Jewish, Christian, Muslim, Buddhist and interfaith traditions. I\\'m particularly and personally challenged by our Pope Francis in his encyclical letter, Laudato Si\\', that was published last year, a reflection to all peoples on the planet on our common home. I hope people here may take the time to read that.\\n\\nOpposing this resolution positions our company against a movement for climate justice. As the world moves forward, ExxonMobil stands still. Every day, new reports and incidents demonstrate the importance of the 2-degree target for the sake of our planet for future generations and vulnerable communities, communities hit hardest by climate change. Record wildfires still rage in Alberta, disrupting the production of the very tar sands fueling global warming. We can see impacts today all around us.\\n\\nIn a world already facing the worst refugee crisis in generations, continued conflict and war and projected extreme heat waves that will render parts of the world uninhabitable, we must limit our warming to 2 degrees. Decades have been lost in the fight against climate change due in part to our company\\'s deliberate campaign of disinformation.\\n\\nMr. Tillerson, last year, at the oil and gas -- the annual Oil & Money Conference, you said and I quote, \"There\\'s also a humanitarian dimension and a moral imperative to what we do.\" Today, we ask our company to acknowledge the full breadth of its moral imperative, moral responsibilities to provide the solutions to energy poverty while limiting global warming to less than 2 degrees. Anything less is a false solution for the world\\'s poorest and most vulnerable. Please join your peers like Shell, BP and Saudi Aramco who stated, and I quote, \"Our shared ambition is for a 2-degree future. It\\'s a challenge for the whole of society. We are committed to playing our part.\" Now ExxonMobil must play its part, too.\\n\\nMr. Tillerson, you said earlier in the energy outlook that you believe that the energy outlook is in line with the 2-degree limit. If you really believe that, why would you and our Board of Directors recommend a vote against this resolution? Thank you.\\n\\nREX TILLERSON: Thanks, Sister Pat. The board recommends a vote against this proposal as outlined on Pages 68 and 69 of the proxy statement.\\n\\nThe next shareholder proposal calls for a report on impacts of climate change policies and is shown on Pages 69 and 70 of the proxy statement. I understand that Edward Mason will present the proposal. Mr. Mason?\\n\\nEDWARD MASON, SHAREHOLDER, CHURCH COMMISSIONERS FOR ENGLAND: Thank you. Chairman, members of the board, shareholders, good morning. My name is Edward Mason from the Church Commissioners for England, who manage the Church of England\\'s endowment. We\\'re long-term shareholders interested in the sustainable success of the companies in which we invest, and it\\'s a pleasure to be here in Dallas for Exxon\\'s annual meeting.\\n\\nThe Church Commissioner is a lead co-filer of shareholder Proposal Number 12, which was filed by New York State Common Retirement Fund, whom I\\'m also representing. The resolution asks Exxon to publish annually an analysis of how its portfolio stress tests against a scenario in which the world restricts warming to 2 degrees. This is a reasonable request.\\n\\nChairman, as you have acknowledged this morning, climate change is real. The desire of global governments to restrict warming to below 2 degrees, affirmed in the Paris Agreement, is real. The financial risks and opportunities for companies associated with the transition to a low-carbon economy are real. These risks have been recognized by the global Financial Stability Board chaired by the governor of the Bank of England, which has created a task force on climate-related financial disclosure.\\n\\nExxon\\'s peers have agreed to provide regular portfolio resilience reporting, including BP, Shell and Total. At BP and Shell\\'s annual meetings last year, the reporting request was endorsed by 98% of shareholders at both companies. Because of Exxon\\'s decision to diverge from its peers and oppose the request in this resolution, management will today experience a major shareholder revolt.\\n\\nChairman, the board is losing the confidence of its investors on climate change. In the run-up to this annual meeting, investors with over $10 trillion of assets affirmed their support for this shareholder proposal.\\n\\nMany of the world\\'s largest asset managers are voting against management today -- Aegon, Amundi, Aviva Investors, AXA Investment Managers, BMO Global Asset Management, BNP Paribas Investment Partners, HSBC Global Asset Management, Legal & General Investment Management, Natixis Asset Management, Robeco and Schroders. The world\\'s largest sovereign wealth fund, the Norwegian Government Pension Fund, pension schemes from around the world from the public and private sector alike and church investors like us from three continents are all voting against management.\\n\\nChairman and members of the board, Exxon can do better. Following today\\'s vote, the investors backing this proposal look forward to starting afresh and having a responsive and productive engagement with the company on climate-related disclosures.\\n\\nREX TILLERSON: Thank you, Mr. Mason. The board recommends a vote against this proposal as outlined on Pages 70 and 71 of the proxy statement.\\n\\nThe next shareholder proposal calls for the company to report reserve replacement in BTUs and is shown on Page 71 of the proxy statement. I understand that Danielle Fugere will present the proposal. Ms. Fugere?\\n\\nDANIELLE FUGERE: Thank you. Ladies and gentlemen of the board, Mr. Chairman and all shareholders gathered here today, good morning. My name is Danielle Fugere. Thank you for the opportunity to move Item 13 entitled Carbon Asset Transition. This proposal sends a clear message that shareholders want our company to prepare to thrive in the coming clean energy economy. It\\'s becoming clear, and I think we\\'ve heard today, that business as usual is no longer a viable strategy for the 21st century and in fact is incompatible with a livable planet.\\n\\nRecognizing the urgency facing businesses to respond to climate change, this proposal seeks to provide a means by which our company can move beyond the current business model, begin to respond to new opportunities and consider becoming an energy company for the future.\\n\\nThis proposal asks Exxon to account for energy reserves in resource-neutral BTUs, or British thermal units, an internationally accepted energy unit, in addition to the traditional barrels of oil equivalent. Since Exxon already uses BTUs, this reporting is not difficult to accomplish. And this seemingly minor accounting tweak will have major consequences. It will help our economy and the market account for and place value on a range of energy resources beyond just oil and gas, including geothermal, cellulosic biofuels, wind, solar and other energy resources. By aligning one of the market\\'s primary valuation metrics, reserve replacement, with this imperative for lower carbon energy, a path to become a truly diversified and competitive energy can be forged.\\n\\nCurrently, in oil and gas companies, market value is based in large part on reserve replacement ratio. Did the company replace every used barrel of oil it produced with a newly discovered barrel of oil? If annual oil reserve replacement isn\\'t 100% or greater, a company\\'s stock market value may be impaired. Unfortunately, we saw both of these things happen to Exxon this year when S&P downgraded the company\\'s credit, it noted that in its view, the company\\'s greatest business challenge is replacing its ongoing production.\\n\\nThe all-important reserve replacement metric locks management into an endless hunt for more oil and gas. So shareholders look to Exxon to be a leader in beginning the inevitable transition to becoming a diversified energy company, able to compete in a decarbonizing economy. Imagine energy analysts looking at Exxon\\'s filings in the future and seeing 67% of barrels of oil equivalent replacement and 100% BTUs, and then the next year, 60% barrels replaced and again, 100% BTUs. This tells a story of a company in transition to not only survive, but thrive in a clean energy economy. We urge shareholders to vote in support of proxy Item 13. Thank you for your attention.\\n\\nREX TILLERSON: Thank you, Ms. Fugere. The board recommends a vote against this proposal as outlined on Page 72 of the proxy statement.\\n\\nThe last shareholder proposal calls for a report on hydraulic fracturing and is shown on Pages 72 and 73 of the proxy statement. And I understand, Ms. Fugere, you will present this proposal as well.\\n\\nDANIELLE FUGERE: Thank you. I\\'m also presenting Item 14, a shareholder proposal requesting Exxon to increase its transparency on hydraulic fracturing operations. A similar proposal was filed last year and received 25% support from voting share owners.\\n\\nRather than improving its transparency, however, Exxon has remained a laggard in demonstrating to shareholders that it is using practices that reduce risk and reduce harms. In the face of well-known environmental and social impacts, the public has continued to pass restrictions and moratoria, limiting business opportunities and imposing a wide range of costs on companies, from the cost of delay to complete loss of access to valuable resources, all of which materially impact investors\\' holdings. Improved reporting helps reassure the public that companies are addressing local issues such as air and water pollution, truck traffic and noise and competition for water in water-scarce areas.\\n\\nLocal issues require local reporting, thus we ask the company to report on local issues on a play-by-play basis, so that neighbors can understand specifically what the company is doing in their neighborhood. If Exxon reports worldwide reductions in air pollution, that does nothing to alleviate concerns of local community members about what the company might be doing in their neighborhoods.\\n\\nBetter reporting also provides information as to whether the company is using best practices in places where they are not legally required to do so. Stating that the company follows the law is not useful in places where the law doesn\\'t sufficiently protect communities. Methane leakage is a good example. The public and lawmakers are focused like lasers on the issue of whether companies are monitoring or/and addressing methane leakage where it occurs. If leaks aren\\'t addressed, natural gas may become worse for the climate than coal. While methane leakage laws are being developed, it\\'s critically important that industry and Exxon get out in front of the issue and trumpet the actions they are taking to prevent or address methane leaks.\\n\\nExxon is currently far behind other companies in its reporting. Leaders like BHP Billiton, Hess, Apache, CONSOL and Noble Energy earned top scores this year in a report called Disclosing the Facts, while Exxon rated near the bottom, again, far behind its peers and frankly, behind where such a leading company should be. Peer reporting has earned these other companies accolades, and the sky hasn\\'t fallen around them.\\n\\nIn the absence of meaningful disclosures, shareholders have no way to fully assess the steps Exxon is taking, both over time and relative to peers, regarding its actions to reduce the impact of its shale oil and gas operations. It\\'s beyond time that Exxon begin to demonstrate leadership in this important area. We encourage shareholders to vote for proxy Item number 14 to increase Exxon\\'s transparency and communicate on these important issues. Thank you.\\n\\nREX TILLERSON: Thank you, Ms. Fugere. The board recommends a vote against this proposal as outlined on Pages 73 and 74 of the proxy statement.\\n\\nAll items of business have now been introduced. I invite any of you who want to, to stand and stretch your legs again for a minute. And for those of you who wish to address the meeting in the discussion period, this would be a good time for you to move toward the aisle to the reserved seats, so you\\'ll have ready access to a microphone.\\n\\n(Break)\\n\\nREX TILLERSON: Okay, let\\'s resume the meeting, so if you would take your seats please.\\n\\nI would now open the floor for discussion on the items of business presented. I\\'d like to emphasize that your comments should be limited to only the board and shareholder proposals in the proxy statement at this time. As I said earlier, we\\'ll try to set some time aside to address other topics if we have time remaining. We received a number of questions on proxy cards and through our website. As time permits, we\\'ll try to get to some of those.\\n\\nAs described earlier, move to the aisle if you\\'ve not already done so, or if not already seated nearby. Remain seated and raise your speaker identification card to indicate you want to address the meeting. When recognized, give your completed speaker identification card to the usher, and a microphone will be provided. Stand and begin by stating your name and the board or shareholder proposal you want to comment on. Bear in mind the rules of conduct shown in the program. Make your comments as brief as possible so that we can allow as many people to address the meeting as wish to do so. We\\'ll continue to use the lighting system to help you manage your time. First priority will be given to those who have not yet had an opportunity to speak. So I would welcome your questions or comments at this time.\\n\\nQuestions and Answers\\n\\nREX TILLERSON: There in the back.\\n\\nDAVID RIESMAN, SHAREHOLDER: Fellow shareholders -- oh sorry. My name is David Riesman. I\\'m speaking on Item Nine, lobbying. Fellow shareholders, member of the board, I\\'m here representing Yale University\\'s Dwight Hall, one of the co-filers of the lobbying proposal.\\n\\nYale and over 1,000 academics have publicly indicated support of this proposal. In the past year, Exxon has come under unprecedented scrutiny of its political spending and public policy positions, including ongoing investigations by the state attorney general to determine whether ExxonMobil deliberately misled the public and investors. This investigation and the risk it poses to shareholder value underscore the need to improve disclosure and oversight of our company\\'s lobbying, especially through third parties.\\n\\nExxon publicly supports a carbon tax and acknowledges the realities of climate change, but its lobbying practices appear to conflict with his positions. Exxon\\'s management justifies its support of organizations that obstruct climate policy by claiming that Exxon supports some, but not all, of the actions of such organizations.\\n\\nHowever, because Exxon is an oil and gas company, the company\\'s exposure to climate policy obstructionism is in danger of being construed as intentional. We believe that ExxonMobil shareholders deserve to understand the process by which the company contributes to organizations whose positions contradict Exxon\\'s stated principles, blocking progress on climate change.\\n\\nIt\\'s hard to take these principles in good faith while seeing these contradictory practices. For example, Exxon is an active leader and funder of ALEC, a primary agent of climate policy obstructionism. The company has justified participation in ALEC on the basis of the organization\\'s STEM lobbying, among others.\\n\\nHowever, Exxon can pursue STEM lobbying through other organizations. Recently, 100 companies have publicly left ALEC. Many companies, including Shell and BP, have determined that ALEC\\'s harmful climate obstruction outweighs any of ALEC\\'s benefits. Given that ALEC\\'s harmful policy obstruction seems to overshadow any other membership benefits, why is this company still associated with ALEC? Thank you.\\n\\nREX TILLERSON: Thank you. Other speakers? All right, down here. I didn\\'t hear a question.\\n\\nDAVID RIESMAN: Why the company is still associated with ALEC, given the previous statements?\\n\\nREX TILLERSON: Well, ALEC, as you probably know, is an organization of state legislators and legislative bodies, over 400 members. And most of the most productive legislation in this country is passed at state levels.\\n\\nWe have found our engagement with them to be very productive in a number of broad areas, whether it\\'s tax policy, other regulatory areas, particularly educational reform, and that is why we remain engaged with them. We find them to be a highly competent and very thoughtful policy organization. Whether we agree with the positions they ultimately take or not, we find the engagement very useful to our understanding of these issues, and we intend to continue.\\n\\nDown here.\\n\\nMICHAEL MACCRACKEN, CHIEF SCIENTIST, CLIMATE CHANGE SCIENTIST, MERCY INVESTMENT SERVICES: Thank you. Mr. Tillerson, members of the board, my name is Michael MacCracken. I\\'ve been a climate change scientist for nearly 50 years, and I\\'m here on behalf of Mercy Investment Services, speaking with respect to the items raised in Proposals 11 and 12.\\n\\nAt last year\\'s shareholder meeting, Mr. Tillerson, you responded to an audience question that climate model results were too uncertain to be reliable, and that if emissions cutbacks were not sufficient, engineering ways would emerge and serve as plan B. While we\\'ll have no -- or we\\'ll have no choice but to try and adapt, I\\'d suggest that the international scientific community would take strong exception to the viewpoints you expressed with respect to what it means with regards to national and international policies.\\n\\nOn the first point, in DOE\\'s major, widely peer-reviewed 1985 climate change assessment that preceded IPCC, Exxon\\'s leading climate change scientist for the past several decades, Dr. Brian Flannery, coauthored the chapter on projecting climate change. That chapter concluded that quote, \"Climate models currently available when run with standard scenarios of fossil fuel CO2 emissions indicate a global warming of the order of 1 degrees C by the year 2000 relative to the year 1850, an additional 2 to 5 degrees C warming over the next century.\" So that projection was made three decades ago, and it\\'s still the case today. Basically, we\\'ve had a good sense of what the large-scale outcomes were, but the actions we have taken have really not changed things much.\\n\\nIndeed, as you said last year, improving climate models and having more data and computer resources have been helpful, but there are inevitable uncertainties. The top line conclusions, however, have not changed over this entire period. The main reason now for the differences between models is with respect to the choices we make with what energy technologies we have, what emissions we have. So basically, we need to decide what\\'s going to happen with respect to the future.\\n\\nWith the potential -- with respect to the potential for mitigation -- with adapting, all major assessments indicate that it\\'s going to be very hard technologically and economically to adapt to a lot of the different consequences, biodiversity and other things.\\n\\nSo my question would relate to these resolutions, have to do with what due diligence analyses ExxonMobil has done to date with respect to the likelihood and what we\\'re finding in the scientific community, the consequences are becoming more severe -- likely to be more severe than IPCC has been projecting? And what win-win solutions ExxonMobil is looking for to try and meet the more aggressive actions that are going to be needed to meet the Paris accord and objectives.\\n\\nREX TILLERSON: Well, as you and I have spoken before, my view on the competency of the models has really not changed. And in fact, that is reflected in the IPCC\\'s own FAQs. In the FAQs following the Paris climate accord, the question was asked of the IPCC panel, is there a scientific basis for the 2-degree centigrade target?\\n\\nAnd you can go to the FAQ and find this for yourself. I\\'m going to paraphrase it. The answer is no. There is and they say it, they go on to say there is no scientific basis for the 2-degrees centigrade target. The target has been one chosen by society in a general consensus process. I take no exception to that, okay? So we can set the science apart from what we, as society, decide we\\'re going to choose to pursue as a matter of policy.\\n\\nSo now your question is as a matter of policy. And I said to you relative to the understanding of the science, there\\'s no space between us and the IPCC. We see the science the same way. Our differences on policy choices are, I think, one that is grounded in reality. And the reality is, there is no alternative energy source known on the planet or available to us today to replace the pervasiveness of fossil fuels in our global economy and on our very quality of life, and I would go beyond that and say our very survival.\\n\\nSo it is a judgment of balance between future climatic events, which could prove to be catastrophic, but are unknown by the IPCC\\'s own acknowledgment, and more immediate needs of humanity today to address poverty, starvation, broad-based disease control and the quality of life of billions that people who are still living in today, which is unacceptable to many of us. And the only way out of that is to provide them the energy sources we have today. And that\\'s why we continue to believe fossil fuels will have a significant and important role to play for as far as we can see. And no government studies disagree with that.\\n\\nSo then your second question is what do we do? So then what we do is we have now, for more than three decades, focused our research efforts on given that, that is the case, how can we provide people the capability to use these fuels and these energy sources in a less impactful way? And in the early days, we invested in enormous amounts of time and energy on energy efficiency. How can I continue to carry out my activities consuming the same amount of fossil fuels and have a lower impact on the atmosphere and the surrounding environment? And we continue that.\\n\\nWe have advanced our technology investigations, and I addressed them today. We think one of the important breakthroughs that is needed is in carbon capture sequestration. If, in fact, our view is -- turns out to be true and the world\\'s going to have to continue to use fossil fuels whether they like it or not, if we can achieve a breakthrough on carbon capture sequestration, we can continue using fossil fuels, capturing the carbon in an economic way and sequestering it. And that is a huge if, but it\\'s also a huge breakthrough that would change things dramatically. A lot of people are working on that. And we\\'ve been working on it on a very long time. And I mentioned today a new endeavor we have entered into that we believe has promise, but we also know it is many years away from perfection.\\n\\nSo those are the kinds of things we are doing. So we are not ignoring the risk that is out there. And I think as you and I discussed, I don\\'t think we see it all that differently. Our differences are how we think we\\'re going to address it. And again, we are grounded in the reality of the world we live in today and what is known technologically to us today. And I would invite you to read a piece that Bill Gates recently wrote where he has undertaken on himself to support research. And he would come to the same conclusion. He and I have had this conversation. There\\'s no space between we -- he and I on this either. We\\'ve got to have some technology breakthroughs. But until we achieve those, just saying turn the taps off is not acceptable to humanity. Thank you.\\n\\nMICHAEL MACCRACKEN: If I may just for a moment respond on the issue of the Paris levels. I mean, it is the case that there\\'s no sort of sharp threshold because consequences are getting worse and worse and worse. And society has set that partly as a political one because it can\\'t achieve what the scientific community would suggest, which is -- it was about 0.5 degree warming when we started losing mass from Greenland and the Antarctic ice sheets. And what paleoclimatic evidence talks about and would say, coming out of the last glacial and as has been the case in the past history, is that sea level rise ultimately is of the order of 15 to 20 meters per degree C warming in global average temperature. It\\'s tremendous, not something that is easily adapted to.\\n\\nSo yes, society chose an arbitrary level, and they haven\\'t committed yet to try and even -- made the commitments to even get to that level. But really, they should be pushing down and doing all they can. And that\\'s what we\\'re basically asking for is doing all that can be done with regard to cutting emissions.\\n\\nREX TILLERSON: I understand, and so I\\'m going to respond to a couple of points you made there, and then we\\'re going to move on to another speaker. The factors that you just described, 15 meters, half a degree C, there are a large number of alternative views that suggest those are the most extreme outcomes. And in fact, an IPCC scientific paper, as you well know, they show a very broad range. So you are focusing on the worst possible combination of events from all of the possible scenarios. We choose to look at it as a range of risk, and that\\'s the way we manage our business as well. And again, I don\\'t think there\\'s any space between us other than the solutions that we think we have to pursue.\\n\\nYes, sir, in the middle?\\n\\nDAVID MARTINEAU, GEOLOGIST: My name is [David Martineau]. I\\'m a geologist, and I\\'ve been drilling and fracking wells for about 56 years now. But the reason I\\'m here kind of is this interest -- they used to call it global warming, but now it\\'s called climate change. You want to know why? The planet has cooled by 0.07 degrees in this past century, partially because of the Exxon emerging energy policies. We thank you for that.\\n\\nBut if you want to know about global warming, there\\'s a book called Unstoppable Global Warming, and it was a bestseller in The New York Times. And it tells you why we have global warming today, and we\\'ve been having it forever and ever.\\n\\nThe other item was an article that was written by, I can\\'t read my numbers here, let me (inaudible - microphone inaccessible) by Ian Pilmer (sic - Ian Plimer). He\\'s an Australian geologist, and he edits the Encyclopedia for Geology. And he came up with where does carbon dioxide really come from? A four-day volcano eruption in Iceland negated every single effort for the past five years to control CO2. Also, there was one in the Philippines in 1991. It spewed out enough greenhouse gas in a year to take care of everything that\\'s happened in our country forever and ever as far as CO2. CO2 is that vital chemical compound that every planet requires to live and grow and synthesize into oxygen for us humans and all animals to live. We need -- global warming is here and it\\'s going to be here forever. Trying to change it here the last few bits doesn\\'t make sense.\\n\\nOne quick thing about fracking. The first frac job occurred, believe it or not, in 1866. Colonel Edward Roberts got out of the military -- Civil War, and he came up with the idea of dropping gunpowder down in a wellbore where they were drilling shallow wells. And they went ahead and ignited that, and it increased the production tenfold. And we\\'ve been fracking wells for 100 years. Thanks to that, we have a lot of oil and gas. He patented that, and people didn\\'t want to pay the patent fee. So they would do it at night, and that\\'s where the word moonlighting came from. But if you all don\\'t like what you\\'re doing here, why -- I mean if you don\\'t like Exxon, why don\\'t you go ahead and sell it and buy some solar stock? And whether you\\'ll have enough money to pay for your gasoline and pay for your jet fuel that you used to come to visit here, but I recommend you vote against all of the carbon planet change proposals. Thank you.\\n\\nREX TILLERSON: Thank you. In the inside aisle here.\\n\\nRENEE BOUCHARD: Good morning. My name is [Renee Bouchard] and I\\'m actually from Texas. I live in Wimberley, Texas. Maybe you all are aware, if you watched the news a year ago yesterday, we were inundated by a flood that devastated our town. I lost our home. My family lost our home as well as 400 other homes in Wimberley were destroyed by the catastrophic flood. Needless to say, my feeling is that the effects of climate change are real and are happening now, not something that\\'s abstract and in the future, not something that\\'s just been affecting indigenous populations, even though that\\'s really heartbreaking as well. Our flood was one of five flooding-related federal disasters in Texas just in the past two years.\\n\\nI\\'ve lived in this area for over 20 years. Flooding, as you know, you\\'ll be saying: flooding happens in that part of Texas. That\\'s true, but not like this, a 40-foot wall of water, 13 inches of rain. Anyway, when these disasters happen, federal taxpayers spend billions on aid and bailouts. As you all probably are aware, State Attorneys Generals have suggested fossil fuel companies may be legally liable for these climate damages. I think from today\\'s meeting, I know what your position is and whether Exxon should be held legally liable for damages from climate change.\\n\\nSo my question is, what happens if the company loses in the coming court battles? And I anticipate there will be more. How is Exxon calculating the financial risks it would face if fossil fuel companies have to pay for damage from climate change, like the tobacco companies who, for many decades, said cigarettes were not an unhealthy thing to take part in. Thank you.\\n\\nREX TILLERSON: Speculating on future court events would be irresponsible on my part, and therefore those numbers will be unestimable. Over here.\\n\\nKATHY MULVEY, ACCOUNTABILITY CAMPAIGN MANAGER, UNION OF CONCERNED SCIENTISTS: Good morning. I\\'m Kathy Mulvey with the Union of Concerned Scientists, and I\\'m attending on the proxy of the Unitarian Universalist Association. And I have a question related to Item Nine on transparency and in climate science and policy.\\n\\nLast July, UCS published The Climate Deception Dossiers, evidence that ExxonMobil and other major fossil fuel companies have intentionally spread disinformation about climate science for decades. I have one copy here. So as state Attorneys General investigate whether ExxonMobil misled investors and the public about the realities and risks of climate change, people are increasingly making comparisons to the tobacco industry\\'s misconduct and measures taken to address it. ExxonMobil now claims that quote, \"We do not fund or support those who deny the reality of climate change.\"\\n\\nBut actions speak louder than words. ExxonMobil is represented on the board of the American Petroleum Institute, API, which continues to claim that the science of climate change is unsettled, while attempting to block efforts to limit carbon pollution. Exxon\\'s Randy Randol contributed to a notorious 1998 road map plan to sow uncertainty about climate science among the media, the public and policymakers. Other shareholders have spoken about ALEC, which was one of the organizations that API identified to bankroll that campaign. Your company sponsored ALEC\\'s 2015 annual meeting where attendees were told, \"The biggest scam of the last 100 years is global warming.\"\\n\\nMr. Tillerson, more than 26,000 UCS supporters have sent messages to you demanding that ExxonMobil stop funding ALEC as your peers, BP and Shell, have done. You\\'ve spoken this morning of commitment to integrity in everything we do. When will your company publicly condemn climate deception? And in response to the question from the Yale student, you seemed to imply perhaps not agreeing with ALEC. So what would a commitment to integrity mean in terms of separating the company from ALEC\\'s climate disinformation?\\n\\nREX TILLERSON: The only way I know to respond is to tell you that we will never withdraw our support for people to express their free-speech opinions on any matter whatsoever. And the fact that people have different opinions on climate change, they have every right to their opinion. Whether we agree with it or not, I will support their right to say so.\\n\\nKATHY MULVEY: To follow up on that, it\\'s quite clear from legal rulings that the First Amendment was never intended to protect fraud. And so clearly, there are consumer protection laws in the several federal states that are designed to present -- prevent commercial misinformation, so.\\n\\nREX TILLERSON: And we have responded to those allegations as well. They have largely been debunked. All of our publications are readily available, as you know, for examination. In fact, we donated all of those archives to the University of Texas at Austin. If we were wanting to hide something, we did a pretty poor job of it.\\n\\nLet\\'s go to the lady in the back there. No, right here, just in the middle.\\n\\nCHARLOTTE RAWLS, SHAREHOLDER: I don\\'t intend to speak and then I sit and write notes. My name is [Charlotte Rawls]. I come from Shoreacres, Texas, which is on Galveston Bay. I overlook the Baytown refinery. I watch and see what happens there daily because my window overlooks it. And what I see is a lot of smoke and a lot of flares. And then I cross the Fred Hartman Bridge and I go into Baytown, and I work with school children there. I work with school children who have much asthma -- and also in that area, heart disease and a lot of respiratory problems and cancer.\\n\\nI think it\\'s no wonder that we have one of the premier cancer institutes in Houston, MD Anderson, because we do have so much cancer in our area. When it rains, we see much more and the smells -- and definitely, it smells like toxins to me, I don\\'t know exactly what it is. I would like to see zero emissions. If we\\'re not going to admit to climate change and admit that fossil fuels are causing -- are a part of climate change, so at least let\\'s look at the health effects from the things that are coming out of the plants.\\n\\nI have experience in Baytown, but I also read about experiences about other people around the world. The other thing that happens with children is IQs are lowered when there\\'s significant amounts of air pollution, which there are in the city of Baytown.\\n\\nI do appreciate your admitting that there is climate change. I\\'ve been to several meetings. I followed ExxonMobil very closely because I\\'m a third generation shareholder. My grandfather worked for the Humble Pipe Line in -- right after World War I, and we did not buy anything, but Humble. We didn\\'t go to Shell, we didn\\'t go to Mobil, we didn\\'t go anywhere. We went to Humble. And it was not until the Exxon Valdez disaster that I started going to other places.\\n\\nI continue to have my stock and then inherited my mother\\'s stock. So I would also like to say something on behalf of my mother, which she voted every year, her proxy. And she said we need more women represented on the Board of Directors. I see a couple. I need to see more.\\n\\nThe other thing I debate often, whether I need to divest of my Exxon stock. I\\'m sorry, I still call it Exxon stock. ExxonMobil stock. It\\'s been a dilemma for me for a long time because I keep thinking that I can influence change. I\\'ve done that through the Waterkeeper Alliance. I\\'ve done that through the Natural Resources Defense Council. I\\'ve done it through Earthjustice.\\n\\nI try, I try, I try to make things better, but it\\'s about time to divest. I do benefit greatly from the stock. However, when I look to see what taxpayers are going to be paying for, I\\'m not sure it\\'s that good of a deal. Health care, and I want to go back to ALEC because we have still --\\n\\nREX TILLERSON: Could you begin to wrap it up?\\n\\nCHARLOTTE RAWLS: I\\'m sorry. I think it\\'s more expensive to own my stock than to take my dividends.\\n\\nREX TILLERSON: Thank you. So over here to this side of the hall.\\n\\nROBERT FORE, REPRESENTATIVE, PRESBYTERIAN CHURCH U.S.A.\\'S FOUNDATION: Thank you, Mr. Chairman. Ladies and gentlemen, members of the board and fellow shareholders. My name is Robert Fore. I\\'m here representing the shares of the Presbyterian Church U.S.A.\\'s Foundation. And as long-term shareholders, we are very concerned -- and well, very concerned about the long-term sustainability and importantly, profitability of our company.\\n\\nAnd I\\'m going to talk a little bit about the Items 11 and 12 today and talk specifically about some of the peer groups that were mentioned, peer companies and their recognition of the 2-degree scenario. Specifically, I want to talk about one, which is Saudi Aramco. Saudi Arabia has made it clear that they are seeking to monetize their oil reserves now, regardless of the impact on price.\\n\\nMinister Al-Naimi said that he could live with $20 per barrel. The Deputy Crown Prince has said $30 per barrel or $70 per barrel, it\\'s all the same to them. And he has furthermore announced plans, a plan called Vision 2030, in which he wants to wean his country off of oil by the year 2030 or sooner.\\n\\nGiven the global signals of the end of the oil era, from low commodity prices to recent statements and decisions from Saudi Aramco to start selling shares publicly to build up a $2 trillion sovereign wealth fund, we\\'re concerned about some of the claims of the future of energy will look very much like the past.\\n\\nI think you\\'ve talked a little bit today about 2040 scenarios. My question is, what do the Saudis -- or why do the Saudis see the future of oil -- future of energy so differently than the leadership of ExxonMobil? What do they know that we are not considering? Furthermore, what specifically are you doing to ensure the business model of ExxonMobil is nimble enough to withstand low carbon demand scenarios, including disruptions, be they technological regulatory or market-based?\\n\\nREX TILLERSON: Well, as to Saudi Aramco\\'s views or the Kingdom of Saudi Arabia, I -- you would have to ask them. I can\\'t speak on their behalf. I think we showed you today a number of things that we\\'re doing in terms of remaining flexible to alternative outcomes in the future.\\n\\nWe have, unlike many of our competitors, we have for many years included a price of carbon in our outlook. And that price of carbon gets put into all of our economic models when we make investment decisions as well.\\n\\nIt\\'s a proxy. We don\\'t know how else to model what future policy impacts might be. But whatever policies are, ultimately they come back to either your revenues or your cost. So we choose to put it in as a cost.\\n\\nSo we have accommodated that uncertainty in the future, and everything gets tested against it. As to other actions, it\\'s the research areas you see in terms of our understanding of the issue. And we probably have been engaged in the scientific study of this longer than any of our peers for four decades now. And we continue to be engaged, so we are very, very aware and up-to-date on the current scientific understanding. And we fund a number of research areas, both academically and institutionally, that are areas where people are investigating possible breakthroughs, whether it\\'d be in battery technologies or alternative fuel technologies or what\\'s the next possible game-changing technology.\\n\\nWe do that so we\\'re aware of whether that is something that has potential or not. And so we monitor all of that, and we invest and run our programs accordingly. And should something evolve, we have the capacity to become engaged in that if we see it is in the interest of our shareholders. So that\\'s how we\\'re responding.\\n\\nSo back over here.\\n\\nHUNTER MARTIN, SHAREHOLDER: Mr. Tillerson, my name is [Hunter Martin]. My wife and I have been driving up here from Houston for more than 25 years, going back to Larry Rawl\\'s days for the meetings. And I think I bought my first shares of the company probably the year you were born. And I don\\'t presume --\\n\\nREX TILLERSON: I wish my dad had bought some shares the year I was born.\\n\\nHUNTER MARTIN: I do not presume to forecast what\\'s going to happen over the next 12 months. But [Lori] and I want to thank you and compliment you on your stewardship of our company.\\n\\nApplying whatever parameters one would choose, you personify all that is best in America and world industry, and the lives of all of us shareholders are more secure and in return, happier because of you.\\n\\nOur thanks embrace the employees as well as the board. At the top, of course, is you and your superlative guidance. Congratulations on your achievements, Mr. Tillerson, and thanks for your dedication to all of us.\\n\\nREX TILLERSON: Thank you for those kind words. Right here.\\n\\nANNA KOLINSKI: CEO Tillerson, it\\'s good to have the opportunity to speak to you. So my name is [Anna Kolinski] and my grandfather, James F. Black, was a scientist for Exxon for over 40 years. He started with Standard Oil during World War II, later earned dozens of patents for Esso and later Exxon.\\n\\nIn 1977, he briefed the company\\'s top executives on the scientific realities of climate change. He said that present thinking holds that man has a time window of 5 to 10 years before the need for hard decisions regarding changes in energy strategies might become critical. Like you acknowledge on your slides, this was over 30, almost 40 years ago. And since then, Exxon has continued to support groups that dispute the science that my grandfather warned your company about.\\n\\nMy question was going to be, will you withdraw funding from ALEC because they\\'re known to spread misinformation about climate change, but it sounds like your answer on that is a resounding no. So since you won\\'t be doing that, will Exxon be taking action to, at all, refute or counteract the negative impacts they\\'re making by funding an organization that says that climate change is a scam?\\n\\nREX TILLERSON: We will continue to engage in the policy discussions, as we currently do, with a number of broad-based groups on all sides of these issues and we\\'ll continue to be active in the discussions legislatively in Washington and elsewhere, including through the IPCC on what we think are thoughtful, sensible policy actions that accommodate both our need for economic growth as well as addressing these risks, which are going to be very, very daunting. Thank you.\\n\\n<Presentation>\\n\\nREX TILLERSON: I believe all the items of business have been covered now. So if any of you have proxy cards, please hand them to the ushers at this time. Those of you who have already returned your proxy cards need not vote by ballot unless you wish to change your votes. If you wish to change your vote, simply mark the appropriate sections of the ballot. The ballots will now be collected and turned over to the inspectors of election to be counted. If you wish your ballot to be kept secret, the ushers will provide you an envelope.\\n\\nThe appointed proxies in attendance today hereby cast all votes which we have been authorized to cast, in accordance with the instructions indicated on the individual proxy cards. So if you have proxies, please pass those to the ushers in the aisles at this time.\\n\\nSince proxies and ballots have been collected, I now declare the polls closed.\\n\\nQuestions and Answers\\n\\nREX TILLERSON: While the inspectors of election are preparing their preliminary report, I\\'m willing to answer a few more questions regarding ExxonMobil\\'s business, maybe one or two because time is running late on us. But I\\'ll interrupt at the point that the election results are available. So are there any other questions that people would like to put to me at this time? Let me go over here to someone that\\'s not spoken.\\n\\nUNIDENTIFIED AUDIENCE MEMBER: Good morning, Mr. Tillerson, directors and fellow stockholders and employees and retirees of the corporation. For many years -- I\\'m a retiree of the corporation now. But for many years, I was on boards of health care and safety for the company. For years, we were told that in health care area, we have to have a big pool for synergies and for economies of scale. But today, I understand that the pool has been split between employees\\' health care and retiree annuitant\\' health care.\\n\\nMy question to you, Mr. Tillerson, is one is why was this done because we no longer reach these economies of scale if we split the health care pool? And two is any forward comments you can make about what the future might hold for us annuitants as far as the Medicare supplement plan or any health care that the company still helps us afford? Thank you.\\n\\nREX TILLERSON: Well, I\\'m not sure I would characterize it as a splitting of the pools. We have -- obviously, we track claims and premiums in both of those pools. And so the changes you\\'ve seen are merely reflective of that experience.\\n\\nFor many, many years, the retiree pool has been subsidized by the employee pool, and it still is today. And it\\'s just a question of how much of that burden -- as we continue to bring our manning levels down within the corporation, from roughly 115,000 at the time of the ExxonMobil merger to 73,000 today. We\\'ve got a look at the cost of the plan to everyone.\\n\\nI do want to acknowledge that all of our plan participants, retirees included, have really done a very, very good job managing their health issues, which has allowed us to keep our growth in health care costs down. And so we appreciate that.\\n\\nBut the changes you\\'re seeing are really just reflective of having to bring the things back into balance. I encourage everyone to continue to take advantage of the various programs that we do provide through the company to help manage your health care. That helps us keep the cost of the program down. As you know, it\\'s a self-funded program.\\n\\nHave you got a comment down here or a question?\\n\\nJULIAN MARTINEZ, REPRESENTATIVE, SER-JOBS FOR PROGRESS: Thank you, Mr. Chairman. My name\\'s Julian Martinez, and I represent SER Jobs for Progress National. SER is a national, nonprofit, community-based organization serving more than 1.3 million people a year by assisting them with their employment and educational needs.\\n\\nSER National would like to thank ExxonMobil for working with us and Hispanic Heritage foundation in the past. Your efforts in sponsoring STEM programs is exemplary, and we appreciate those efforts. However, an area that we strongly believe needs improvement is your governance.\\n\\nExxonMobil has no Hispanics on their board nor on their senior management team. In order to reflect the diverse nature of the American marketplace, you need to consider making some changes.\\n\\nThe American dream is alive and well. Hispanics born in this country are more highly educated and earn higher incomes than their immigrant parents. Hispanics outpace all other Americas in forming their own businesses. They will represent fully one-third of the U.S. population in just 45 years and be an economic force of great consequence. Latino-owned businesses increased 46.9% from 2007 to 2012.\\n\\nIn 2012, 3.3 million Latino businesses had receipts totaling over $517 billion, making it 12% of our total business. Female Latino business owners were 44.4% of Latino firms as compared to 35.3% for non-Latino firms. Hispanics are the youngest racial or ethnic group in the United States. About one-third or 17.9 million of the Latino population is younger than 18, about a quarter or 14.6 million are millennials. Exxon needs to consider who both their workforce and the customers will be and embody governance and leadership to reflect that market.\\n\\nMy question, totally unrelated is, what do you think the price of oil is going to do between one and five years?\\n\\nREX TILLERSON: Well, as many of have heard me say before, if I knew that, I wouldn\\'t be here. I\\'d be on the beach with my laptop, making an oil bet every morning. So I don\\'t know is the answer to the question.\\n\\n<Presentation>\\n\\nREX TILLERSON: The inspectors of election are ready to report the preliminary vote. So may we have your report, please?\\n\\nUNIDENTIFIED COMPANY REPRESENTATIVE: Mr. Chairman, at least 3.5 billion shares of stock of the corporation have been voted on the 14 items of business discussed at today\\'s meeting. Voting results are expressed as a percentage of total votes cast. According to New Jersey corporate law, abstentions are not votes cast.\\n\\nSubject to the final tabulation of votes, which should not materially change the results, we report that on average, 95.9% of the votes cast were voted to elect as directors the 14 nominees listed in the proxy statement.\\n\\nOn the resolution concerning the ratification of independent auditors, approximately 98.9% of the shares voting thereon were voted for, and 1.1% were voted against.\\n\\nOn the resolution concerning an advisory vote to approve executive compensation, approximately 89.3% of the shares voting thereon were voted for and 10.7% were voted against.\\n\\nOn the resolution concerning an independent chairman, approximately 38.8% of the shares voting thereon were voted for, and 61.2% were voted against.\\n\\nOn the resolution concerning a climate expert onboard, approximately 20.9% of the shares voting thereon were voted for, and 79.1% were voted against.\\n\\nOn the resolution concerning hire an investment bank, approximately 2% of the shares voting thereon were voted for, and 98% were voted against.\\n\\nOn the resolution concerning a proxy access bylaw, approximately 61.9% of the shares voting thereon were voted for, and 38.1% were voted against.\\n\\nOn the resolution concerning a report on compensation for women, approximately 8.5% of the shares voting thereon were voted for, and 91.5% were voted against.\\n\\nOn the resolution concerning a report on lobbying, approximately 25.8% of the shares voting thereon were voted for, and 74.2% were voted against.\\n\\nOn the resolution concerning increased capital distributions, approximately 4.1% of the shares voting thereon were voted for, and 95.9% were voted against.\\n\\nOn the resolution concerning a policy to limit global warming to 2 degrees C, approximately 18.5% of the shares voting thereon were voted for and 81.5% were voted against.\\n\\nOn the resolution concerning a report on impacts of climate change policies, approximately 38.2% of the shares voting thereon were voted for, and 61.8% were voted against.\\n\\nOn the resolution concerning report reserves replacements in BTUs, approximately 5.5% of the shares voting thereon were voted for, and 94.5% were voted against.\\n\\nOn the resolution concerning a report on hydraulic fracturing, approximately 24.5% of the shares voting thereon were voted for, and 75.5% were voted against.\\n\\nOur written reports will be submitted to the secretary as soon as they are completed.\\n\\nREX TILLERSON: Thank you. As stated in the written report of inspectors of election on each of these -- a written report of the inspectors of election on each of these matters will be delivered to the secretary, and they will be filed with the SEC on a Form 8-K.\\n\\nIn concluding the meeting, let me thank all of you once again for attending. We appreciate you taking the time and the effort to be here. We know some of you travel a long way to be with us today, and we always enjoy seeing you, and we appreciate that you take that time. We take all of your comments seriously. It is useful to us to hear from you. And even where we disagree, I know our disagreements are both sincere on the issues as we all see them. I think we all strive for the same goals, and that\\'s to provide a great quality of life for our -- not just ourselves and our children, but people the world over. And that\\'s what the men and women of ExxonMobil are dedicated to.\\n\\nSo it\\'s great to see the shareholders that are here every year, great to see some of our [annuitants] here. Appreciate you all being here. Safe travels.\\n\\n[Thomson Financial reserves the right to make changes to documents, content, or other information on this web site without obligation to notify any person of such changes.\\n\\nIn the conference calls upon which Event Transcripts are based, companies may make projections or other forward-looking statements regarding a variety of items. Such forward-looking statements are based upon current expectations and involve risks and uncertainties. Actual results may differ materially from those stated in any forward-looking statement based on a number of important factors and risks, which are more specifically identified in the companies\\' most recent SEC filings. Although the companies may indicate and believe that the assumptions underlying the forward-looking statements are reasonable, any of the assumptions could prove inaccurate or incorrect and, therefore, there can be no assurance that the results contemplated in the forward-looking statements will be realized.\\n\\nTHE INFORMATION CONTAINED IN EVENT TRANSCRIPTS IS A TEXTUAL REPRESENTATION OF THE APPLICABLE COMPANY\\'S CONFERENCE CALL AND WHILE EFFORTS ARE MADE TO PROVIDE AN ACCURATE TRANSCRIPTION, THERE MAY BE MATERIAL ERRORS, OMISSIONS, OR INACCURACIES IN THE REPORTING OF THE SUBSTANCE OF THE CONFERENCE CALLS. IN NO WAY DOES THOMSON FINANCIAL OR THE APPLICABLE COMPANY OR THE APPLICABLE COMPANY ASSUME ANY RESPONSIBILITY FOR ANY INVESTMENT OR OTHER DECISIONS MADE BASED UPON THE INFORMATION PROVIDED ON THIS WEB SITE OR IN ANY EVENT TRANSCRIPT. USERS ARE ADVISED TO REVIEW THE APPLICABLE COMPANY\\'S CONFERENCE CALL ITSELF AND THE APPLICABLE COMPANY\\'S SEC FILINGS BEFORE MAKING ANY INVESTMENT OR OTHER DECISIONS.]'"
            ],
            "application/vnd.google.colaboratory.intrinsic+json": {
              "type": "string"
            }
          },
          "metadata": {},
          "execution_count": 236
        }
      ]
    },
    {
      "cell_type": "markdown",
      "source": [
        "This call took place on May 25th, 2016. The transcript is over 125,000 words, nearly as long as the third Lord of the Rings book. It would be a pain to read all of it, so we'll use python to extract insights. Currently, the contents of `call[\"Text\"]` is a [\"string\"](https://docs.python.org/3/library/stdtypes.html#text-sequence-type-str)-- a sequence of characters. We can do a number of things with strings, including splitting a big string into smaller strings using a specific delimiter and the `.split()` function. For example, I can break down the whole text of the earnings call roughly into sentences by splitting the string every time I encounter a period (\".\"). This returns a list of smaller strings, and if i select the first one using `[0]`, I get the first sentence of this call:"
      ],
      "metadata": {
        "id": "Yg_ohnHgC_3N"
      }
    },
    {
      "cell_type": "code",
      "source": [
        "call['Text'].split('.')[0]"
      ],
      "metadata": {
        "id": "0lt9pXgugv6L",
        "outputId": "362451d0-324e-4835-8e1c-bd7435800de9",
        "colab": {
          "base_uri": "https://localhost:8080/",
          "height": 35
        }
      },
      "execution_count": 241,
      "outputs": [
        {
          "output_type": "execute_result",
          "data": {
            "text/plain": [
              "\"I'm Rex Tillerson, I'm the Chairman and Chief Executive Officer of the Exxon Mobil Corporation\""
            ],
            "application/vnd.google.colaboratory.intrinsic+json": {
              "type": "string"
            }
          },
          "metadata": {},
          "execution_count": 241
        }
      ]
    },
    {
      "cell_type": "markdown",
      "source": [
        "Lovely! the first sentence is an introduction by then-CEO [Rex Tillerson](https://en.wikipedia.org/wiki/Rex_Tillerson).\n",
        "\n",
        "<img src=\"https://upload.wikimedia.org/wikipedia/commons/thumb/5/53/Rex_Tillerson_official_portrait.jpg/800px-Rex_Tillerson_official_portrait.jpg.jpg\" alt=\"drawing\" width=\"200\"/>\n",
        "\n",
        "He was CEO of Exxon from 2006 until he retired on January 1st 2017. One month later, he was sworn in as U.S. Secretary of State under Donald Trump. Let's see what Rex thinks about climate change!\n",
        "\n",
        "## Regular Expressions (Regex)\n",
        "\n",
        "Another thing we can do with strings in python is search them using regular expressions. A regular expression is a sequence of characters that specifies a search pattern in text. You can play around building some regex queries using this [tool](https://regexr.com/).\n",
        "\n",
        "You can think about this as Ctrl+F on steroids; In its simplest form, we can use regex to search for a character, word, or phrase in a bunch of text. For example, we can use regular expressions to count how many times \"climate change\" is mentioned in this earnings call using the `re.findall()` function: "
      ],
      "metadata": {
        "id": "RnNtpHY8iWvv"
      }
    },
    {
      "cell_type": "code",
      "source": [
        "# import the regular expressions library \n",
        "import re\n",
        "\n",
        "# use the findall function to search for mentions of \"climate change\" in the text of our call\n",
        "climate_change = re.findall(r'climate change', call['Text'], re.IGNORECASE)\n",
        "\n",
        "# this returns a list of strings matching our search term. \n",
        "# the length of the list gives us the number of occurances\n",
        "len(climate_change)"
      ],
      "metadata": {
        "id": "FMtXvNgVgtMc",
        "outputId": "35450c33-0929-4beb-d174-f5ca2bccff72",
        "colab": {
          "base_uri": "https://localhost:8080/"
        }
      },
      "execution_count": 340,
      "outputs": [
        {
          "output_type": "execute_result",
          "data": {
            "text/plain": [
              "51"
            ]
          },
          "metadata": {},
          "execution_count": 340
        }
      ]
    },
    {
      "cell_type": "markdown",
      "source": [
        "Looks like climate change is mentioned 51 times. "
      ],
      "metadata": {
        "id": "cIC8_1ipDV3P"
      }
    },
    {
      "cell_type": "code",
      "source": [
        "df['climate change']=df['Text'].apply(lambda x: len(re.findall(r'climate change', x, re.IGNORECASE)))"
      ],
      "metadata": {
        "id": "4NkYM01uAba2"
      },
      "execution_count": 405,
      "outputs": []
    },
    {
      "cell_type": "code",
      "source": [
        "df['global warming']=df['Text'].apply(lambda x: len(re.findall(r'global warming', x, re.IGNORECASE)))"
      ],
      "metadata": {
        "id": "ts0cSTVVBwnQ"
      },
      "execution_count": 414,
      "outputs": []
    },
    {
      "cell_type": "code",
      "source": [
        "df['Year']=df['Date'].dt.year\n",
        "yearly=df[['greenhouse gas','climate change','emissions']]\n",
        "yearly.plot()\n"
      ],
      "metadata": {
        "id": "Hg2y71xgBucr",
        "outputId": "d48d3155-f3fa-48cb-fc35-ab44530303e8",
        "colab": {
          "base_uri": "https://localhost:8080/",
          "height": 483
        }
      },
      "execution_count": 426,
      "outputs": [
        {
          "output_type": "execute_result",
          "data": {
            "text/plain": [
              "<matplotlib.axes._subplots.AxesSubplot at 0x7fd483032290>"
            ]
          },
          "metadata": {},
          "execution_count": 426
        },
        {
          "output_type": "display_data",
          "data": {
            "text/plain": [
              "<Figure size 720x576 with 1 Axes>"
            ],
            "image/png": "[encoded data removed]"
          },
          "metadata": {
            "needs_background": "light"
          }
        }
      ]
    },
    {
      "cell_type": "markdown",
      "source": [
        "Regex can be pretty confusing, but it's also a very powerful tool. Before moving on, let's familiarize ourselves a bit more with regex."
      ],
      "metadata": {
        "id": "Tntj7KH03bdo"
      }
    },
    {
      "cell_type": "markdown",
      "source": [
        "Back to climate change. Now we know the "
      ],
      "metadata": {
        "id": "er8pHo8z9sXj"
      }
    },
    {
      "cell_type": "code",
      "source": [
        "re.findall(r\"([^.]*climate change[^.]*)\",\" \".join(df['Text']) )"
      ],
      "metadata": {
        "id": "xK9uSqT15VSG",
        "outputId": "974b36f0-3af7-4076-dc59-07356d53609c",
        "colab": {
          "base_uri": "https://localhost:8080/"
        }
      },
      "execution_count": 430,
      "outputs": [
        {
          "output_type": "execute_result",
          "data": {
            "text/plain": [
              "[' However, as the world looks to lower their carbon emissions and respond to the risk of climate change, there is a desire to better understand how robust our plans are to evolving policies and changing market trends',\n",
              " ' Meeting the growing need for energy and addressing the risk of climate change are not mutually exclusive',\n",
              " \" Over the past year, I've met with policymakers from both sides of the aisle: NGOs, academia, and participated in a climate change dialogue at the Vatican\",\n",
              " '\\n\\nOur approach to climate change has 4 components',\n",
              " \" We don't believe that society has to choose between economic prosperity and reducing the risk of climate change\",\n",
              " '\\n\\nRecent steps the company has made in the last month to start to make arrangements for dialogue with the Climate Action 100+ group at independent director level are welcome, but the fact that it has taken so long to get to this point reflects how painfully slow progress has been to date with Exxon on climate change',\n",
              " ' I would tell you that we understand the concerns and share your desire to meaningfully address climate change, and I think ExxonMobil plays a pretty important role in that both today and in the future',\n",
              " \" The Board's been engaged, and I would tell you, too, that we've had many, many discussions not only with your organization, but with many groups outside who have this concern, and I think are making very good progress in addressing some of the fundamental challenges associated with the risk of climate change\",\n",
              " \"\\n\\nMembers of the Board, this week's Economist describes ExxonMobil as a notable laggard on climate change\",\n",
              " '\\n\\nThe next shareholder proposal calls for a specific Board climate change committee, and I understand that Natasha Lamb will present this proposal',\n",
              " ' Investor capital is at substantial risk in the face of climate change policy, competition from renewables, peak oil demand and unburnable fossil fuel reserves',\n",
              " ' This proposal seeks contractual clarity to ensure that the existential threats of climate change are being addressed in depth by the Board',\n",
              " ' Business strategy based on this assumption is unlikely to redirect company finances and innovative capacities to meet the formidable challenges posed by climate change and temperature containment goals',\n",
              " ' Establishing a Board committee with delineated duties can ensure that climate change is given adequate rather than tangential focus',\n",
              " ' A climate change committee can better inform and strengthen the entire Board, making it more climate-competent',\n",
              " ' A committee is a straightforward way for a Board to create clear lines of responsibility, a contractual level of clarity about who is responsible for overseeing and setting policy on climate change, and a delineation of liability for failure of care',\n",
              " ' We have a comprehensive framework to assess our business risk including the change and the risk associated with climate change',\n",
              " ' The proposal requests a report assessing the public health risks of expanding petrochemical operations in areas increasingly prone to climate change-induced storms, flooding and sea level rise',\n",
              " \" It will further provide more transparent analysis to shareholders who must assess the strength of management's actions to mitigate risks from petrochemical investments in areas increasingly prone to climate change-induced storm, flooding and sea level rise\",\n",
              " \" We believe that more robust disclosure is needed to demonstrate leadership on corporate governance, and to mitigate reputational risks at a time of growing shareholder concern about misalignment between company's stated values and positions and their political activity, particularly on climate change issues\",\n",
              " '\\n\\nThere are also concerns about the trade groups lobbying against responsible climate change policies',\n",
              " ' Recently, investors in Europe urged over 50 companies to ensure all lobbying related to climate change was consistent with the goals of the Paris accord',\n",
              " '\\n\\nOn the resolution concerning a climate change board committee, approximately 7',\n",
              " ' Texans are no strangers to the impacts of climate change',\n",
              " ' Meanwhile, communities on the Gulf Coast are still rebuilding their homes, and we know that more storms are on the way as climate change caused by your product makes extreme weather events more likely',\n",
              " ' I think if we step back and look at the risk associated with climate change, it comes back to emissions and the level of emissions globally emitted from energy sources',\n",
              " ' It says, \"Wouldn\\'t a board committee focused on climate change help assure that this broad societal risk impact on the company is regularly considered and assure shareholders that this issue is properly considered -- or is considered appropriately?\" And then the concern is that failure to reassure the investing community, that this might have a negative impact on TSR',\n",
              " '\\n\\nSo maybe first of all, let me reiterate that the company recognizes that there are risks from climate change',\n",
              " ' Again, the company takes serious the risk from climate change and we are addressing that in many ways',\n",
              " \"\\n\\nIt says regarding climate change, absent a committee focused on climate change, would the company be able to disclose information concerning each board member's knowledge on the subject?\\n\\nAgain, I think we mentioned, one of the enhancements we made in the proxy this year was to better identify the skills and the competencies that are important to the Board of Directors, and then to align or link those skills and competencies to the biographies of each director to ensure we appropriately address what skills are important to us and how the directors represent those skills and competencies\",\n",
              " \"\\n\\nAnd importantly, additional information about the risks associated with climate change, OIMS, process safety and environmental performance can be found already in ExxonMobil's energy and carbon summary, sustainability report and other publications, blogs and news releases\",\n",
              " ' It says, \"Wouldn\\'t a board committee focused on climate change help assure that this broad societal risk impact on the company is regularly considered and assure shareholders that this issue is properly considered -- or is considered appropriately?\" And then the concern is that failure to reassure the investing community, that this might have a negative impact on TSR',\n",
              " '\\n\\nSo maybe first of all, let me reiterate that the company recognizes that there are risks from climate change',\n",
              " ' Again, the company takes serious the risk from climate change and we are addressing that in many ways',\n",
              " \"\\n\\nIt says regarding climate change, absent a committee focused on climate change, would the company be able to disclose information concerning each board member's knowledge on the subject?\\n\\nAgain, I think we mentioned, one of the enhancements we made in the proxy this year was to better identify the skills and the competencies that are important to the Board of Directors, and then to align or link those skills and competencies to the biographies of each director to ensure we appropriately address what skills are important to us and how the directors represent those skills and competencies\",\n",
              " \" We're also committed to being part of the solution in addressing the risk of climate change and other pressing societal challenges\",\n",
              " '\\n\\nToday, many in society are looking for solutions that address the risk of climate change',\n",
              " \" This disclosure addresses feedback from our shareholders, including the 2017 shareholder proposal, which received majority support at last year's shareholder meeting, that being the report on impacts of climate change policies\",\n",
              " ' Pete Trelenberg is an expert in the climate change field; and Dr',\n",
              " \" And they'll describe how we look at, how we evaluate and how we address the demand for energy and the risk of climate change\",\n",
              " \" That demand for energy and risk for climate change is what I have referred to in a number of the things that I've written, conversations [today]\",\n",
              " \" So I wondered whether you could talk a little bit more, sort of characterize where you are with that? And I say that because it was very clear that one of your peers sort of put out a view of energy not dissimilar to yours and was almost accused of being a climate change denier because the scenario they were showing, which is a practical one, didn't accord with what people wanted to see\",\n",
              " \"\\n\\nIn the afternoon, we'll then talk about climate change and how we're positioning ourselves for lower carbon energy future and the work that we're doing to address the risk of climate change\",\n",
              " '\\n\\nLet me now turn to our mission, supplying energy for modern life, improving living standards around the world while minimizing the impact on the environment, including the risk of climate change',\n",
              " '\\n\\nFinally, we engage in public policy discussions on the best way to manage the risk of climate change',\n",
              " '\\n\\nWhile policy will play an enabling role, technology will be the key to addressing the risk of climate change and the growing need for energy',\n",
              " \" It's also key to supplying the world's energy needs while mitigating the risk of climate change\",\n",
              " ' We have a fundamental research program aimed at providing affordable and reliable energy for society, which will continue to underpin the research required to meet the dual challenge of delivering affordable and reliable energy while addressing the risks of climate change',\n",
              " ' For decades, we have provided technical depth and insights to complex energy issues including climate change and the safe use of fuels and chemicals',\n",
              " ' We face the challenge in meeting the needs of the growing population while mitigating the risk of climate change',\n",
              " '\\n\\nContinuing to grow high-cost fossil fuel reserve in the face of global climate change, disruptive technology development and the Paris climate agreement is no longer prudent',\n",
              " ' The Board agrees with the proponent that the risk of climate change is important to our business, but we do not agree with this approach',\n",
              " '\\n\\nThe next shareholder proposal calls for report on the impacts of climate change policies',\n",
              " ' At this meeting last year, I proposed a resolution asking ExxonMobil to undertake and disclose climate change scenario analysis',\n",
              " '\\n\\nMembers of the board, in your other roles, you have made clear that you recognize the significance of the agreed international goals on climate change',\n",
              " \" Frazier, Merck's climate change position statement says Merck supports science-based international and national actions to address the challenges presented by climate change\",\n",
              " '\"\\n\\nMembers of the board, do you leave your understanding of climate change at the door when you attend ExxonMobil board meeting?\\n\\nExxonMobil said in its 2014 climate risk report to shareholders, \"The 2 degrees is not a scenario worth considering',\n",
              " '\\n\\nWe believe the risks of climate change are serious and warrant action, thoughtful action',\n",
              " ' The board believes methane merits particular attention due to potential impacts on climate change',\n",
              " '\\n\\nOn the resolution concerning a report on impact of climate change policies, approximately 62',\n",
              " \" Meeting society's need for energy while addressing risk of climate change\",\n",
              " ' Acknowledges that risks of climate change are serious and warrant thoughtful action',\n",
              " ' Supporting long-range R&D to address climate change:\\n\\n1',\n",
              " ' Engaging on climate change:\\n\\n1',\n",
              " '\\n\\nI ask that you consider this information with regards to shareholder proposal Item #12, which is a report on impacts on climate change policies',\n",
              " \" First, I'll note the dual challenge, that is, meeting society's need for energy while addressing the risk of climate change\",\n",
              " \"\\n\\nNext we state Exxon Mobil's position on climate change, which you can find on our website\",\n",
              " ' We acknowledge that the risks of climate change are serious and they warrant our full action',\n",
              " \"\\n\\nNext, I'll highlight our support for long life -- long-range research and development to address climate change\",\n",
              " ' We support continued dialogue across all these venues to promote sound climate policy that provides for affordable energy solutions while also addressing the risk of climate change',\n",
              " ' Technology is also helping us to address the risk posed by climate change',\n",
              " ' We are in early days, but making carbon capture economic could lead to large-scale applications around the world, reducing emissions and mitigating the risk of climate change',\n",
              " ' Nowhere is this comprehensive cooperative approach more important than addressing the risk of climate change',\n",
              " '\\n\\nFor many years now, Exxon Mobil has held the view that the risks of climate change are serious, and they do warrant thoughtful action',\n",
              " ' We have long worked collaboratively with academic and institutional efforts to support research, improve climate models and advance the scientific understanding of climate change',\n",
              " \" Our scientists have been participating with the UN's intergovernmental panel on climate change from its founding and have produced hundreds of publicly available papers including more than 50-peer-reviewed publications\",\n",
              " '\\n\\nOn the policy front, we believe that addressing the risk of climate change is a global issue, which will require the involvement of governments, companies and all energy consumers',\n",
              " \" We've taken thoughtful consistent action to protect the environment and to help understand and reduce the risk of climate change\",\n",
              " \" Because accountability and transparency are the key tenets of good governance, CalPERS has also been actively soliciting with The New York City Comptroller's office for Proposal Number seven concerning proxy access and Proposal Number 12 to improve the company's risk reporting concerning climate change risk\",\n",
              " \" We're asking for a person with climate change expertise to be on the Board for two main reasons\",\n",
              " \" Maybe if we would have had a climate change expert on the Board, she or he would not have allowed Exxon to act in the way they did when we first filed our shareholder resolution in 1997 on climate change or maybe they wouldn't have denied it for the first 10 years after we did file it\",\n",
              " \"\\n\\nEven as I speak today, the company is still supporting efforts, it seems, by some to undermine state's efforts to ensure the health of their people by having some kind of mitigation around climate change\",\n",
              " \"\\n\\nToday, at the meeting, we heard from CalPERS and CalPERS just issued a statement that from now on, they're going to be asking all companies to have somebody with climate change on their board\",\n",
              " \" If that's going to be for all companies, how much more for a company where almost 100% of our product and our efforts and production is related to climate change\",\n",
              " \" I think it's the first time, and you know I've been here quite a bit, where you begin with the problem of climate change and acknowledged it\",\n",
              " ' Exxon presents a false choice between providing reliable and affordable energy and addressing climate change',\n",
              " '\\n\\nWe question whether lives will actually be improved in low-income communities if they are regularly suffering from the impacts of drought, extreme weather, geopolitical upheaval due to climate change and other factors',\n",
              " \"\\n\\nThe proposed bylaw is intended to give substantial long-term shareowners a meaningful voice in electing the directors responsible for overseeing the company's long-term strategy and risks, including risks related to climate change\",\n",
              " '\\n\\nIllustrating the deep international concern about lobbying and climate change, AP7, a Swedish pension fund, which owns over 3',\n",
              " ' Transparency and accountability in corporate spending to influence public policy are the best -- are in the best interest of ExxonMobil shareholders, and a high profile investigation into whether our company mislead investors on climate change only underscores the importance of full disclosure',\n",
              " ' ALEC has attracted negative attention for its role in promoting bills on anti-immigration policies, and also blocking EPA regulation on climate change',\n",
              " ' Continuing to grow high cost fossil fuel reserves in the face of global climate change disruptive agreement is no longer prudent',\n",
              " ' Every day, new reports and incidents demonstrate the importance of the 2-degree target for the sake of our planet for future generations and vulnerable communities, communities hit hardest by climate change',\n",
              " \" Decades have been lost in the fight against climate change due in part to our company's deliberate campaign of disinformation\",\n",
              " '\\n\\nThe next shareholder proposal calls for a report on impacts of climate change policies and is shown on Pages 69 and 70 of the proxy statement',\n",
              " '\\n\\nChairman, as you have acknowledged this morning, climate change is real',\n",
              " '\\n\\nChairman, the board is losing the confidence of its investors on climate change',\n",
              " '\\n\\nRecognizing the urgency facing businesses to respond to climate change, this proposal seeks to provide a means by which our company can move beyond the current business model, begin to respond to new opportunities and consider becoming an energy company for the future',\n",
              " '\\n\\nExxon publicly supports a carbon tax and acknowledges the realities of climate change, but its lobbying practices appear to conflict with his positions',\n",
              " \" We believe that ExxonMobil shareholders deserve to understand the process by which the company contributes to organizations whose positions contradict Exxon's stated principles, blocking progress on climate change\",\n",
              " \" I've been a climate change scientist for nearly 50 years, and I'm here on behalf of Mercy Investment Services, speaking with respect to the items raised in Proposals 11 and 12\",\n",
              " \"\\n\\nOn the first point, in DOE's major, widely peer-reviewed 1985 climate change assessment that preceded IPCC, Exxon's leading climate change scientist for the past several decades, Dr\",\n",
              " ' Brian Flannery, coauthored the chapter on projecting climate change',\n",
              " \" But the reason I'm here kind of is this interest -- they used to call it global warming, but now it's called climate change\",\n",
              " \" Needless to say, my feeling is that the effects of climate change are real and are happening now, not something that's abstract and in the future, not something that's just been affecting indigenous populations, even though that's really heartbreaking as well\",\n",
              " \" I think from today's meeting, I know what your position is and whether Exxon should be held legally liable for damages from climate change\",\n",
              " ' How is Exxon calculating the financial risks it would face if fossil fuel companies have to pay for damage from climate change, like the tobacco companies who, for many decades, said cigarettes were not an unhealthy thing to take part in',\n",
              " \" So as state Attorneys General investigate whether ExxonMobil misled investors and the public about the realities and risks of climate change, people are increasingly making comparisons to the tobacco industry's misconduct and measures taken to address it\",\n",
              " ' ExxonMobil now claims that quote, \"We do not fund or support those who deny the reality of climate change',\n",
              " ' ExxonMobil is represented on the board of the American Petroleum Institute, API, which continues to claim that the science of climate change is unsettled, while attempting to block efforts to limit carbon pollution',\n",
              " ' And the fact that people have different opinions on climate change, they have every right to their opinion',\n",
              " \" If we're not going to admit to climate change and admit that fossil fuels are causing -- are a part of climate change, so at least let's look at the health effects from the things that are coming out of the plants\",\n",
              " '\\n\\nI do appreciate your admitting that there is climate change',\n",
              " \"\\n\\nIn 1977, he briefed the company's top executives on the scientific realities of climate change\",\n",
              " \"\\n\\nMy question was going to be, will you withdraw funding from ALEC because they're known to spread misinformation about climate change, but it sounds like your answer on that is a resounding no\",\n",
              " \" So since you won't be doing that, will Exxon be taking action to, at all, refute or counteract the negative impacts they're making by funding an organization that says that climate change is a scam?\\n\\nREX TILLERSON: We will continue to engage in the policy discussions, as we currently do, with a number of broad-based groups on all sides of these issues and we'll continue to be active in the discussions legislatively in Washington and elsewhere, including through the IPCC on what we think are thoughtful, sensible policy actions that accommodate both our need for economic growth as well as addressing these risks, which are going to be very, very daunting\",\n",
              " '\\n\\nOn the resolution concerning a report on impacts of climate change policies, approximately 38',\n",
              " ' All directors must possess capabilities to address full range of business risks, including those associated with risk of climate change',\n",
              " ' takes risk of climate change seriously',\n",
              " ' Long-term objective of climate change policy should be to reduce risk of harm at minimal societal cost, while providing reliable and affordable energy to improve global living standards',\n",
              " ' Report on impacts of climate change policies',\n",
              " ' Further, all Directors must possess the capabilities to address the full range of business risks, including those associated with the risk of climate change',\n",
              " '\\n\\nFirst among several climate-related proposals is one that seeks to increase capital distributions, meaning dividends and share purchases in light of climate change-related risks',\n",
              " ' To address questions raised on the topics of global energy demand and supply, climate change policy and carbon asset risk, the Company previously published a comprehensive report entitled, Energy and Carbon -- Managing the Risks',\n",
              " ' First, you should know that the Company takes the risk of climate change seriously and this risk requires thoughtful action',\n",
              " ' The long-term objective of climate change policy should be to reduce the risk of harm at minimal societal cost while also providing reliable and affordable energy to improve global living standards',\n",
              " '\\n\\nThe next climate policy is on a report on impacts of climate change policies',\n",
              " '\\n\\nAt ExxonMobil, we do take the risk of climate change seriously',\n",
              " ' We have studied climate change for almost 40 years, and we consistently collaborate and share our research with leading scientific institutions, top universities, the United Nations and other public stakeholders',\n",
              " ' We also engage in constructive dialogue on climate change policy options with NGOs, industry and policymakers',\n",
              " ' ExxonMobil received this proposal due to its exposure to risk related to climate change',\n",
              " '\\n\\nAs [Leward Brown], the former CEO of DP, warned in a speech last year, extractive industries need to take climate change more seriously or face an existential threat to their business',\n",
              " ' And I suspect -- put in context of my remarks, what we just heard -- not one word about climate change',\n",
              " ' Tillerson, you at least addressed the topic of climate change and alternatives',\n",
              " ' And silence speaks volumes on this, which means this Company is continuing business as usual when its competitors are at least giving lip service to the reality of climate change and the need',\n",
              " ' And so we wrote a shareholder resolution asking for somebody on the Board to have expertise on climate change',\n",
              " \" But we've been -- the members of the Interfaith Centre on Corporate Responsibility started working on climate change in the late '80s\",\n",
              " '\\n\\nJust in the last few weeks, the board of three of Exxon Mobil peers; BP, Shell, and Statoil, the board Members endorsed the shareholder resolution on climate change and carbon acid risk, underscoring just how material this issues is to the long-term future of the industry',\n",
              " \"\\n\\nWe've spoken for many years about the urgency of climate change\",\n",
              " ' And at the meeting at the Vatican last month, faith leaders noticed that human-induced climate change is a scientific reality and that decisive mitigation is a moral and religious imperative in humanity',\n",
              " \"\\n\\nAnd I think one of the points I'd like to make about being in my first meeting is more and more treasurers and institutional investors are concerned about climate change and getting involved in this\",\n",
              " '\\n\\nThe threats resulting from climate change are acute',\n",
              " ' We look forward to working with these various constituencies to realize our sustainability goals related to climate change while providing for the retirement security for the 48,000 [active investors] and retired members of the Vermont pension system',\n",
              " '\\n\\nIn the state of Vermont, the impacts of climate change are real, specifically our maple syrup industry, skiing industry, and the quality of our rivers, streams, and lakes are at risk with rising temperatures and increasingly volatile weather patterns',\n",
              " \"\\n\\nTwo years ago in a speech that you were making in Cleveland, you brought up the issue of what happens if we can't stop climate change, if we can't address some of the issues that we've been talking about\",\n",
              " \" What's plan B?\\n\\nOur plan B has always been grounded in our beliefs around the continued evolution of technology and engineered solutions to address and react to whatever the climate system and its outcomes present to us, whether that be in the form of rises in sea level which we think you can address through different engineering accommodations along coastal areas, to changing agricultural production due to changes in weather patterns that may or may not be induced by climate change\",\n",
              " ' We are very good in informative meeting in New York with executives around the issue of climate change and other issues',\n",
              " \" And you all know we've been here before, that are ongoing issue is that the company isn't doing enough to address the crisis around climate change, now that was December\",\n",
              " \" In March the inter-government panel on climate change which this company has a part in it, said in effect first paragraph, climate change is already having sweeping effects on every continent and throughout the world's oceans, scientists just reported Monday\",\n",
              " ' The effects of human induced climate change are being felt in every corner of the United States, scientists reported Tuesday',\n",
              " ' But our company continues to rely on a bet that the nations of the world will do nothing about climate change for the next 30 years',\n",
              " ' Channon], there was a [reward] and the topic was climate change',\n",
              " \" My name is [Frank Rocher] a senior principal to Climate Associate (inaudible) Dallas, I'm here on behalf of the [Crystal Reynold's Foundation], the foundation with (inaudible) important climate change assumptions, here's for strategic planning following constructive discussions of Corporate Secretary, David Rosenthal and its calling December 17, 2013\",\n",
              " ' Tillerson, you will require that if you talk to the council in formulations to during 2012, you said we have to be efficient and we have to manage climate change',\n",
              " \" I view climate change as a risk management problem, what am I going to do about it the terms (inaudible) mitigation steps really different, that's plan B\",\n",
              " \" As you know, this include part of the international panel and the climate change, the US climate change assessment and we're seeing the military advisory board report on national security and the accelerated risk of climate change\",\n",
              " \"\\n\\nAnd by Mobil we'll also see for the nexus of energy in climate change as important\",\n",
              " \" Tillerson, what are the steps that you and the CEO of Exxon are doing to mitigate the risk of climate change? If these steps are not sufficient, what is your Plan B which we observed that the Cleveland requires steps now, how is Exxon Mobil using its resources to address the world's biggest energy challenge, how to meet global energy demand while addressing the potential disasters impact to climate on a global economy and or generally the whole global community?\\n\\nThe world's climate and energy requirements is a good beginning dialogue but didn't answer all these questions, I look forward to continuing dialogue which we have agreed upon with your colleagues on issues energy climate issues\",\n",
              " \"\\n\\nSo we all -- we do support and engage in and we'll continue to engage in active of dialogue and we're going to continue our active engagement with the UN's inter-governmental panel on climate change\",\n",
              " \"\\n\\nWe [now] look at that, and then look at other data, I see that according to the [few centers], the majority of Republicans don't believe that there is climate change, 90 percent of this company's political contributions are going to Republicans\",\n",
              " \" So on the one hand in this place, we hear you saying there is climate change, the burning of fossil fuels are human factor contributing to it, and yet you're going to support those very entities that are undermining the reality\",\n",
              " '\\n\\nNow, what if this campaign said, Exxon Mobil says there is climate change, there is global warming, the burning of human fossil fuels are contributing to it and we got to do something because the world is at the door, everybody in the United States would know that we got to do something',\n",
              " ' It is interesting to note that the term global warming is now called climate change',\n",
              " ' Our think-tank once received contributions from the company, these contributions ended after the company told us it would not continue to contribute unless we adopted more alarm disposition on climate change',\n",
              " '\\n\\nAs a largest publically traded Energy Company with a mission of becoming the premier global energy company, I see it is our challenge and our duty to address greenhouse gas emissions and climate change, which faces our societies',\n",
              " '\\n\\nJust as we have taken on the challenge to discover new energy sources to drive modern societies, I think we also should be taking on the challenge of greenhouse gas and climate change and therefore I would highly recommend our shareholders to vote for resolution number 11 so that our company can also be one of those leaders',\n",
              " '\\n\\nREX TILLERSON: I think our views on climate change and the risk of climate change have been fairly well described both in public forums where I and others have spoken as well, as in publications in which we have expressed we view climate change as a serious issue, it does present serious risk',\n",
              " ' Over next 15 years, coal is expected to lose significant share as a result of climate change policies and a shift that favors a cleaner and diverse mix including more gas, nuclear and renewables',\n",
              " '\\n\\nWe have a report from the World Bank suggesting that if we continue with business as usual, and this is very much a business-as-usual kind of report, that by 2040 we will cross the two-degree threshold at which we have runaway climate change',\n",
              " ' Although there were references to emissions, there was no reference to the threat of runaway climate change',\n",
              " ' I wanted to ask another climate change question',\n",
              " ' Over the next 15 years, coal is expected to lose significant share as a result of climate change policies, and a shift that favors a cleaner and diverse mix, including more gas, nuclear, and renewables',\n",
              " '\\n\\nWe have a report from the World Bank suggesting that if we continue with business as usual, and this is very much a business-as-usual kind of report, that by 2040 we will cross the two-degree threshold at which we have runaway climate change',\n",
              " ' Although there were references to emissions, there was no reference to the threat of runaway climate change',\n",
              " ' I wanted to ask another climate change question',\n",
              " '\\n\\nFinally, t he industry is faced with risk of climate change and the resulting effect of government policies and impact on global markets',\n",
              " \" I'm a filmmaker and an author and as part of a group that has traveled around the world looking at different communities and how they've been affected by the impacts of human cause climate change\",\n",
              " '\\n\\nNow ExxonMobil , I believe, it was around 2008 made a commitment to stop funding denialist organizations and scientists whose purpose was to cast doubt on the reality of climate change and yet, in very recent news coming out of the United Kingdom, investigators showed that ExxonMobil was still funding some of these denialist organizations',\n",
              " ' Tillerson, in this now 2011 when there is consensus among the international scientific community that human cause climate change is a real threat that needs to be remedied, an action needs to be taken, will you make a personal promise on behalf of ExxonMobil to do what you can to stop funding denialist organizations and admit once and for all that human cause climate change is real and ExxonMobil is going to lead the way to do something about it',\n",
              " \" That we view the risk from climate change as serious and it's a risk that does need to be managed in a very broad and global way\",\n",
              " \"\\n\\nWe do contribute to the broad based understand of the science underlying climate change and we have funded efforts on all sides of that issue at both the academic level and at private institutions because we think it's important on a policy that has such far reaching and dramatic impacts on society and our economic performance not just in this country but for the world, that we have the most fulsome discussion of what we understand bout this very complicated issue\",\n",
              " '\\n\\nMICHAEL CROSBY: I just want to thank you very, very sincerely for what I heard in the remarks that you made about climate change',\n",
              " \" We said climate change exists, we've said human factors are contributing\",\n",
              " \"\\n\\nJust a quick comment on your reaction to my remarks on climate change, they're not new\",\n",
              " ' Tillerson, for the Company to actually step up and take leaderships instead of kind of hiding behind these positions in some way, yes you articulate it here, but you only talk really about climate change here in any kind of more forceful or clear way or when it comes to policy, how many times have you met with senators and congressmen on the Hill about a carbon tax',\n",
              " \" I think we are a leader in these areas -- both in the climate change discussion and articulating for others our views and our position in trying to be a positive participant in very serious policy discussions, I could not count for you the number of discussions I've had with people on the Hill about carbon tax\",\n",
              " \" How the climate change issue is evolving from one year to the next it is looked at every year so that we get an update on is there anything new that's emerged in the science\",\n",
              " '\\n\\nIn the context of these economic conditions, government policies that will influence climate change continue to be developed',\n",
              " '\\n\\nFinally, the industry is faced with risk of climate change and the resulting effect of government policies and impact on global markets',\n",
              " ' At ExxonMobil , we are taking a proactive approach to managing long-term risk of climate change',\n",
              " \" On this very same issue of Exxon making really substantive, concrete progress on dealing with climate change and setting a comprehensive business strategy and plan for dealing with increased emissions from the Company and how you're going to get those down\",\n",
              " ' It is undeniable that the rapid rate of climate change and carbon emission levels are a serious threat to humanity',\n",
              " ' And it asks for a report to share owners on the financial risks resulting from climate change and its impact on share owner value over time, as well as actions that the Board deems necessary to provide long-term protection of business interests in share owner value',\n",
              " '\\n\\nAnd so he felt that, with the Securities and Exchange Commission rules that were issued on February 8, 2010, interprets his guidance regarding disclosure related to climate change, that that will help',\n",
              " '\\n\\nAnd he felt that greater transparency on financial risk related to climate change is a very important issue both to ExxonMobil  and to all of the share owners',\n",
              " \" Switching gears, I'd like to suggest that climate change is entirely natural\",\n",
              " \" According to Newsweek Magazine's March 1st edition, a Rasmussen poll last summer stated that 47% of all Americans believe that climate change was caused by man and only 33% believed it was caused by nature\",\n",
              " '\\n\\nA new poll last winter showed that these numbers have flipped and now 47% of all Americans believe that climate change is completely natural',\n",
              " ' As time goes on, more and more American will realize that climate change is entirely natural and that these alarmists are promoting a scam and they continue to blow smoke up your pants every year',\n",
              " ' So, why believe they can project anything years ahead?\\n\\nThere is zero science to show that C02 in our biosphere is the cause of climate change up or down',\n",
              " ' And to the extent that climate change legislation creates advantages or disadvantages for fuel choices, natural gas clearly is a competitive fuel as a price for carbon might be put in place',\n",
              " ' And to the extent that climate change legislation creates advantages or disadvantages for fuel choices, natural gas clearly is a competitive fuel as a price for carbon might be put in place',\n",
              " \" Clearly in the last ten years of our conversations around climate change, we now see it's another whole world, I would say, since even we were here last year\",\n",
              " \" To have constructive dialogue with Professor Boskin on climate change, and the implication for sustaining our company's stellar performance out into the future\",\n",
              " \"   \\n\\nNow climate change may be about our planet's future, but it's also about the financial implication to company's such as  ExxonMobil\",\n",
              " ' Tillerson, you made no mention of issues of climate change or impact that that might have on the profitability over a company that is a multi-decade investor in the area',\n",
              " \" Why has our company seemingly put so much effort into making itself into public enemy number one on climate change? How have we gotten to this point, where an otherwise great company who has acquired such a dismal reputation, and has become more known more for its funding of climate skeptics than for its technological leadership, which is quite profound?   \\n\\nIt just seemed irrational to me, you're an energy company, your job is to deliver returns to shareholders which you're quite good at, your job is not to be public philosophers on science, though I did enjoy your lecture last year in this meeting on the philosophical impossibility of scientific consensus\",\n",
              " \"   \\n\\nI guess perhaps you could claim that you've benefited shareholders by delaying the day of reckoning for  ExxonMobil on climate change, but I don't see that\",\n",
              " '   \\n\\nYou can turn climate change into an opportunity if you want to, but instead you continue to fund groups like the Heartland Institute that question the science of climate change, and all you can really manage to say on the issue is that the risk from rising greenhouse gas emissions could prove to be significant',\n",
              " '   \\n\\nWhen you compare that to what some of your peers have said, the head of  ConocoPhillips a few weeks ago said that, \"The science on climate change is quite compelling, human activity including the burning of fossil fuel is contributing to climate change',\n",
              " ' Now is the time for a national mandated framework to deal with climate change',\n",
              " '\" And this is a clear statement, and this is a company that certainly understands the urgency of climate change',\n",
              " '   \\n\\nAnd you complain that your position on climate change is misunderstood, but with legalistic statements like the one I quoted, it just seems like you almost want to be misunderstood',\n",
              " \" As you and I talked last year, I said that there is much we know and can agree on around the climate change issue, and there's much that we just don't believe we do know\",\n",
              " ' The position that you described of others is not that different from our position on climate change',\n",
              " \"   \\n\\nLast year Exxon gave $11 million to combat malaria, and educate girls and women in Africa, but what was in the news? It was the funding of think tanks and organizations that deny the science which is unequivocal, we've heard it, we've heard it before, enter governmental panel on climate change, 2,500 scientists\",\n",
              " '   \\n\\nAnd as you know, many Bills are now presently being considered in Congress regarding climate change, some of which go by the name of Carbon Taxes, others by Cap and Trade Systems',\n",
              " ' All of which have really the same goal which is to reduce the amount of carbon that we are emitting into the atmosphere and to mitigate the worst effects of climate change',\n",
              " ' The strongest applause that you got today were for comments on your dedication to the difficult challenge of climate change',\n",
              " ' There is no more difficult challenge than climate change',\n",
              " \"  \\n\\nThe company's strategy on climate change, as example filed by the recent report that was prepared with his committees explicit approval, demonstrates a startling and willful ignorance of an issue that we believe has the ability to dramatically reshape a landscape of the energy industry\",\n",
              " \"  \\n\\nOne of which the risk is great that we're actually increasing evidence of climate change by sharply curbing greenhouse gas emissions\",\n",
              " ' And yet our company has produced an entire report on climate change that completely ignores the issue of whether rising greenhouse gas emissions will in anyway impact the market for energy',\n",
              " '  \\n\\nOur competitors are increasingly understanding that climate change poses a fundamental threat to where they do business? And the competitors are reported to drive under virtually any future scenario',\n",
              " '  \\n\\nWhile our companies prepare only for one, the rather unlikely scenario of the climate change is a myth and business as usual continues for the next several decades',\n",
              " \" They are concerned about Exxon strategy for climate change and they're very much interested in the company taking a leading role in developing renewable energy for our country in the global market\",\n",
              " \"  \\n\\nInstitutional investors are also increasingly concerned about the company's position on climate change, including some of the largest public pension in the US\",\n",
              " ' Your position on climate changes completely obscured your progress in other areas of corporate transparency and responsibility and therefore does no service to this company and its shareholders',\n",
              " \" I'd like to know what provisions you have made on the financial statements for damage caused by climate change? Climate change is the potential liability and I wonder if you have reserved for it on the balance sheet?  \\n\\nRICHARD PATTERSON, EXXON MOBIL CORPORATION: The responsibility for provisions in the financial statement are those of management and I am not sure that I am the appropriate person to respond to that question\",\n",
              " \" Have -- what provisions have you made on the financial statement for the damages caused by climate change and the potential liability there and have you reserved for it?  \\n\\nRICHARD PATTERSON: It's neither likely nor could it be estimated\",\n",
              " ' We were happy to see or to hear about a report that was going to be published by our company on climate change',\n",
              " ' The climate change and the policy to be listed, or have the potential for dramatically reshape the economic landscape of our energy industries',\n",
              " \"  \\n\\nAs subjects on Mobil strategy with respect to climate change, is a key to company's long-term health, as a company\",\n",
              " ' For this company is sticked out a position of willful ignorance on climate change',\n",
              " \" The Company's policy on climate change is so tied up with you\",\n",
              " ' Chairman our resolution, ask the company to report the data it uses to develop its position on the science of climate change',\n",
              " \" Second, global warming has become a drag on a company's reputation the problem go beyond the global boycott they continue to hamper sales over the last years state pension funds and main stream equity analyst have joined the course of those asking for our company to be more accountable on the risks of climate change\",\n",
              " '  \\n\\nYour existing statements on global climate change as well as your significant financial commitment to Stanford University and other institutions are evidence that you take this responsibility seriously',\n",
              " ' I want to strongly support, the request for greater disclosure on climate change',\n",
              " \" I'm concerned of the shareholder and I have represented other shareholders that we are increasingly being left behind by our key competitors preparing to deal with issue of climate change\",\n",
              " ' Our competitors are frequently demonstrating that they understand the climate change process is a fundamental threat to way - that they do business',\n",
              " ' No one has still questioned the science on climate change',\n",
              " \"  \\n\\nAll even have publicly agreed with the consensus of word scientist, the climate change is a real threat it's caused by human activity\",\n",
              " ' BP and Shell are investing in renewables to hedge the risk of climate change',\n",
              " ' Howell Fitz, has pledged the shareholders available to disclose sometime this year, the actual financial impact of climate change on the company going-forward',\n",
              " ' The Boards would bubble said the proposals state - quote \" Our scientists have authored nearly 60 papers in scientific and technical publications on climate change with over 30 published and peer reviewed journals\" -- unquote',\n",
              " \" If you wanted to do more, you will give the names of the scientists who'd be nominated to serve in a numerous review board, listing their names and listing the review boards including those acting as legal authors with the intergovernmental panel and climate change\",\n",
              " \" All those, would verifiably prove Exxon Mobil's interest in climate change beyond any shadow of a doubt\",\n",
              " ' Nowhere in this resolution does it say that Exxon Mobil has to agree with us on the science of climate change',\n",
              " ' And so, here we are to propose this resolution, which is intended to begin a dialogue with the company, with its management and with its Board of Directors about the science of climate change and whether this company has engaged in a real historical process to determine its own position',\n",
              " ' Right now, we have the information for our side the Intergovernmental Panel on climate changes has provided a great set of reports']"
            ]
          },
          "metadata": {},
          "execution_count": 430
        }
      ]
    },
    {
      "cell_type": "markdown",
      "source": [
        "The earnings call transcript is structured in such a way that it should be possible to separate speakers based on regular expressions. Every time a new person is speaking, they are introduced in the transcript in a new paragraph; Consider the excerpt below: \n",
        "\n",
        "```\n",
        "OPERATOR: Our next question comes from Philip Weiss with Argus Research.\n",
        "\n",
        "PHILIP WEISS, ANALYST, ARGUS RESEARCH COMPANY: Good morning. I did have one, most of my questions have been answered, but I do have one follow-up on the US. You said that the rig count that's being used for liquids-rich is rising but when I look at production, natural gas as a percentage of your total production has grown, and liquids has actually fallen a little bit. So, I wonder if you can just comment on when we might start to see that trend change?\n",
        "\n",
        "DAVID ROSENTHAL: Sure. The fall off in the liquids is really just the overall decline in the conventional, as well as some divestments. You'll recall we had a divestment in the Eastern Gulf of Mexico and that had an impact on us year-over-year in particularly in the second half.\n",
        "In terms of when we'll see significant production growth out of the unconventional, I mentioned some of the increases in percentages, although we haven't given all of the specific production volumes, but we'll do that as we progress.\n",
        "```\n",
        "\n",
        "Now, we can't simply split by new line (`\\n`); David Rosenthal has two paragraphs. We also can't just split using `:`, since this may appear in the text. Let's describe the features of the names we're looking to split out:\n",
        "\n",
        "  1. It's a single or group of words \n",
        "    * regex: `(\\w)` \n",
        "  2. The words are all caps, and can contain any characters \n",
        "    * regex:`(\\w[A-Z])`\n",
        "  2. There are multiple words, and they can be separated by anything\n",
        "    * regex: `(\\w[A-Z]+.+\\w[A-Z])`\n",
        "  4. The sequence always ends in a colon\n",
        "    * regex: `(\\w[A-Z]+.+\\w[A-Z]+:)`\n",
        "\n",
        "If we plug this into "
      ],
      "metadata": {
        "id": "g0kCX-UNj1QU"
      }
    },
    {
      "cell_type": "code",
      "source": [
        "re.findall(r'([A-Z]+.+[A-Z]+:)', call['Text'])"
      ],
      "metadata": {
        "id": "rkBQe55wlrac",
        "outputId": "d76048df-bb5d-46ac-f6d1-c2d50936511c",
        "colab": {
          "base_uri": "https://localhost:8080/"
        }
      },
      "execution_count": 290,
      "outputs": [
        {
          "output_type": "execute_result",
          "data": {
            "text/plain": [
              "['JEFF WOODBURY, VP OF INVESTOR RELATIONS, CORPORATE SECRETARY, EXXONMOBIL CORPORATION:',\n",
              " 'REX TILLERSON:',\n",
              " 'REX TILLERSON:',\n",
              " 'REX TILLERSON:',\n",
              " 'BETH RICHTMAN, INVESTMENT MANAGER, CALPERS:',\n",
              " 'REX TILLERSON:',\n",
              " 'MICHAEL CROSBY, CAPUCHIN FRANCISCAN FRIAR:',\n",
              " 'REX TILLERSON:',\n",
              " 'TRACEY REMBERT, SHAREHOLDER, CHRISTIAN BROTHERS INVESTMENT SERVICES:',\n",
              " 'REX TILLERSON:',\n",
              " 'MICHAEL GARLAND, ASSISTANT COMPTROLLER FOR CORPORATE GOVERNANCE AND RESPONSIBLE INVESTMENT, OFFICE OF NEW YORK CITY COMPTROLLER:',\n",
              " 'REX TILLERSON:',\n",
              " 'TOM SIFFERMAN, REPRESENTATIVE, MOBIL OIL:',\n",
              " 'REX TILLERSON:',\n",
              " 'HUGHES JENKINS, EMPLOYEE, UNITED STEELWORKERS:',\n",
              " 'REX TILLERSON:',\n",
              " 'NATASHA LAMB, DIRECTOR OF EQUITY RESEARCH, ARJUNA CAPITAL AND BALDWIN BROTHERS:',\n",
              " 'REX TILLERSON:',\n",
              " 'PATRICIA DALY, SISTERS OF ST. DOMINIC OF CALDWELL NEW JERSEY:',\n",
              " 'REX TILLERSON:',\n",
              " 'PATRICIA DALY:',\n",
              " 'REX TILLERSON:',\n",
              " 'EDWARD MASON, SHAREHOLDER, CHURCH COMMISSIONERS FOR ENGLAND:',\n",
              " 'REX TILLERSON:',\n",
              " 'DANIELLE FUGERE:',\n",
              " 'REX TILLERSON:',\n",
              " 'DANIELLE FUGERE:',\n",
              " 'REX TILLERSON:',\n",
              " 'REX TILLERSON:',\n",
              " 'REX TILLERSON:',\n",
              " 'DAVID RIESMAN, SHAREHOLDER:',\n",
              " 'REX TILLERSON:',\n",
              " 'DAVID RIESMAN:',\n",
              " 'REX TILLERSON:',\n",
              " 'MICHAEL MACCRACKEN, CHIEF SCIENTIST, CLIMATE CHANGE SCIENTIST, MERCY INVESTMENT SERVICES:',\n",
              " 'REX TILLERSON:',\n",
              " 'MICHAEL MACCRACKEN:',\n",
              " 'REX TILLERSON:',\n",
              " 'DAVID MARTINEAU, GEOLOGIST:',\n",
              " 'REX TILLERSON:',\n",
              " 'RENEE BOUCHARD:',\n",
              " 'REX TILLERSON:',\n",
              " 'KATHY MULVEY, ACCOUNTABILITY CAMPAIGN MANAGER, UNION OF CONCERNED SCIENTISTS:',\n",
              " 'REX TILLERSON:',\n",
              " 'KATHY MULVEY:',\n",
              " 'REX TILLERSON:',\n",
              " 'CHARLOTTE RAWLS, SHAREHOLDER:',\n",
              " 'REX TILLERSON:',\n",
              " 'CHARLOTTE RAWLS:',\n",
              " 'REX TILLERSON:',\n",
              " \"ROBERT FORE, REPRESENTATIVE, PRESBYTERIAN CHURCH U.S.A.'S FOUNDATION:\",\n",
              " 'REX TILLERSON:',\n",
              " 'HUNTER MARTIN, SHAREHOLDER:',\n",
              " 'REX TILLERSON:',\n",
              " 'HUNTER MARTIN:',\n",
              " 'REX TILLERSON:',\n",
              " 'ANNA KOLINSKI:',\n",
              " 'REX TILLERSON:',\n",
              " 'REX TILLERSON:',\n",
              " 'REX TILLERSON:',\n",
              " 'UNIDENTIFIED AUDIENCE MEMBER:',\n",
              " 'REX TILLERSON:',\n",
              " 'JULIAN MARTINEZ, REPRESENTATIVE, SER-JOBS FOR PROGRESS:',\n",
              " 'REX TILLERSON:',\n",
              " 'REX TILLERSON:',\n",
              " 'UNIDENTIFIED COMPANY REPRESENTATIVE:',\n",
              " 'REX TILLERSON:']"
            ]
          },
          "metadata": {},
          "execution_count": 290
        }
      ]
    },
    {
      "cell_type": "markdown",
      "source": [],
      "metadata": {
        "id": "UcoB9FRul1j7"
      }
    },
    {
      "cell_type": "code",
      "source": [
        "re.split(r'([A-Z]+.+[A-Z]+:)', call['Text'])[9]\n"
      ],
      "metadata": {
        "id": "6GXQv50Fl2Tg",
        "outputId": "1837029a-4f3e-4a47-e84e-2572d8b7856d",
        "colab": {
          "base_uri": "https://localhost:8080/",
          "height": 35
        }
      },
      "execution_count": 305,
      "outputs": [
        {
          "output_type": "execute_result",
          "data": {
            "text/plain": [
              "'BETH RICHTMAN, INVESTMENT MANAGER, CALPERS:'"
            ],
            "application/vnd.google.colaboratory.intrinsic+json": {
              "type": "string"
            }
          },
          "metadata": {},
          "execution_count": 305
        }
      ]
    },
    {
      "cell_type": "markdown",
      "source": [
        "The kind of analysis we will be doing reqires *tokenizing* a text, and *tagging* individual words. Tokenizing means splitting the text into individul sentences or individual words, while tagging means classifying each word according to a POS (Parts Of Speech) classification. We can word tokenize our data using the `word_tokenize` function from the `nltk` library, which returns an object which is a list of tokens; if we print the first 19 tokens, we get the first sentence: "
      ],
      "metadata": {
        "id": "zGxG8hyCg-OV"
      }
    },
    {
      "cell_type": "code",
      "source": [
        "  tokens=nltk.word_tokenize(call['Text'])  \n",
        "  tokens[:19]"
      ],
      "metadata": {
        "colab": {
          "base_uri": "https://localhost:8080/"
        },
        "id": "SnOvPKe36lEB",
        "outputId": "d871c185-b131-45d2-967c-1fc315ac5ff4"
      },
      "execution_count": 218,
      "outputs": [
        {
          "output_type": "execute_result",
          "data": {
            "text/plain": [
              "['I',\n",
              " \"'m\",\n",
              " 'Rex',\n",
              " 'Tillerson',\n",
              " ',',\n",
              " 'I',\n",
              " \"'m\",\n",
              " 'the',\n",
              " 'Chairman',\n",
              " 'and',\n",
              " 'Chief',\n",
              " 'Executive',\n",
              " 'Officer',\n",
              " 'of',\n",
              " 'the',\n",
              " 'Exxon',\n",
              " 'Mobil',\n",
              " 'Corporation',\n",
              " '.']"
            ]
          },
          "metadata": {},
          "execution_count": 218
        }
      ]
    },
    {
      "cell_type": "markdown",
      "source": [
        "Having tokenized our text, there are a number of useful functions can use to explore it quantitatively. Let's start by counting the number of times \"climate\" is mentioned:\n",
        "\n"
      ],
      "metadata": {
        "id": "iu_vj_B5-RYj"
      }
    },
    {
      "cell_type": "code",
      "source": [
        "tokens.count('climate')"
      ],
      "metadata": {
        "colab": {
          "base_uri": "https://localhost:8080/"
        },
        "id": "h6y7ZqsGAhe2",
        "outputId": "92f457a2-5243-4d13-b344-75331f3dc2a5"
      },
      "execution_count": 219,
      "outputs": [
        {
          "output_type": "execute_result",
          "data": {
            "text/plain": [
              "76"
            ]
          },
          "metadata": {},
          "execution_count": 219
        }
      ]
    },
    {
      "cell_type": "code",
      "source": [
        "nltk.Text(tokens).collocations()\n"
      ],
      "metadata": {
        "colab": {
          "base_uri": "https://localhost:8080/"
        },
        "id": "TYoZWfH_Wzz8",
        "outputId": "da683392-d8d2-444c-c414-033816745a58"
      },
      "execution_count": 220,
      "outputs": [
        {
          "output_type": "stream",
          "name": "stdout",
          "text": [
            "REX TILLERSON; climate change; proxy statement; Exxon Mobil; Mr.\n",
            "Tillerson; voting thereon; resolution concerning; per day; shares\n",
            "voting; health care; Good morning; New York; Annual Meeting; barrels\n",
            "per; natural gas; shareholder proposal; global warming; oil\n",
            "equivalent; last year; York City\n"
          ]
        }
      ]
    },
    {
      "cell_type": "code",
      "source": [
        "#nltk.Text(tokens).concordance('climate change')"
      ],
      "metadata": {
        "colab": {
          "base_uri": "https://localhost:8080/"
        },
        "id": "ozQ_thdfYerG",
        "outputId": "ab4440f6-fcfc-45f4-e1df-115a9b620d1b"
      },
      "execution_count": 237,
      "outputs": [
        {
          "output_type": "execute_result",
          "data": {
            "text/plain": [
              "['EXXONMOBIL CORPORATION:',\n",
              " 'REX TILLERSON:',\n",
              " 'REX TILLERSON:',\n",
              " 'REX TILLERSON:',\n",
              " 'CALPERS:',\n",
              " 'REX TILLERSON:',\n",
              " 'CAPUCHIN FRANCISCAN FRIAR:',\n",
              " 'REX TILLERSON:',\n",
              " 'CHRISTIAN BROTHERS INVESTMENT SERVICES:',\n",
              " 'REX TILLERSON:',\n",
              " 'OFFICE OF NEW YORK CITY COMPTROLLER:',\n",
              " 'REX TILLERSON:',\n",
              " 'MOBIL OIL:',\n",
              " 'REX TILLERSON:',\n",
              " 'UNITED STEELWORKERS:',\n",
              " 'REX TILLERSON:',\n",
              " 'ARJUNA CAPITAL AND BALDWIN BROTHERS:',\n",
              " 'REX TILLERSON:',\n",
              " 'DOMINIC OF CALDWELL NEW JERSEY:',\n",
              " 'REX TILLERSON:',\n",
              " 'PATRICIA DALY:',\n",
              " 'REX TILLERSON:',\n",
              " 'CHURCH COMMISSIONERS FOR ENGLAND:',\n",
              " 'REX TILLERSON:',\n",
              " 'DANIELLE FUGERE:',\n",
              " 'REX TILLERSON:',\n",
              " 'DANIELLE FUGERE:',\n",
              " 'REX TILLERSON:',\n",
              " 'REX TILLERSON:',\n",
              " 'REX TILLERSON:',\n",
              " 'SHAREHOLDER:',\n",
              " 'REX TILLERSON:',\n",
              " 'DAVID RIESMAN:',\n",
              " 'REX TILLERSON:',\n",
              " 'MERCY INVESTMENT SERVICES:',\n",
              " 'REX TILLERSON:',\n",
              " 'MICHAEL MACCRACKEN:',\n",
              " 'REX TILLERSON:',\n",
              " 'GEOLOGIST:',\n",
              " 'REX TILLERSON:',\n",
              " 'RENEE BOUCHARD:',\n",
              " 'REX TILLERSON:',\n",
              " 'UNION OF CONCERNED SCIENTISTS:',\n",
              " 'REX TILLERSON:',\n",
              " 'KATHY MULVEY:',\n",
              " 'REX TILLERSON:',\n",
              " 'SHAREHOLDER:',\n",
              " 'REX TILLERSON:',\n",
              " 'CHARLOTTE RAWLS:',\n",
              " 'REX TILLERSON:',\n",
              " 'S FOUNDATION:',\n",
              " 'REX TILLERSON:',\n",
              " 'SHAREHOLDER:',\n",
              " 'REX TILLERSON:',\n",
              " 'HUNTER MARTIN:',\n",
              " 'REX TILLERSON:',\n",
              " 'ANNA KOLINSKI:',\n",
              " 'REX TILLERSON:',\n",
              " 'REX TILLERSON:',\n",
              " 'REX TILLERSON:',\n",
              " 'UNIDENTIFIED AUDIENCE MEMBER:',\n",
              " 'REX TILLERSON:',\n",
              " 'JOBS FOR PROGRESS:',\n",
              " 'REX TILLERSON:',\n",
              " 'REX TILLERSON:',\n",
              " 'UNIDENTIFIED COMPANY REPRESENTATIVE:',\n",
              " 'REX TILLERSON:']"
            ]
          },
          "metadata": {},
          "execution_count": 237
        }
      ]
    },
    {
      "cell_type": "code",
      "source": [
        "from nltk import bigrams\n",
        "\n",
        "finder = BigramCollocationFinder.from_words(tokens)\n",
        "bigram_measures = nltk.collocations.BigramAssocMeasures()\n",
        "print(finder.nbest(bigram_measures.pmi, 2))"
      ],
      "metadata": {
        "colab": {
          "base_uri": "https://localhost:8080/"
        },
        "id": "do60msoVkxhU",
        "outputId": "f0cec0df-2c10-4514-e3cd-03ba25ac7f39"
      },
      "execution_count": 222,
      "outputs": [
        {
          "output_type": "stream",
          "name": "stdout",
          "text": [
            "[('1,000', 'academics'), ('1,400', 'Gulf')]\n"
          ]
        }
      ]
    },
    {
      "cell_type": "code",
      "source": [
        "def tokenize(raw_text):\n",
        "  tokens=nltk.word_tokenize(raw_text)\n",
        "  text=nltk.Text(tokens)\n",
        "  return text\n",
        "\n",
        "df['Text']=df['Text'].apply(lambda x: tokenize(x))"
      ],
      "metadata": {
        "id": "5qi2IUdweY2K"
      },
      "execution_count": 223,
      "outputs": []
    },
    {
      "cell_type": "code",
      "source": [
        "df['climate']=df['Text'].apply(lambda x: x.count('climate'))\n",
        "df.plot('climate')"
      ],
      "metadata": {
        "colab": {
          "base_uri": "https://localhost:8080/",
          "height": 515
        },
        "id": "Io-GB2ZZi8ov",
        "outputId": "c3fc9f49-4262-4d8b-ff4c-5727bc83a5e2"
      },
      "execution_count": 224,
      "outputs": [
        {
          "output_type": "execute_result",
          "data": {
            "text/plain": [
              "<matplotlib.axes._subplots.AxesSubplot at 0x7fd4956abb90>"
            ]
          },
          "metadata": {},
          "execution_count": 224
        },
        {
          "output_type": "display_data",
          "data": {
            "text/plain": [
              "<Figure size 720x576 with 1 Axes>"
            ],
            "image/png": "[encoded data removed]"
          },
          "metadata": {
            "needs_background": "light"
          }
        }
      ]
    },
    {
      "cell_type": "code",
      "source": [
        "call=df.iloc[38]\n",
        "\n",
        "text=call['Text']\n",
        "#tokens=nltk.word_tokenize(raw_text)\n",
        "#text=nltk.Text(tokens)\n",
        "\n",
        "word_fd = nltk.FreqDist(filtered_sentence)\n",
        "\n",
        "text.concordance('climate')\n",
        "print(text.count('climate change'))\n",
        "\n",
        "text.dispersion_plot(['climate'])"
      ],
      "metadata": {
        "colab": {
          "base_uri": "https://localhost:8080/",
          "height": 240
        },
        "id": "pGJ4ToaRZRWa",
        "outputId": "b902bab3-2adb-441e-dd13-bfec147708cf"
      },
      "execution_count": 225,
      "outputs": [
        {
          "output_type": "error",
          "ename": "NameError",
          "evalue": "ignored",
          "traceback": [
            "\u001b[0;31m---------------------------------------------------------------------------\u001b[0m",
            "\u001b[0;31mNameError\u001b[0m                                 Traceback (most recent call last)",
            "\u001b[0;32m<ipython-input-225-27507f81b938>\u001b[0m in \u001b[0;36m<module>\u001b[0;34m\u001b[0m\n\u001b[1;32m      5\u001b[0m \u001b[0;31m#text=nltk.Text(tokens)\u001b[0m\u001b[0;34m\u001b[0m\u001b[0;34m\u001b[0m\u001b[0;34m\u001b[0m\u001b[0m\n\u001b[1;32m      6\u001b[0m \u001b[0;34m\u001b[0m\u001b[0m\n\u001b[0;32m----> 7\u001b[0;31m \u001b[0mword_fd\u001b[0m \u001b[0;34m=\u001b[0m \u001b[0mnltk\u001b[0m\u001b[0;34m.\u001b[0m\u001b[0mFreqDist\u001b[0m\u001b[0;34m(\u001b[0m\u001b[0mfiltered_sentence\u001b[0m\u001b[0;34m)\u001b[0m\u001b[0;34m\u001b[0m\u001b[0;34m\u001b[0m\u001b[0m\n\u001b[0m\u001b[1;32m      8\u001b[0m \u001b[0;34m\u001b[0m\u001b[0m\n\u001b[1;32m      9\u001b[0m \u001b[0mtext\u001b[0m\u001b[0;34m.\u001b[0m\u001b[0mconcordance\u001b[0m\u001b[0;34m(\u001b[0m\u001b[0;34m'climate'\u001b[0m\u001b[0;34m)\u001b[0m\u001b[0;34m\u001b[0m\u001b[0;34m\u001b[0m\u001b[0m\n",
            "\u001b[0;31mNameError\u001b[0m: name 'filtered_sentence' is not defined"
          ]
        }
      ]
    },
    {
      "cell_type": "markdown",
      "source": [
        "## Scatter Text"
      ],
      "metadata": {
        "id": "z1roMPrccSr1"
      }
    },
    {
      "cell_type": "code",
      "source": [
        "ceo_df=df[30:40]\n",
        "ceo_df['CEO']=np.where(ceo_df['Date']>'01-01-2017','Woods','Tillerson')\n",
        "\n",
        "import scattertext as st\n",
        "\n",
        "corpus = st.CorpusFromPandas(ceo_df,\n",
        "                             category_col='CEO',\n",
        "                             text_col='Text',\n",
        "                             nlp=nlp).build()"
      ],
      "metadata": {
        "id": "Ej6_Xvfc-XnK"
      },
      "execution_count": null,
      "outputs": []
    },
    {
      "cell_type": "code",
      "source": [
        "corpus=corpus.remove_terms(nlp.Defaults.stop_words, ignore_absences=True)\n"
      ],
      "metadata": {
        "id": "8jbKhYc0UhrS"
      },
      "execution_count": null,
      "outputs": []
    },
    {
      "cell_type": "code",
      "source": [
        "html = st.produce_scattertext_explorer(\n",
        "                   corpus,\n",
        "                   category='Woods',\n",
        "                   category_name='Woods',\n",
        "                   not_category_name='Tillerson',\n",
        "                   width_in_pixels=1000)\n",
        "\n",
        "display(HTML(html))"
      ],
      "metadata": {
        "id": "7dAj7ndkQq-F"
      },
      "execution_count": null,
      "outputs": []
    },
    {
      "cell_type": "code",
      "source": [],
      "metadata": {
        "id": "aFHaxXaqYZKP"
      },
      "execution_count": null,
      "outputs": []
    },
    {
      "cell_type": "code",
      "source": [
        "df['Text']=df['Text'].str.split('\\n\\n')\n",
        "paragraphs=df.explode('Text')\n",
        "paragraphs"
      ],
      "metadata": {
        "id": "LOjMeLpR-py1"
      },
      "execution_count": null,
      "outputs": []
    },
    {
      "cell_type": "code",
      "source": [
        "paragraphs['speaker']=paragraphs['Text'].str.split(':').str[0]\n",
        "paragraphs"
      ],
      "metadata": {
        "id": "c7xZlfraXCtc"
      },
      "execution_count": null,
      "outputs": []
    },
    {
      "cell_type": "code",
      "source": [
        "from spacy.matcher import PhraseMatcher\n",
        "\n",
        "matcher = PhraseMatcher(nlp.vocab)\n",
        "matcher.add(\"cc\", [nlp(\"carbon capture\")])\n",
        "matches = matcher(doc)\n",
        "\n",
        "ix=matches[0]\n",
        "\n",
        "doc[ix[1]-10:ix[2]+10]"
      ],
      "metadata": {
        "id": "2gaNqz7mwqTL"
      },
      "execution_count": null,
      "outputs": []
    },
    {
      "cell_type": "code",
      "source": [
        "from spacy.matcher import PhraseMatcher\n",
        "\n",
        "phrase_matcher = PhraseMatcher(nlp.vocab)\n",
        "phrase_list = [nlp('climate change')]\n",
        "phrase_matcher.add(\"Text Extractor\", None, *phrase_list)\n",
        "matched_items = phrase_matcher(doc)\n",
        "\n",
        "matched_text = []\n",
        "\n",
        "for match_id, start, end in matched_items:\n",
        "    text = nlp.vocab.strings[match_id]\n",
        "    span = doc[start: end]\n",
        "    matched_text.append(span.sent)\n",
        "\n",
        "matched_text"
      ],
      "metadata": {
        "id": "NPOS6hnSuDI3"
      },
      "execution_count": null,
      "outputs": []
    },
    {
      "cell_type": "code",
      "source": [
        "displacy.render(matched_text[1], jupyter=True)"
      ],
      "metadata": {
        "id": "f2nP5YEIHRJu"
      },
      "execution_count": null,
      "outputs": []
    },
    {
      "cell_type": "code",
      "source": [
        "import textacy.extract\n",
        "\n",
        "kwic=textacy.extract.kwic.keyword_in_context(doc, 'global warming')\n",
        "\n",
        "for a in kwic:\n",
        "  print(a)\n"
      ],
      "metadata": {
        "id": "JpQOHPaDh-l5"
      },
      "execution_count": null,
      "outputs": []
    },
    {
      "cell_type": "code",
      "source": [
        "from spacy import displacy\n",
        "displacy.render(sentences[1], jupyter=True)"
      ],
      "metadata": {
        "id": "x_33mSS7lRIQ"
      },
      "execution_count": null,
      "outputs": []
    },
    {
      "cell_type": "code",
      "source": [
        "from collections import Counter, defaultdict\n",
        "\n",
        "def find_character_occurences(doc):\n",
        "    \"\"\"\n",
        "    Return a list of actors from `doc` with corresponding occurences.\n",
        "    \n",
        "    :param doc: Spacy NLP parsed document\n",
        "    :return: list of tuples in form\n",
        "        [('elizabeth', 622), ('darcy', 312), ('jane', 286), ('bennet', 266)]\n",
        "    \"\"\"\n",
        "    \n",
        "    characters = Counter()\n",
        "    for ent in doc.ents:\n",
        "        if ent.label_ == 'PERSON':\n",
        "            characters[ent.lemma_] += 1\n",
        "            \n",
        "    return characters.most_common()\n",
        "\n",
        "print(find_character_occurences(doc)[:20])"
      ],
      "metadata": {
        "id": "hoEde2YviZs4"
      },
      "execution_count": null,
      "outputs": []
    },
    {
      "cell_type": "code",
      "source": [
        "text.dispersion_plot(['Grail','rabbit','Knights','Ni','castle'])"
      ],
      "metadata": {
        "id": "AgA6Clq1q8Ax"
      },
      "execution_count": null,
      "outputs": []
    },
    {
      "cell_type": "code",
      "source": [
        "for token in doc:\n",
        "    print(token.text, token.pos_, token.ent_)"
      ],
      "metadata": {
        "id": "GSkzIbW5XSUJ"
      },
      "execution_count": null,
      "outputs": []
    },
    {
      "cell_type": "markdown",
      "metadata": {
        "id": "bAVvtEX6jAYb"
      },
      "source": [
        "## Dirty Words\n",
        "\n",
        "Text often comes 'unclean' either containing tags such as HTML (or XML), or has other issues, but fortunately we will be using 'clean' sources, at least initially. Be cautious when committing to a text analysis project - you may spend a great deal of time tidying up your text.\n",
        "\n",
        "The kind of analysis we will be doing reqires *tokenizing* a text, and *tagging* individual words. Tokenizing means splitting the text into individul sentences or individual words, while tagging means classifying each word according to a POS (Parts Of Speech) classification. "
      ]
    },
    {
      "cell_type": "markdown",
      "metadata": {
        "id": "V2uw3HT0jAYb"
      },
      "source": [
        "## The Castle of Aaargh\n",
        "We will first experiment with nltk and its built in corpus texts. We'll work with some Monty Python, beloved of comedy bores for half a century"
      ]
    },
    {
      "cell_type": "markdown",
      "metadata": {
        "id": "nMgq_w5CjAYc"
      },
      "source": [
        "## Setup\n",
        "\n",
        "- install nltk through package manager, or the command line\n",
        "- import nltk\n",
        "- type nltk.download('book'). This will automatically download the books into our workspace"
      ]
    },
    {
      "cell_type": "code",
      "execution_count": null,
      "metadata": {
        "id": "X14YfA2ejAYd"
      },
      "outputs": [],
      "source": [
        "#nltk: natural language processing toolkit\n",
        "import nltk"
      ]
    },
    {
      "cell_type": "code",
      "execution_count": null,
      "metadata": {
        "id": "ao7y2Gd_jAYf"
      },
      "outputs": [],
      "source": [
        "#Download the sample books\n",
        "nltk.download('book')"
      ]
    },
    {
      "cell_type": "markdown",
      "metadata": {
        "id": "BaD9wjhzjAYi"
      },
      "source": [
        "Now, we import the sample texts. You'll notice that text6 is \"Monty Python and the Holy Grail\", as promised. Presumably this was compiled pre-*Spamalot*."
      ]
    },
    {
      "cell_type": "code",
      "execution_count": null,
      "metadata": {
        "id": "qsoVoCHejAYj"
      },
      "outputs": [],
      "source": [
        "#Import all features from nltk.book\n",
        "from nltk.book import *"
      ]
    },
    {
      "cell_type": "markdown",
      "metadata": {
        "id": "bvnDgXfgjAYl"
      },
      "source": [
        "Let's look at the object text6; we can look at the first few words.."
      ]
    },
    {
      "cell_type": "code",
      "execution_count": null,
      "metadata": {
        "id": "uV0fZDKvjAYm"
      },
      "outputs": [],
      "source": [
        "#View the first ten words of text6\n",
        "text6[1:10]"
      ]
    },
    {
      "cell_type": "markdown",
      "metadata": {
        "id": "vxGMtiBBjAYo"
      },
      "source": [
        "Which are presumably stage directions rather than dialogue. How many words/symbols are in the text?"
      ]
    },
    {
      "cell_type": "code",
      "execution_count": null,
      "metadata": {
        "id": "0D3vDc8xjAYp"
      },
      "outputs": [],
      "source": [
        "#View the length of the list\n",
        "len(text6)"
      ]
    },
    {
      "cell_type": "markdown",
      "metadata": {
        "id": "BRw32-UFjAYr"
      },
      "source": [
        "Bear in mind that a lot of the functions we will carry out rely on this being a text object - we'll start to think about how we use free text and convert it to a **Text** object later."
      ]
    },
    {
      "cell_type": "markdown",
      "metadata": {
        "id": "unXAzIInjAYr"
      },
      "source": [
        "We can now start to do some slightly more sophisticated work; for example, a dispersion plot to see where words appear. Let's give it a few keywords that those familiar with *...The Holy Grail* might recognise:"
      ]
    },
    {
      "cell_type": "code",
      "execution_count": null,
      "metadata": {
        "id": "dsaM5FEljAYs"
      },
      "outputs": [],
      "source": [
        "text6.dispersion_plot(['Grail','rabbit','Knights','Ni','castle'])"
      ]
    },
    {
      "cell_type": "markdown",
      "metadata": {
        "id": "LAu_-1JEjAYt"
      },
      "source": [
        "And we can easily count *how many* times a word appears."
      ]
    },
    {
      "cell_type": "code",
      "execution_count": null,
      "metadata": {
        "id": "upaRb9iwjAYu"
      },
      "outputs": [],
      "source": [
        "text6.count('Ni')"
      ]
    },
    {
      "cell_type": "markdown",
      "metadata": {
        "id": "t2AACARjjAYx"
      },
      "source": [
        "Or the words which most commonly appear together:"
      ]
    },
    {
      "cell_type": "code",
      "execution_count": null,
      "metadata": {
        "id": "Y4mNYR8KjAYx"
      },
      "outputs": [],
      "source": [
        "text6.collocations()"
      ]
    },
    {
      "cell_type": "markdown",
      "metadata": {
        "id": "9C_kwLPljAY0"
      },
      "source": [
        "## Exercise: From Hell's Heart I Stab at Thee\n",
        "From Moby Dick, find out \n",
        "- Where the narrator Ishmael, Captain Ahab and his Nemesis are mentioned. When do each enter the story? Where do they have most emphasis?\n",
        "- Which parts of the books appear to take place at sea, and points where their ship is wrecked or sinking (spoilers)\n",
        "- two significant places in the story (HINT: use collocations)"
      ]
    },
    {
      "cell_type": "markdown",
      "metadata": {
        "id": "JmkkXMhZjAY0"
      },
      "source": [
        "Let's now look at carrying out the full process of importing and working with text data. \n",
        "\n",
        "## Making an IMPACT\n",
        "\n",
        "As part of the REF2014 exercise, universities reported on the *Impact* their research activities had on the world. Their *Impact Case Studies* were subsequently made available by HEFCE. What sort of information do they contain? How do universities frame \"impact\"? All of this data is available via the REF website.\n",
        "\n",
        "A little context: I've included examples from the four *panels* used by HEFCE. Broadly speaking, Panel A is health, bioscience and medicine, B is physical science and engineering, C is social science, and D is humanities - the full categories are visible here: \n",
        "http://www.ref.ac.uk/panels/unitsofassessment/"
      ]
    },
    {
      "cell_type": "markdown",
      "metadata": {
        "id": "l_jPhxxDjAY1"
      },
      "source": [
        "Let's first look at random sample from Panel A:"
      ]
    },
    {
      "cell_type": "code",
      "execution_count": null,
      "metadata": {
        "id": "OqMQQwwgjAY1"
      },
      "outputs": [],
      "source": [
        "#Data path to file\n",
        "data_path = \"./data/wk7/PanelA.txt\"\n",
        "\n",
        "with open(data_path) as file:\n",
        "    data = file.read()\n",
        "print(data)"
      ]
    },
    {
      "cell_type": "markdown",
      "metadata": {
        "id": "sKKodS7djAY4"
      },
      "source": [
        "We could tokenize this into sentences:"
      ]
    },
    {
      "cell_type": "code",
      "execution_count": null,
      "metadata": {
        "id": "uEVi_SoQjAY4"
      },
      "outputs": [],
      "source": [
        "sentences = nltk.sent_tokenize(data)\n",
        "sentences[1:5]"
      ]
    },
    {
      "cell_type": "markdown",
      "metadata": {
        "id": "4Gg-XygQjAY6"
      },
      "source": [
        "Or into individual words; generally, it may be useful to retain sentences, so we can see where two words are in the same sentence, for example - but we'll be doing something simpler:"
      ]
    },
    {
      "cell_type": "code",
      "execution_count": null,
      "metadata": {
        "id": "M5Plm1ArjAY6"
      },
      "outputs": [],
      "source": [
        "tokens = nltk.word_tokenize(data)"
      ]
    },
    {
      "cell_type": "code",
      "execution_count": null,
      "metadata": {
        "id": "qBKQuBRVjAY9"
      },
      "outputs": [],
      "source": [
        "tokens[1:20]"
      ]
    },
    {
      "cell_type": "markdown",
      "metadata": {
        "id": "HEu4tpJAjAY_"
      },
      "source": [
        "Tokenising is a process which has many subtleties and corner-cases, and you may want to proceed in a more fine-grained way for some texts:\n",
        "\n",
        "http://nltk.org/api/nltk.tokenize.html"
      ]
    },
    {
      "cell_type": "markdown",
      "metadata": {
        "id": "svVHPwxWjAZA"
      },
      "source": [
        "Let's now convert this into a Text object, which will allow us to analyse other aspects of the text. For example, we can look at **collocations**, words which commonly appear together. This may help to provide context."
      ]
    },
    {
      "cell_type": "code",
      "execution_count": null,
      "metadata": {
        "id": "4_A0kZTtjAZA"
      },
      "outputs": [],
      "source": [
        "simple_text = nltk.Text(tokens)\n",
        "simple_text.collocations()"
      ]
    },
    {
      "cell_type": "markdown",
      "metadata": {
        "id": "mdFk6ccAjAZC"
      },
      "source": [
        "We can create a dispersion plot - although in this case, it tells us a limited amount..."
      ]
    },
    {
      "cell_type": "code",
      "execution_count": null,
      "metadata": {
        "id": "FRf7MuRcjAZC"
      },
      "outputs": [],
      "source": [
        "simple_text.dispersion_plot(['NHS', 'evidence', 'practice', 'Hospital'])"
      ]
    },
    {
      "cell_type": "markdown",
      "metadata": {
        "id": "uQixTRFfjAZE"
      },
      "source": [
        "Even from this, we get a sense of the work this unit does, and its impacts on the world. But what are the most 20 common words used? To find this out, we produce a **Freq**uency **Dist**ribution (*FreqDist*) object. This has an implicit loop - the *for* statement is telling python to look through all the words in 'tokens' and seeing how often they occur. The .lower() command converts them all to lower case for comparison, so it will flag up upper *and* lower case occurrences of the word."
      ]
    },
    {
      "cell_type": "code",
      "execution_count": null,
      "metadata": {
        "id": "NWurW51GjAZE"
      },
      "outputs": [],
      "source": [
        "fd = nltk.FreqDist(word.lower() for word in tokens)\n",
        "fd.plot(20)"
      ]
    },
    {
      "cell_type": "markdown",
      "metadata": {
        "id": "bmvdZO9ojAZG"
      },
      "source": [
        "Not very helpful - this includes all kinds of junk, and tells us that \"and\" is very common. Not very interesting. Let's try a bit harder and identify Parts of Speech."
      ]
    },
    {
      "cell_type": "markdown",
      "metadata": {
        "id": "_oLLYkCMjAZG"
      },
      "source": [
        "## POS\n",
        "\n",
        "Parts of speech indicate whether something is a noun, a verb, adjective, and so on. In nltk, we can use the *pos_tag* command, which will identify which word belongs to which part of speech."
      ]
    },
    {
      "cell_type": "code",
      "execution_count": null,
      "metadata": {
        "id": "y3BhEWJGjAZH"
      },
      "outputs": [],
      "source": [
        "tagged = nltk.pos_tag(tokens)\n",
        "tagged[0:10]"
      ]
    },
    {
      "cell_type": "markdown",
      "metadata": {
        "id": "4GQoRtbijAZJ"
      },
      "source": [
        "'NNP' refers to Proper Noun, Singular; you can find the full list of Parts of Speech here: http://www.ling.upenn.edu/courses/Fall_2003/ling001/penn_treebank_pos.html"
      ]
    },
    {
      "cell_type": "code",
      "execution_count": null,
      "metadata": {
        "id": "RkOv1GmojAZJ"
      },
      "outputs": [],
      "source": [
        "permitted_tags = set([\n",
        "    'NN',\n",
        "    'NNS'\n",
        "])"
      ]
    },
    {
      "cell_type": "markdown",
      "metadata": {
        "id": "J4P2wbX2jAZL"
      },
      "source": [
        "## One FOR All\n",
        "We've so far managed to avoid this staple of programming, the FOR loop - and we're not going to delve too deeply into it in the last class of term. Of course, you probably came across FOR loops and IF statements when you worked through the prerequisites for the module, but that feels like a long time ago... \n",
        "\n",
        "We do use FOR and IF here, and it's worth understanding a bit about what it means, even if you don't intend to use it a lot yourself. In the next piece of code, we set up *fd*, a new object which will record frequency distribution information. Then we use a FOR loop\n",
        "\n",
        "`for bit in tagged:\n",
        "    ...'\n",
        "\n",
        "This goes through every element of tagged one at a time - and each element is called 'bit' for the purposes of this loop. Then, for each 'bit', we check that it has one of the permitted tags, and make sure it's at least 3 characters long - shorter words probably aren't all that relevant in this case:\n",
        "\n",
        "`if bit[1] in permitted_tags and len(bit[0])>2:'\n",
        "\n",
        "note that the *and* means both of these have to be true - if both *are* true, only then does the following statement execute:\n",
        "\n",
        "`fd[bit[0]] = fd[bit[0]] + 1'\n",
        "\n",
        "which increases the count for that word. So, this code increases the count for a word iff (if and only if) its at least 3 characters long, and it's of the correct tag (Noun, Singular or Plural)."
      ]
    },
    {
      "cell_type": "markdown",
      "metadata": {
        "id": "4LmuzZYLjAZM"
      },
      "source": [
        "## Double Indentity\n",
        "One final remark: we haven't dealt with **indents** much in python, but indenting the code like below, after the for statement, and *again* after the if statement, is the way that python knows it's dealing with a loop (for) and a conditional (if). It's also the way python deals with defining new functions, but that's not something you will need to do. This is just a pointer - if your code doesn't work, check the colons are there (:) and the indenting is too."
      ]
    },
    {
      "cell_type": "markdown",
      "metadata": {
        "id": "q4xfJbyajAZN"
      },
      "source": [
        "On with the show - as promised, this creates a word frequency graph of nouns:"
      ]
    },
    {
      "cell_type": "code",
      "execution_count": null,
      "metadata": {
        "id": "rqnTIL3SjAZN"
      },
      "outputs": [],
      "source": [
        "fd = nltk.FreqDist()\n",
        "\n",
        "for bit in tagged:\n",
        "    if bit[1] in permitted_tags and len(bit[0])>2:\n",
        "        fd[bit[0]] = fd[bit[0]] + 1\n",
        "        \n",
        "fd.plot(20)"
      ]
    },
    {
      "cell_type": "markdown",
      "metadata": {
        "id": "6E8D48iQjAZP"
      },
      "source": [
        "We start to get a sense of the impact - 'care', 'practice', and 'services' all feature heavily."
      ]
    },
    {
      "cell_type": "markdown",
      "metadata": {
        "id": "IUNEIrKkjAZP"
      },
      "source": [
        "Let's now look at another randomly chosen example from Panel A:"
      ]
    },
    {
      "cell_type": "code",
      "execution_count": null,
      "metadata": {
        "id": "KTcFZc5ejAZQ"
      },
      "outputs": [],
      "source": [
        "data_path = \"./data/wk7/PanelA2.txt\"\n",
        "\n",
        "with open(data_path) as file:\n",
        "    data = file.read()\n",
        "\n",
        "tokens = nltk.word_tokenize(text)\n",
        "simple_text.collocations()\n",
        "simple_text = nltk.Text(tokens)\n",
        "tagged = nltk.pos_tag(tokens)\n",
        "fd = nltk.FreqDist()\n",
        "\n",
        "for bit in tagged:\n",
        "    if bit[1] in permitted_tags and len(bit[0])>2:\n",
        "        fd[bit[0]] = fd[bit[0]] + 1\n",
        "        \n",
        "fd.plot(20)"
      ]
    },
    {
      "cell_type": "markdown",
      "metadata": {
        "id": "VeqxzqwkjAZS"
      },
      "source": [
        "A very different set of words, clearly geared towards language therapy, and working directly with patients. Perhaps if we looked at the *slightly* less common words, we'd see links between these submissions -  for example, we see *communication* appearing in both. Not a huge surprise, if we're talking about public impact, but students of the public role of the university might start to wonder about the distinctions between *communication* and *engagement*."
      ]
    },
    {
      "cell_type": "markdown",
      "metadata": {
        "id": "nJFweobvjAZS"
      },
      "source": [
        "## Exercise\n",
        "Repeat this for the examples from Panels B, C and D - what trends and keywords appear? What use do the collocations have? What do different parts of speech (e.g. verbs or proper nouns) tell you about the text?"
      ]
    },
    {
      "cell_type": "markdown",
      "metadata": {
        "id": "ecSgp5_EjAZT"
      },
      "source": [
        "If we wanted to analyse the sector as a whole, we would want to analyse Impact statements en masse - and we would hope that this would draw out links across differnt statements from different centres and universities, and even in different panels."
      ]
    },
    {
      "cell_type": "markdown",
      "metadata": {
        "id": "CEt_3piEjAZT"
      },
      "source": [
        "## Working with larger text datasets\n",
        "Working with larger text corpora starts to get slow. At this point, we will look at a body of text we have previously tagged up.  The file is \"The Nameless City\" by H. P. Lovecraft, a horror author from the early 20th century."
      ]
    },
    {
      "cell_type": "code",
      "execution_count": null,
      "metadata": {
        "id": "ZW6nG-2cjAZU"
      },
      "outputs": [],
      "source": [
        "import pickle\n",
        "import requests\n",
        "from urllib.request import urlopen"
      ]
    },
    {
      "cell_type": "markdown",
      "metadata": {
        "id": "6p574eddjAZV"
      },
      "source": [
        "This may take a little while - so wait for the task to run:"
      ]
    },
    {
      "cell_type": "code",
      "execution_count": null,
      "metadata": {
        "id": "XdWBrdj6jAZW"
      },
      "outputs": [],
      "source": [
        "# Loading the tokenized and tagged file. \n",
        "tagged = pickle.load(urlopen(\"https://s3.eu-west-2.amazonaws.com/qm2/wk7/lovecraft_tagged.pickle\"), encoding='latin1')\n",
        "\n",
        "#How many sentences do we have?\n",
        "len(tagged)"
      ]
    },
    {
      "cell_type": "markdown",
      "metadata": {
        "id": "HtufCPFojAZY"
      },
      "source": [
        "This is tokenised by sentence - and there are 18,513 of them. That would have taken a long time to tag up. If you're interested, this is how you take a set of *sentences* and tag them with Part of Speech:"
      ]
    },
    {
      "cell_type": "code",
      "execution_count": null,
      "metadata": {
        "id": "xLb8JynVjAZY"
      },
      "outputs": [],
      "source": [
        "exampleSentences = nltk.sent_tokenize(data)\n",
        "  \n",
        "exampleTagged = [nltk.pos_tag(nltk.word_tokenize(sent)) for sent in sentences]"
      ]
    },
    {
      "cell_type": "markdown",
      "metadata": {
        "id": "ooTOo3z8jAZa"
      },
      "source": [
        "Note that the second line is running an implicit for loop through every sentence, and tagging each word."
      ]
    },
    {
      "cell_type": "code",
      "execution_count": null,
      "metadata": {
        "id": "Cz4IfCCPjAZa"
      },
      "outputs": [],
      "source": [
        "# first sentence.\n",
        "exampleTagged[0]"
      ]
    },
    {
      "cell_type": "markdown",
      "metadata": {
        "id": "jSuvJ_TOjAZc"
      },
      "source": [
        "An impressive start! Let's again build our word frequency chart. Note now that we have an extra layer of FOR - we need to look at each sentence in the text; at each word in each sentence; and then check each word to see whether it is of an allowed type."
      ]
    },
    {
      "cell_type": "code",
      "execution_count": null,
      "metadata": {
        "id": "UN0d_QXCjAZc"
      },
      "outputs": [],
      "source": [
        "fd = nltk.FreqDist()\n",
        "\n",
        "permitted_tags = set([\n",
        "    'JJS',\n",
        "    'FW',\n",
        "    'NN',\n",
        "    'NNS',\n",
        "    'NNP',\n",
        "    'NNPS',\n",
        "    'UH',\n",
        "])\n",
        "for sentence in tagged:\n",
        "    for word in sentence:\n",
        "        if word[1] in permitted_tags:\n",
        "                fd[word[0]] = fd[word[0]] + 1\n",
        "fd.plot(20)"
      ]
    },
    {
      "cell_type": "markdown",
      "metadata": {
        "id": "FlvchpMQjAZe"
      },
      "source": [
        "Now that we've produced counts for all words which conform to our list of tags, we can quickly see how frequently common words appear; because we have tokenized by sentence, we have to do this with a slightly different mechanism - run through the words of interest and see how many occurrences appear in the Frequency Distribution object, fd. Again, we're sneaking in a FOR loop to run through these."
      ]
    },
    {
      "cell_type": "code",
      "execution_count": null,
      "metadata": {
        "id": "xkTMTA5bjAZf"
      },
      "outputs": [],
      "source": [
        "for word in ['space', 'nameless', 'mad', 'dread', 'fear', 'cthulhu', 'necronomicon', 'caring']:\n",
        "    print(word, fd[word])"
      ]
    },
    {
      "cell_type": "markdown",
      "metadata": {
        "id": "V1-5LR5_jAZi"
      },
      "source": [
        "So far, we've completely avoided the use of pandas - but we can put this data into a pandas dataframe very easily, and use the built-in graphing methods to change the style of our graph. \n",
        "\n",
        "We feed in fd.keys() - the words - and fd.values(), the wordcount."
      ]
    },
    {
      "cell_type": "code",
      "execution_count": null,
      "metadata": {
        "id": "kJpXxOLEjAZj"
      },
      "outputs": [],
      "source": [
        "#Convert to list so subscriptable\n",
        "list(fd.keys())[1:10]"
      ]
    },
    {
      "cell_type": "code",
      "execution_count": null,
      "metadata": {
        "id": "J5WjIv1rjAZm"
      },
      "outputs": [],
      "source": [
        "#Convert to list so subscriptable\n",
        "list(fd.values())[1:10]"
      ]
    },
    {
      "cell_type": "code",
      "execution_count": null,
      "metadata": {
        "id": "FrgMyHThjAZp"
      },
      "outputs": [],
      "source": [
        "import pandas as pd\n",
        "\n",
        "#Convert to list for use in creating dataframe\n",
        "df = pd.DataFrame({'items': list(fd.keys()), 'counts': list(fd.values())})\n",
        "df.head()"
      ]
    },
    {
      "cell_type": "markdown",
      "metadata": {
        "id": "6cce-T97jAZu"
      },
      "source": [
        "Let's now arrange them in order of appearance - the most common at the top."
      ]
    },
    {
      "cell_type": "code",
      "execution_count": null,
      "metadata": {
        "id": "OcIU8K-hjAZv"
      },
      "outputs": [],
      "source": [
        "df = df.sort_values(by='counts',ascending=False)\n",
        "df.head()"
      ]
    },
    {
      "cell_type": "markdown",
      "metadata": {
        "id": "WlTkVsJcjAZx"
      },
      "source": [
        "We now have a DataFrame with certain word tags sorted by decreasing frequency. Let's plot this in a bar graph; we will use df[1:50] to select the most common 50 words."
      ]
    },
    {
      "cell_type": "code",
      "execution_count": null,
      "metadata": {
        "id": "rfDuFypGjAZx"
      },
      "outputs": [],
      "source": [
        "import matplotlib.pyplot as plt"
      ]
    },
    {
      "cell_type": "code",
      "execution_count": null,
      "metadata": {
        "id": "Uy8neOGijAZ0"
      },
      "outputs": [],
      "source": [
        "plt.style.use('ggplot')\n",
        "df[1:50].plot(kind='bar', x='items', y='counts', legend=False)\n",
        "plt.xlabel('Word')\n",
        "plt.ylabel('Word Count')\n",
        "plt.title('Word counts for H.P. Lovecraft\\'s \\\"The Nameless City\\\"')\n",
        "plt.axhline(df['counts'].mean(), color='#2222ff')"
      ]
    },
    {
      "cell_type": "markdown",
      "metadata": {
        "id": "CN8gxS-PjAZ2"
      },
      "source": [
        "## Exercise\n",
        "What is the percentage of words that appear exactly once in the entire text? (Hint : FreqDist objects have a method called 'hapaxes')"
      ]
    },
    {
      "cell_type": "markdown",
      "metadata": {
        "id": "1wg_R8JHjAZ3"
      },
      "source": [
        "## Exercise\n",
        "The words of our ex Prime Minister, David Cameron:\n",
        "\n",
        "    1. Select one of Cameron's speeches.\n",
        "    2. Sentence and word tokenize it.\n",
        "    3. POS tag it.\n",
        "    4. Create noun and adjective histograms of the 20 most frequent words.\n",
        "    (notice that there are several POS for each.)\n",
        "    5. Create dispersion plots for these nouns and adjectives. \n",
        "    6. What is the percentage of words that are adjectives in the speech?"
      ]
    },
    {
      "cell_type": "code",
      "execution_count": null,
      "metadata": {
        "id": "g-FByBrrjAZ3"
      },
      "outputs": [],
      "source": [
        "# read a raw text from a remote location. \n",
        "speech = requests.get('https://s3.eu-west-2.amazonaws.com/qm2/wk7/speeches/cameron-leaders-speech-2006a.txt').text"
      ]
    },
    {
      "cell_type": "markdown",
      "metadata": {
        "id": "K9zFG5MUjAZ6"
      },
      "source": [
        "### Speeches\n",
        "\n",
        "https://s3.eu-west-2.amazonaws.com/qm2/wk7/speeches/cameron-election-victory-speech-2010.txt  \n",
        "https://s3.eu-west-2.amazonaws.com/qm2/wk7/speeches/cameron-leaders-speech-2006a.txt  \n",
        "https://s3.eu-west-2.amazonaws.com/qm2/wk7/speeches/cameron-leaders-speech-2006b.txt  \n",
        "https://s3.eu-west-2.amazonaws.com/qm2/wk7/speeches/cameron-leaders-speech-2007.txt  \n",
        "https://s3.eu-west-2.amazonaws.com/qm2/wk7/speeches/cameron-leaders-speech-2008.txt  \n",
        "https://s3.eu-west-2.amazonaws.com/qm2/wk7/speeches/cameron-leaders-speech-2013.txt  \n",
        "https://s3.eu-west-2.amazonaws.com/qm2/wk7/speeches/cameron-leaders-speech-2012.txt  \n",
        "https://s3.eu-west-2.amazonaws.com/qm2/wk7/speeches/cameron-leaders-speech-2011.txt  \n",
        "https://s3.eu-west-2.amazonaws.com/qm2/wk7/speeches/cameron-leaders-speech-2010.txt  \n",
        "https://s3.eu-west-2.amazonaws.com/qm2/wk7/speeches/cameron-leaders-speech-2009.txt  "
      ]
    },
    {
      "cell_type": "code",
      "execution_count": null,
      "metadata": {
        "id": "G-YtZHxSjAZ6"
      },
      "outputs": [],
      "source": [
        "speech"
      ]
    }
  ],
  "metadata": {
    "colab": {
      "collapsed_sections": [
        "9C_kwLPljAY0",
        "J4P2wbX2jAZL",
        "CN8gxS-PjAZ2"
      ],
      "name": "W7. Natural Language Processing - Student Version.ipynb",
      "provenance": []
    },
    "kernelspec": {
      "display_name": "Python 3.9.5 64-bit ('3.9.5')",
      "language": "python",
      "name": "python3"
    },
    "language_info": {
      "codemirror_mode": {
        "name": "ipython",
        "version": 3
      },
      "file_extension": ".py",
      "mimetype": "text/x-python",
      "name": "python",
      "nbconvert_exporter": "python",
      "pygments_lexer": "ipython3",
      "version": "3.9.5"
    },
    "vscode": {
      "interpreter": {
        "hash": "d34fbd810dd9652f8e464616181cf14dbb258b5c046bed5c2f54c6b5e518fed2"
      }
    }
  },
  "nbformat": 4,
  "nbformat_minor": 0
}