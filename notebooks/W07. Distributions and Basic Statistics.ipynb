{
  "cells": [
    {
      "cell_type": "markdown",
      "metadata": {
        "id": "Lads9rv6exJ-"
      },
      "source": [
        "# Distributions and Basic Statistics\n",
        "\n",
        "## *Workshop 7*  [![Open In Colab](https://github.com/oballinger/QM2/blob/main/colab-badge.png?raw=1)](https://colab.research.google.com/github/oballinger/QM2/blob/main/notebooks/W07.%20Distributions%20and%20Basic%20Statistics.ipynb)\n",
        "\n",
        "For the rest of this course, we'll be working with data from the U.S. Census [Current Population Survey (CPS)](https://www.census.gov/programs-surveys/cps.html). \n",
        "\n",
        "### Aims:\n",
        "\n",
        "- Choosing appropriate summary statistics for varying distributions\n",
        "\n",
        "- Understanding:\n",
        "    - The nature of our dataset, including potential bias\n",
        "    - How to generate summary statistics for our dataset\n",
        "    - The distribution of different variables\n",
        "    - The intuition behind the Central Limit Theorem\n",
        "\n",
        "## Getting Started\n",
        "\n",
        "### First Things First: Bias\n",
        "Once we've acquired a dataset, the first step is *always* to develop an understanding of where the data has come from. For this dataset, use the following [documentation page](https://www.census.gov/programs-surveys/cps/technical-documentation/methodology.html) to answer the questions below: \n",
        "\n",
        "1) What is the population of interest?\n",
        "2) What was the sampling strategy?\n",
        "3) What are potential sources of selection bias?"
      ]
    },
    {
      "cell_type": "markdown",
      "metadata": {
        "id": "5KugRUBXRUqf"
      },
      "source": [
        "I'll start by importing the libraries I need: matplotlib (for graphs), pandas (for data), numpy (for maths) and random (for generating random numbers):"
      ]
    },
    {
      "cell_type": "code",
      "execution_count": 2,
      "metadata": {
        "id": "5ERdQ-QjexKB"
      },
      "outputs": [],
      "source": [
        "#This is a comment - python does not try to execute it\n",
        "\n",
        "#This tells python to draw the graphs \"inline\" - in the notebook\n",
        "%matplotlib inline  \n",
        "import matplotlib.pyplot as plt\n",
        "from scipy.stats import norm\n",
        "import statistics\n",
        "\n",
        "import pylab\n",
        "import pandas as pd\n",
        "import numpy as np\n",
        "# make the plots (graphs) a little wider by default\n",
        "pylab.rcParams['figure.figsize'] = (10., 8.)\n"
      ]
    },
    {
      "cell_type": "code",
      "source": [
        "!mkdir data\n",
        "!mkdir data/wk7\n",
        "!curl https://storage.googleapis.com/qm2/wk7/cps.csv -o data/wk7/cps.csv"
      ],
      "metadata": {
        "id": "0EJnrTdlhcfc",
        "outputId": "d585f549-6d26-4927-8a95-881a66072bdf",
        "colab": {
          "base_uri": "https://localhost:8080/"
        }
      },
      "execution_count": 6,
      "outputs": [
        {
          "output_type": "stream",
          "name": "stdout",
          "text": [
            "  % Total    % Received % Xferd  Average Speed   Time    Time     Time  Current\n",
            "                                 Dload  Upload   Total   Spent    Left  Speed\n",
            "100 22.4M  100 22.4M    0     0   108M      0 --:--:-- --:--:-- --:--:--  107M\n"
          ]
        }
      ]
    },
    {
      "cell_type": "markdown",
      "metadata": {
        "id": "WF91-0u5exKF"
      },
      "source": [
        "## \n",
        "\n",
        "The first thing to notice is that I'm using an **alias** for matplotlib.pyplot -  it's a bit ungainly, so I'm using \"plt\" in its place. That's just to make the coding easier. I'll do the same for some of the other libraries as we go through - this isn't necessary, but online examples frequently use \"pd\" for \"pandas\" (for example), so it can be useful to use these. The way it works is pretty simple - now I've used \"plt\" as my alias for matplotlib.pyplot, I can just say \"plt.*command()*\" whenever I need to use functions from that library.\n",
        "\n",
        "Now that I've imported the libraries I'm going to be using, I'm ready to import the data: "
      ]
    },
    {
      "cell_type": "code",
      "execution_count": 7,
      "metadata": {
        "id": "muDRf4bjexKG",
        "outputId": "eaa86222-5f24-416a-c119-45cf3782f65a",
        "colab": {
          "base_uri": "https://localhost:8080/",
          "height": 206
        }
      },
      "outputs": [
        {
          "output_type": "execute_result",
          "data": {
            "text/plain": [
              "   year  state  age  sex  race   sch   ind  union  incwage  realhrwage  \\\n",
              "0  1990     36   58    1     3  12.0   871    0.0  14200.0   12.269874   \n",
              "1  2009      5   28    1     1  12.0  8660    1.0  17680.0    8.635149   \n",
              "2  1990     36   37    1     1  14.0   380    1.0  28000.0   21.169851   \n",
              "3  1990      6   34    1     1  18.0   740    1.0  27500.0   20.447746   \n",
              "4  1981     51   38    1     4  13.0   798    NaN  17000.0   18.892282   \n",
              "\n",
              "                      occupation  \n",
              "0       Office and Admin Support  \n",
              "1       Office and Admin Support  \n",
              "2                              .  \n",
              "3  Computer and Math Technicians  \n",
              "4                       Managers  "
            ],
            "text/html": [
              "\n",
              "  <div id=\"df-9d9de202-a5d1-4ff3-a4c6-a5b80684eb95\">\n",
              "    <div class=\"colab-df-container\">\n",
              "      <div>\n",
              "<style scoped>\n",
              "    .dataframe tbody tr th:only-of-type {\n",
              "        vertical-align: middle;\n",
              "    }\n",
              "\n",
              "    .dataframe tbody tr th {\n",
              "        vertical-align: top;\n",
              "    }\n",
              "\n",
              "    .dataframe thead th {\n",
              "        text-align: right;\n",
              "    }\n",
              "</style>\n",
              "<table border=\"1\" class=\"dataframe\">\n",
              "  <thead>\n",
              "    <tr style=\"text-align: right;\">\n",
              "      <th></th>\n",
              "      <th>year</th>\n",
              "      <th>state</th>\n",
              "      <th>age</th>\n",
              "      <th>sex</th>\n",
              "      <th>race</th>\n",
              "      <th>sch</th>\n",
              "      <th>ind</th>\n",
              "      <th>union</th>\n",
              "      <th>incwage</th>\n",
              "      <th>realhrwage</th>\n",
              "      <th>occupation</th>\n",
              "    </tr>\n",
              "  </thead>\n",
              "  <tbody>\n",
              "    <tr>\n",
              "      <th>0</th>\n",
              "      <td>1990</td>\n",
              "      <td>36</td>\n",
              "      <td>58</td>\n",
              "      <td>1</td>\n",
              "      <td>3</td>\n",
              "      <td>12.0</td>\n",
              "      <td>871</td>\n",
              "      <td>0.0</td>\n",
              "      <td>14200.0</td>\n",
              "      <td>12.269874</td>\n",
              "      <td>Office and Admin Support</td>\n",
              "    </tr>\n",
              "    <tr>\n",
              "      <th>1</th>\n",
              "      <td>2009</td>\n",
              "      <td>5</td>\n",
              "      <td>28</td>\n",
              "      <td>1</td>\n",
              "      <td>1</td>\n",
              "      <td>12.0</td>\n",
              "      <td>8660</td>\n",
              "      <td>1.0</td>\n",
              "      <td>17680.0</td>\n",
              "      <td>8.635149</td>\n",
              "      <td>Office and Admin Support</td>\n",
              "    </tr>\n",
              "    <tr>\n",
              "      <th>2</th>\n",
              "      <td>1990</td>\n",
              "      <td>36</td>\n",
              "      <td>37</td>\n",
              "      <td>1</td>\n",
              "      <td>1</td>\n",
              "      <td>14.0</td>\n",
              "      <td>380</td>\n",
              "      <td>1.0</td>\n",
              "      <td>28000.0</td>\n",
              "      <td>21.169851</td>\n",
              "      <td>.</td>\n",
              "    </tr>\n",
              "    <tr>\n",
              "      <th>3</th>\n",
              "      <td>1990</td>\n",
              "      <td>6</td>\n",
              "      <td>34</td>\n",
              "      <td>1</td>\n",
              "      <td>1</td>\n",
              "      <td>18.0</td>\n",
              "      <td>740</td>\n",
              "      <td>1.0</td>\n",
              "      <td>27500.0</td>\n",
              "      <td>20.447746</td>\n",
              "      <td>Computer and Math Technicians</td>\n",
              "    </tr>\n",
              "    <tr>\n",
              "      <th>4</th>\n",
              "      <td>1981</td>\n",
              "      <td>51</td>\n",
              "      <td>38</td>\n",
              "      <td>1</td>\n",
              "      <td>4</td>\n",
              "      <td>13.0</td>\n",
              "      <td>798</td>\n",
              "      <td>NaN</td>\n",
              "      <td>17000.0</td>\n",
              "      <td>18.892282</td>\n",
              "      <td>Managers</td>\n",
              "    </tr>\n",
              "  </tbody>\n",
              "</table>\n",
              "</div>\n",
              "      <button class=\"colab-df-convert\" onclick=\"convertToInteractive('df-9d9de202-a5d1-4ff3-a4c6-a5b80684eb95')\"\n",
              "              title=\"Convert this dataframe to an interactive table.\"\n",
              "              style=\"display:none;\">\n",
              "        \n",
              "  <svg xmlns=\"http://www.w3.org/2000/svg\" height=\"24px\"viewBox=\"0 0 24 24\"\n",
              "       width=\"24px\">\n",
              "    <path d=\"M0 0h24v24H0V0z\" fill=\"none\"/>\n",
              "    <path d=\"M18.56 5.44l.94 2.06.94-2.06 2.06-.94-2.06-.94-.94-2.06-.94 2.06-2.06.94zm-11 1L8.5 8.5l.94-2.06 2.06-.94-2.06-.94L8.5 2.5l-.94 2.06-2.06.94zm10 10l.94 2.06.94-2.06 2.06-.94-2.06-.94-.94-2.06-.94 2.06-2.06.94z\"/><path d=\"M17.41 7.96l-1.37-1.37c-.4-.4-.92-.59-1.43-.59-.52 0-1.04.2-1.43.59L10.3 9.45l-7.72 7.72c-.78.78-.78 2.05 0 2.83L4 21.41c.39.39.9.59 1.41.59.51 0 1.02-.2 1.41-.59l7.78-7.78 2.81-2.81c.8-.78.8-2.07 0-2.86zM5.41 20L4 18.59l7.72-7.72 1.47 1.35L5.41 20z\"/>\n",
              "  </svg>\n",
              "      </button>\n",
              "      \n",
              "  <style>\n",
              "    .colab-df-container {\n",
              "      display:flex;\n",
              "      flex-wrap:wrap;\n",
              "      gap: 12px;\n",
              "    }\n",
              "\n",
              "    .colab-df-convert {\n",
              "      background-color: #E8F0FE;\n",
              "      border: none;\n",
              "      border-radius: 50%;\n",
              "      cursor: pointer;\n",
              "      display: none;\n",
              "      fill: #1967D2;\n",
              "      height: 32px;\n",
              "      padding: 0 0 0 0;\n",
              "      width: 32px;\n",
              "    }\n",
              "\n",
              "    .colab-df-convert:hover {\n",
              "      background-color: #E2EBFA;\n",
              "      box-shadow: 0px 1px 2px rgba(60, 64, 67, 0.3), 0px 1px 3px 1px rgba(60, 64, 67, 0.15);\n",
              "      fill: #174EA6;\n",
              "    }\n",
              "\n",
              "    [theme=dark] .colab-df-convert {\n",
              "      background-color: #3B4455;\n",
              "      fill: #D2E3FC;\n",
              "    }\n",
              "\n",
              "    [theme=dark] .colab-df-convert:hover {\n",
              "      background-color: #434B5C;\n",
              "      box-shadow: 0px 1px 3px 1px rgba(0, 0, 0, 0.15);\n",
              "      filter: drop-shadow(0px 1px 2px rgba(0, 0, 0, 0.3));\n",
              "      fill: #FFFFFF;\n",
              "    }\n",
              "  </style>\n",
              "\n",
              "      <script>\n",
              "        const buttonEl =\n",
              "          document.querySelector('#df-9d9de202-a5d1-4ff3-a4c6-a5b80684eb95 button.colab-df-convert');\n",
              "        buttonEl.style.display =\n",
              "          google.colab.kernel.accessAllowed ? 'block' : 'none';\n",
              "\n",
              "        async function convertToInteractive(key) {\n",
              "          const element = document.querySelector('#df-9d9de202-a5d1-4ff3-a4c6-a5b80684eb95');\n",
              "          const dataTable =\n",
              "            await google.colab.kernel.invokeFunction('convertToInteractive',\n",
              "                                                     [key], {});\n",
              "          if (!dataTable) return;\n",
              "\n",
              "          const docLinkHtml = 'Like what you see? Visit the ' +\n",
              "            '<a target=\"_blank\" href=https://colab.research.google.com/notebooks/data_table.ipynb>data table notebook</a>'\n",
              "            + ' to learn more about interactive tables.';\n",
              "          element.innerHTML = '';\n",
              "          dataTable['output_type'] = 'display_data';\n",
              "          await google.colab.output.renderOutput(dataTable, element);\n",
              "          const docLink = document.createElement('div');\n",
              "          docLink.innerHTML = docLinkHtml;\n",
              "          element.appendChild(docLink);\n",
              "        }\n",
              "      </script>\n",
              "    </div>\n",
              "  </div>\n",
              "  "
            ]
          },
          "metadata": {},
          "execution_count": 7
        }
      ],
      "source": [
        "df=pd.read_csv('./data/wk7/cps.csv')\n",
        "df.head()"
      ]
    },
    {
      "cell_type": "markdown",
      "metadata": {
        "id": "E9YTGTBCRUqh"
      },
      "source": [
        "Our dataframe has 10 columns:\n",
        "\n",
        "1. *year*: Survey year\n",
        "2. *age*: the person's age\n",
        "3. *sex*: the person's sex \n",
        "    * 1=male\n",
        "    * 2=female\n",
        "4. *race*: the person's race \n",
        "    * White non hispanic=1\n",
        "    * Black non hispanic=2\n",
        "    * Hispanic=3\n",
        "    * Other non hispanic=4)\n",
        "5. *sch*: Educational attainment\n",
        "    * None = 0, \n",
        "    * Grades 1-12 = 1-12\n",
        "    * Some University = 13, \n",
        "    * Associate's degree = 14, \n",
        "    * BA = 16\n",
        "    * Advanced Degree = 18\n",
        "6. *union*: Union membership \n",
        "    * N/A = 0, \n",
        "    * No union coverage = 1, \n",
        "    * Member of labor union=2, \n",
        "    * Covered by union but not a member=3\n",
        "7. *incwage*: Wage and salary income\n",
        "8. *realhrwage*: Real Hourly Wage\n",
        "9. *occupation*: Occupation\n",
        "10. *ind*: [industry code](https://www.census.gov/naics/?58967?yearbck=2002)"
      ]
    },
    {
      "cell_type": "markdown",
      "metadata": {
        "id": "lSxULT0FexKJ"
      },
      "source": [
        "Based on the data \n",
        "\n",
        "## Summary Statistics\n",
        "\n",
        "After thinking about the origins of our dataset and loading it into python, the next step is to generate summary statistics. This is vital for us to better understand our data. Pandas has a useful function, `describe`, which will generate summary statistics for all numerical variables in our entire dataframe:"
      ]
    },
    {
      "cell_type": "code",
      "execution_count": 8,
      "metadata": {
        "id": "UF4J5mobexKK",
        "outputId": "dbaccbc3-e7fc-462f-eda6-5c78029bb630",
        "colab": {
          "base_uri": "https://localhost:8080/",
          "height": 300
        }
      },
      "outputs": [
        {
          "output_type": "execute_result",
          "data": {
            "text/plain": [
              "                year          state            age            sex  \\\n",
              "count  344287.000000  344287.000000  344287.000000  344287.000000   \n",
              "mean     2002.599122      28.121004      41.734364       1.489057   \n",
              "std        10.831555      15.818556      10.415874       0.499881   \n",
              "min      1981.000000       1.000000      25.000000       1.000000   \n",
              "25%      1990.000000      13.000000      33.000000       1.000000   \n",
              "50%      2007.000000      28.000000      41.000000       1.000000   \n",
              "75%      2011.000000      41.000000      50.000000       2.000000   \n",
              "max      2013.000000      56.000000      64.000000       2.000000   \n",
              "\n",
              "                race            sch            ind          union  \\\n",
              "count  344287.000000  344287.000000  344287.000000  301908.000000   \n",
              "mean        1.570077      13.498057    4235.846009       0.221505   \n",
              "std         0.952252       2.799038    3468.163157       0.499690   \n",
              "min         1.000000       0.000000      10.000000       0.000000   \n",
              "25%         1.000000      12.000000     760.000000       0.000000   \n",
              "50%         1.000000      13.000000    4270.000000       0.000000   \n",
              "75%         2.000000      16.000000    7860.000000       0.000000   \n",
              "max         4.000000      18.000000    9590.000000       3.000000   \n",
              "\n",
              "            incwage     realhrwage  \n",
              "count  3.442870e+05  344287.000000  \n",
              "mean   3.976170e+04      22.886629  \n",
              "std    4.529758e+04     506.489695  \n",
              "min    1.500000e+01       2.000000  \n",
              "25%    1.670000e+04      11.723004  \n",
              "50%    3.000000e+04      17.698591  \n",
              "75%    5.000000e+04      26.442308  \n",
              "max    1.259999e+06  294610.968750  "
            ],
            "text/html": [
              "\n",
              "  <div id=\"df-b6d97ac9-2985-4d57-a766-08d3062ff8c5\">\n",
              "    <div class=\"colab-df-container\">\n",
              "      <div>\n",
              "<style scoped>\n",
              "    .dataframe tbody tr th:only-of-type {\n",
              "        vertical-align: middle;\n",
              "    }\n",
              "\n",
              "    .dataframe tbody tr th {\n",
              "        vertical-align: top;\n",
              "    }\n",
              "\n",
              "    .dataframe thead th {\n",
              "        text-align: right;\n",
              "    }\n",
              "</style>\n",
              "<table border=\"1\" class=\"dataframe\">\n",
              "  <thead>\n",
              "    <tr style=\"text-align: right;\">\n",
              "      <th></th>\n",
              "      <th>year</th>\n",
              "      <th>state</th>\n",
              "      <th>age</th>\n",
              "      <th>sex</th>\n",
              "      <th>race</th>\n",
              "      <th>sch</th>\n",
              "      <th>ind</th>\n",
              "      <th>union</th>\n",
              "      <th>incwage</th>\n",
              "      <th>realhrwage</th>\n",
              "    </tr>\n",
              "  </thead>\n",
              "  <tbody>\n",
              "    <tr>\n",
              "      <th>count</th>\n",
              "      <td>344287.000000</td>\n",
              "      <td>344287.000000</td>\n",
              "      <td>344287.000000</td>\n",
              "      <td>344287.000000</td>\n",
              "      <td>344287.000000</td>\n",
              "      <td>344287.000000</td>\n",
              "      <td>344287.000000</td>\n",
              "      <td>301908.000000</td>\n",
              "      <td>3.442870e+05</td>\n",
              "      <td>344287.000000</td>\n",
              "    </tr>\n",
              "    <tr>\n",
              "      <th>mean</th>\n",
              "      <td>2002.599122</td>\n",
              "      <td>28.121004</td>\n",
              "      <td>41.734364</td>\n",
              "      <td>1.489057</td>\n",
              "      <td>1.570077</td>\n",
              "      <td>13.498057</td>\n",
              "      <td>4235.846009</td>\n",
              "      <td>0.221505</td>\n",
              "      <td>3.976170e+04</td>\n",
              "      <td>22.886629</td>\n",
              "    </tr>\n",
              "    <tr>\n",
              "      <th>std</th>\n",
              "      <td>10.831555</td>\n",
              "      <td>15.818556</td>\n",
              "      <td>10.415874</td>\n",
              "      <td>0.499881</td>\n",
              "      <td>0.952252</td>\n",
              "      <td>2.799038</td>\n",
              "      <td>3468.163157</td>\n",
              "      <td>0.499690</td>\n",
              "      <td>4.529758e+04</td>\n",
              "      <td>506.489695</td>\n",
              "    </tr>\n",
              "    <tr>\n",
              "      <th>min</th>\n",
              "      <td>1981.000000</td>\n",
              "      <td>1.000000</td>\n",
              "      <td>25.000000</td>\n",
              "      <td>1.000000</td>\n",
              "      <td>1.000000</td>\n",
              "      <td>0.000000</td>\n",
              "      <td>10.000000</td>\n",
              "      <td>0.000000</td>\n",
              "      <td>1.500000e+01</td>\n",
              "      <td>2.000000</td>\n",
              "    </tr>\n",
              "    <tr>\n",
              "      <th>25%</th>\n",
              "      <td>1990.000000</td>\n",
              "      <td>13.000000</td>\n",
              "      <td>33.000000</td>\n",
              "      <td>1.000000</td>\n",
              "      <td>1.000000</td>\n",
              "      <td>12.000000</td>\n",
              "      <td>760.000000</td>\n",
              "      <td>0.000000</td>\n",
              "      <td>1.670000e+04</td>\n",
              "      <td>11.723004</td>\n",
              "    </tr>\n",
              "    <tr>\n",
              "      <th>50%</th>\n",
              "      <td>2007.000000</td>\n",
              "      <td>28.000000</td>\n",
              "      <td>41.000000</td>\n",
              "      <td>1.000000</td>\n",
              "      <td>1.000000</td>\n",
              "      <td>13.000000</td>\n",
              "      <td>4270.000000</td>\n",
              "      <td>0.000000</td>\n",
              "      <td>3.000000e+04</td>\n",
              "      <td>17.698591</td>\n",
              "    </tr>\n",
              "    <tr>\n",
              "      <th>75%</th>\n",
              "      <td>2011.000000</td>\n",
              "      <td>41.000000</td>\n",
              "      <td>50.000000</td>\n",
              "      <td>2.000000</td>\n",
              "      <td>2.000000</td>\n",
              "      <td>16.000000</td>\n",
              "      <td>7860.000000</td>\n",
              "      <td>0.000000</td>\n",
              "      <td>5.000000e+04</td>\n",
              "      <td>26.442308</td>\n",
              "    </tr>\n",
              "    <tr>\n",
              "      <th>max</th>\n",
              "      <td>2013.000000</td>\n",
              "      <td>56.000000</td>\n",
              "      <td>64.000000</td>\n",
              "      <td>2.000000</td>\n",
              "      <td>4.000000</td>\n",
              "      <td>18.000000</td>\n",
              "      <td>9590.000000</td>\n",
              "      <td>3.000000</td>\n",
              "      <td>1.259999e+06</td>\n",
              "      <td>294610.968750</td>\n",
              "    </tr>\n",
              "  </tbody>\n",
              "</table>\n",
              "</div>\n",
              "      <button class=\"colab-df-convert\" onclick=\"convertToInteractive('df-b6d97ac9-2985-4d57-a766-08d3062ff8c5')\"\n",
              "              title=\"Convert this dataframe to an interactive table.\"\n",
              "              style=\"display:none;\">\n",
              "        \n",
              "  <svg xmlns=\"http://www.w3.org/2000/svg\" height=\"24px\"viewBox=\"0 0 24 24\"\n",
              "       width=\"24px\">\n",
              "    <path d=\"M0 0h24v24H0V0z\" fill=\"none\"/>\n",
              "    <path d=\"M18.56 5.44l.94 2.06.94-2.06 2.06-.94-2.06-.94-.94-2.06-.94 2.06-2.06.94zm-11 1L8.5 8.5l.94-2.06 2.06-.94-2.06-.94L8.5 2.5l-.94 2.06-2.06.94zm10 10l.94 2.06.94-2.06 2.06-.94-2.06-.94-.94-2.06-.94 2.06-2.06.94z\"/><path d=\"M17.41 7.96l-1.37-1.37c-.4-.4-.92-.59-1.43-.59-.52 0-1.04.2-1.43.59L10.3 9.45l-7.72 7.72c-.78.78-.78 2.05 0 2.83L4 21.41c.39.39.9.59 1.41.59.51 0 1.02-.2 1.41-.59l7.78-7.78 2.81-2.81c.8-.78.8-2.07 0-2.86zM5.41 20L4 18.59l7.72-7.72 1.47 1.35L5.41 20z\"/>\n",
              "  </svg>\n",
              "      </button>\n",
              "      \n",
              "  <style>\n",
              "    .colab-df-container {\n",
              "      display:flex;\n",
              "      flex-wrap:wrap;\n",
              "      gap: 12px;\n",
              "    }\n",
              "\n",
              "    .colab-df-convert {\n",
              "      background-color: #E8F0FE;\n",
              "      border: none;\n",
              "      border-radius: 50%;\n",
              "      cursor: pointer;\n",
              "      display: none;\n",
              "      fill: #1967D2;\n",
              "      height: 32px;\n",
              "      padding: 0 0 0 0;\n",
              "      width: 32px;\n",
              "    }\n",
              "\n",
              "    .colab-df-convert:hover {\n",
              "      background-color: #E2EBFA;\n",
              "      box-shadow: 0px 1px 2px rgba(60, 64, 67, 0.3), 0px 1px 3px 1px rgba(60, 64, 67, 0.15);\n",
              "      fill: #174EA6;\n",
              "    }\n",
              "\n",
              "    [theme=dark] .colab-df-convert {\n",
              "      background-color: #3B4455;\n",
              "      fill: #D2E3FC;\n",
              "    }\n",
              "\n",
              "    [theme=dark] .colab-df-convert:hover {\n",
              "      background-color: #434B5C;\n",
              "      box-shadow: 0px 1px 3px 1px rgba(0, 0, 0, 0.15);\n",
              "      filter: drop-shadow(0px 1px 2px rgba(0, 0, 0, 0.3));\n",
              "      fill: #FFFFFF;\n",
              "    }\n",
              "  </style>\n",
              "\n",
              "      <script>\n",
              "        const buttonEl =\n",
              "          document.querySelector('#df-b6d97ac9-2985-4d57-a766-08d3062ff8c5 button.colab-df-convert');\n",
              "        buttonEl.style.display =\n",
              "          google.colab.kernel.accessAllowed ? 'block' : 'none';\n",
              "\n",
              "        async function convertToInteractive(key) {\n",
              "          const element = document.querySelector('#df-b6d97ac9-2985-4d57-a766-08d3062ff8c5');\n",
              "          const dataTable =\n",
              "            await google.colab.kernel.invokeFunction('convertToInteractive',\n",
              "                                                     [key], {});\n",
              "          if (!dataTable) return;\n",
              "\n",
              "          const docLinkHtml = 'Like what you see? Visit the ' +\n",
              "            '<a target=\"_blank\" href=https://colab.research.google.com/notebooks/data_table.ipynb>data table notebook</a>'\n",
              "            + ' to learn more about interactive tables.';\n",
              "          element.innerHTML = '';\n",
              "          dataTable['output_type'] = 'display_data';\n",
              "          await google.colab.output.renderOutput(dataTable, element);\n",
              "          const docLink = document.createElement('div');\n",
              "          docLink.innerHTML = docLinkHtml;\n",
              "          element.appendChild(docLink);\n",
              "        }\n",
              "      </script>\n",
              "    </div>\n",
              "  </div>\n",
              "  "
            ]
          },
          "metadata": {},
          "execution_count": 8
        }
      ],
      "source": [
        "df.describe()"
      ]
    },
    {
      "cell_type": "markdown",
      "source": [
        "`describe` returns a dataframe with the same columns as the source dataframe. For numeric data, the result’s index will include count, mean, std, min, max as well as lower, 50 and upper percentiles. By default the lower percentile is 25 and the upper percentile is 75. The 50 percentile is the same as the median. \"incwage\" is the annual income variable. Because values are generally in the tens of thousands, Python displays this using scientific notation (e.g. 3.442870e+05). This is pretty ugly, so let's create a new variable called \"income\" which divides that number by 1000 to make it more manageable:"
      ],
      "metadata": {
        "id": "7LmZkRUWooyy"
      }
    },
    {
      "cell_type": "code",
      "source": [
        "df['income']=df['incwage']/1000\n",
        "print(df['income'])"
      ],
      "metadata": {
        "id": "emY_Ymgoojuc",
        "outputId": "9916c0fc-2ef4-4a91-a59d-e47f02969b64",
        "colab": {
          "base_uri": "https://localhost:8080/"
        }
      },
      "execution_count": 24,
      "outputs": [
        {
          "output_type": "stream",
          "name": "stdout",
          "text": [
            "20        57.0\n",
            "32        62.0\n",
            "34        45.0\n",
            "36        28.0\n",
            "37        42.5\n",
            "          ... \n",
            "344269    23.0\n",
            "344271    25.0\n",
            "344278    45.0\n",
            "344281    23.0\n",
            "344286    15.0\n",
            "Name: income, Length: 53790, dtype: float64\n"
          ]
        }
      ]
    },
    {
      "cell_type": "markdown",
      "metadata": {
        "id": "4eNWg12yexKN"
      },
      "source": [
        "\n",
        "### Exercise\n",
        "Given these summary statistics, answer the following questions: \n",
        "\n",
        "1. what is the median hourly wage?\n",
        "2. what is the average age?\n",
        "3. are there more men or women?\n",
        "4. intepret the mean of the \"race\" column. \n"
      ]
    },
    {
      "cell_type": "markdown",
      "source": [
        "The answer to the last question should provoke some futher thought; the race column is categorical, but because it contains numbers it's being treated as numerical. The mean of a categorical variable is meaningless; For object data (e.g. categories, strings or timestamps), the result’s index will include count, unique, top, and freq. The top is the most common value. The freq is the most common value’s frequency. Timestamps also include the first and last items.\n",
        "\n",
        "Let's convert the race column from a numerical variable into a categorical one, and try `describe` once again:"
      ],
      "metadata": {
        "id": "QpmXB-BPoTT0"
      }
    },
    {
      "cell_type": "code",
      "execution_count": 9,
      "metadata": {
        "id": "bPz8p27bRUqj",
        "outputId": "7fa93b7f-5807-435f-c0be-e23ba21364f9",
        "colab": {
          "base_uri": "https://localhost:8080/"
        }
      },
      "outputs": [
        {
          "output_type": "execute_result",
          "data": {
            "text/plain": [
              "year            int64\n",
              "state           int64\n",
              "age             int64\n",
              "sex             int64\n",
              "race            int64\n",
              "sch           float64\n",
              "ind             int64\n",
              "union         float64\n",
              "incwage       float64\n",
              "realhrwage    float64\n",
              "occupation     object\n",
              "dtype: object"
            ]
          },
          "metadata": {},
          "execution_count": 9
        }
      ],
      "source": [
        "df.dtypes"
      ]
    },
    {
      "cell_type": "code",
      "execution_count": 10,
      "metadata": {
        "id": "FQor5bCEexKO",
        "outputId": "9643b377-f49d-4376-a008-06a9432db860",
        "colab": {
          "base_uri": "https://localhost:8080/"
        }
      },
      "outputs": [
        {
          "output_type": "execute_result",
          "data": {
            "text/plain": [
              "count     344287\n",
              "unique         4\n",
              "top            1\n",
              "freq      240382\n",
              "Name: race, dtype: int64"
            ]
          },
          "metadata": {},
          "execution_count": 10
        }
      ],
      "source": [
        "df['race']=df['race'].astype('category')\n",
        "df['race'].describe()"
      ]
    },
    {
      "cell_type": "markdown",
      "metadata": {
        "id": "XL164t9CRUqj"
      },
      "source": [
        "what other variables are categorical? Convert them to categorical and describe. What is the most common occupation in this dataset?"
      ]
    },
    {
      "cell_type": "code",
      "execution_count": null,
      "metadata": {
        "id": "PYdTjEvARUqj"
      },
      "outputs": [],
      "source": [
        "# convert the variables to categorical and describe"
      ]
    },
    {
      "cell_type": "markdown",
      "metadata": {
        "id": "-sOhUmEgRUqj"
      },
      "source": [
        "These statistics are useful, but suppose we want detailed counts of the number of individuals in each category; For this, we can use the `groupby` function, with the `.size()` operator which simply counts the number of rows in each category. "
      ]
    },
    {
      "cell_type": "code",
      "execution_count": 11,
      "metadata": {
        "id": "VHmlNoBpRUqj",
        "outputId": "9f1abc21-9bf0-47d7-894f-fcacb8765828",
        "colab": {
          "base_uri": "https://localhost:8080/"
        }
      },
      "outputs": [
        {
          "output_type": "execute_result",
          "data": {
            "text/plain": [
              "occupation\n",
              ".                                         132708\n",
              "Office and Admin Support                   50635\n",
              "Managers                                   35696\n",
              "Consruction, Extraction, Installation      30579\n",
              "Production                                 29732\n",
              "Transportation and materials moving        21277\n",
              "Computer and Math Technicians               8602\n",
              "Protective Service adj_occupations          7809\n",
              "financial Operators                         7702\n",
              "Business Operators                          7327\n",
              "Community and Social Workers                6025\n",
              "Lawyers, Judges,Physicans and dentists      3835\n",
              "Farming, Fishing & Forestry                 2360\n",
              "dtype: int64"
            ]
          },
          "metadata": {},
          "execution_count": 11
        }
      ],
      "source": [
        "occupations= df.groupby('occupation').size()\n",
        "occupations.sort_values(ascending=False)"
      ]
    },
    {
      "cell_type": "markdown",
      "metadata": {
        "id": "S8QRHfdpexKT"
      },
      "source": [
        "What is the most common profession? \n",
        "\n",
        "\n",
        "# Distributions\n",
        "\n",
        "Now that we've cleaned our data up, let's have a closer look at the *distribution* of our data. The best way to do this is using a histogram. Let's start by looking at the distribution of the `income` variable:"
      ]
    },
    {
      "cell_type": "code",
      "execution_count": 25,
      "metadata": {
        "id": "BcAJvO09RUqk",
        "outputId": "a8c0171e-bfc2-49cf-ad50-019a302f8ff9",
        "colab": {
          "base_uri": "https://localhost:8080/",
          "height": 483
        }
      },
      "outputs": [
        {
          "output_type": "display_data",
          "data": {
            "text/plain": [
              "<Figure size 720x576 with 1 Axes>"
            ],
            "image/png": "[encoded data removed]"
          },
          "metadata": {
            "needs_background": "light"
          }
        }
      ],
      "source": [
        "df=df[df['year']==2013]\n",
        "\n",
        "plt.hist(df['income'])\n",
        "plt.show()"
      ]
    },
    {
      "cell_type": "markdown",
      "metadata": {
        "id": "EJXl9OI1RUqk"
      },
      "source": []
    },
    {
      "cell_type": "code",
      "execution_count": 28,
      "metadata": {
        "id": "_SmrEOCJRUqk",
        "outputId": "dc491133-f7ac-424b-f427-28ed1514e295",
        "colab": {
          "base_uri": "https://localhost:8080/",
          "height": 513
        }
      },
      "outputs": [
        {
          "output_type": "display_data",
          "data": {
            "text/plain": [
              "<Figure size 720x576 with 1 Axes>"
            ],
            "image/png": "[encoded data removed]"
          },
          "metadata": {
            "needs_background": "light"
          }
        }
      ],
      "source": [
        "plt.hist(df['income'], bins=100, edgecolor='white')\n",
        "plt.xlabel('Income ($, thousands')\n",
        "plt.title(\"U.S. Income Distributon, 2013\")\n",
        "\n",
        "plt.show()"
      ]
    },
    {
      "cell_type": "code",
      "execution_count": 29,
      "metadata": {
        "id": "DkDj9uqKRUqk",
        "outputId": "ec9bc59c-b61b-4c2b-c3fc-35a45f3bf7db",
        "colab": {
          "base_uri": "https://localhost:8080/",
          "height": 584
        }
      },
      "outputs": [
        {
          "output_type": "stream",
          "name": "stdout",
          "text": [
            "mean    51.821863\n",
            "50%     40.000000\n",
            "std     60.163449\n",
            "Name: income, dtype: float64\n"
          ]
        },
        {
          "output_type": "display_data",
          "data": {
            "text/plain": [
              "<Figure size 720x576 with 1 Axes>"
            ],
            "image/png": "[encoded data removed]"
          },
          "metadata": {
            "needs_background": "light"
          }
        }
      ],
      "source": [
        "inc_summary=df['income'].describe()\n",
        "print(inc_summary[['mean','50%','std']])\n",
        "\n",
        "plt.hist(df['income'], bins=100, edgecolor='white')\n",
        "plt.axvline(inc_summary['mean'], color='red', linestyle='dashed', linewidth=1,label='Mean')\n",
        "plt.axvline(inc_summary['50%'], color='black', linestyle='dashed', linewidth=1, label='Median')\n",
        "\n",
        "plt.legend()\n",
        "plt.xlabel('Income ($, thousands')\n",
        "plt.title(\"U.S. Income Distributon, 2013\")\n",
        "plt.xlim(0,250)\n",
        "plt.show()"
      ]
    },
    {
      "cell_type": "code",
      "execution_count": 30,
      "metadata": {
        "id": "qFXLET9HRUqk",
        "outputId": "b4159584-f642-4ef8-9a8a-818d3edef12e",
        "colab": {
          "base_uri": "https://localhost:8080/",
          "height": 513
        }
      },
      "outputs": [
        {
          "output_type": "display_data",
          "data": {
            "text/plain": [
              "<Figure size 720x576 with 1 Axes>"
            ],
            "image/png": "[encoded data removed]"
          },
          "metadata": {
            "needs_background": "light"
          }
        }
      ],
      "source": [
        "def plot_histogram(variable, bins, xlab, title):\n",
        "\tsummary=variable.describe()\n",
        "\tplt.hist(variable, bins=bins,edgecolor='white', density=True)\n",
        "\tplt.axvline(summary['mean'], color='red', linestyle='dashed', linewidth=1,label='Mean '+str(round(summary['mean'],2)))\n",
        "\tplt.axvline(summary['50%'], color='black', linestyle='dashed', linewidth=1, label='Median '+str(round(summary['50%'],2)))\n",
        "\n",
        "\tplt.legend()\n",
        "\tplt.xlabel(xlab)\n",
        "\tplt.title(title)\n",
        "\tplt.show()\n",
        "\n",
        "plot_histogram(df['income'], bins=100, xlab='Income ($, 000)',title='U.S. Income Distribution, 2013')"
      ]
    },
    {
      "cell_type": "code",
      "execution_count": 31,
      "metadata": {
        "id": "fzoiD0gnRUqk",
        "outputId": "228cee18-ed57-4a0b-b45d-e9a013f88794",
        "colab": {
          "base_uri": "https://localhost:8080/",
          "height": 513
        }
      },
      "outputs": [
        {
          "output_type": "display_data",
          "data": {
            "text/plain": [
              "<Figure size 720x576 with 1 Axes>"
            ],
            "image/png": "[encoded data removed]"
          },
          "metadata": {
            "needs_background": "light"
          }
        }
      ],
      "source": [
        "plot_histogram(df['age'], bins=20, xlab='Age',title='U.S. Age Distribution, 2013')"
      ]
    },
    {
      "cell_type": "code",
      "execution_count": 32,
      "metadata": {
        "id": "ShIGwssrRUqm",
        "outputId": "c9cde8cf-1864-4add-f2ff-457acd7f9828",
        "colab": {
          "base_uri": "https://localhost:8080/",
          "height": 483
        }
      },
      "outputs": [
        {
          "output_type": "display_data",
          "data": {
            "text/plain": [
              "<Figure size 720x576 with 1 Axes>"
            ],
            "image/png": "[encoded data removed]"
          },
          "metadata": {
            "needs_background": "light"
          }
        }
      ],
      "source": [
        "mu, se= 0, 1\n",
        "x = np.linspace(mu - 3*se, mu + 3*se, 100)\n",
        "plt.plot(x, norm.pdf(x, mu, se))\n",
        "plt.axvline(mu, color='black', linestyle='solid', linewidth=1,label='µ')\n",
        "plt.axvline(mu-se*2, color='black', linestyle='dashed', linewidth=1.5,label='µ ± 2σ')\n",
        "plt.axvline(mu+se*2, color='black', linestyle='dashed', linewidth=1.5)\n",
        "plt.legend()\n",
        "plt.show()"
      ]
    },
    {
      "cell_type": "code",
      "execution_count": 33,
      "metadata": {
        "id": "lSQRGyO9RUqn"
      },
      "outputs": [],
      "source": [
        "def plot_sample_means(var, xlab, sample_size):\n",
        "\n",
        "    #create an empty list to store sample means\n",
        "    sample_means=[]\n",
        "\n",
        "    # loop 10,000 times.\n",
        "    for i in range(0,10000):\n",
        "        # for each iteration, draw a sample of the size specified by the \"sample_size\" parameter\n",
        "        sample=var.sample(sample_size, replace=True)\n",
        "        # calculate the mean, and append it to the list of sample means. \n",
        "        sample_mean=sample.mean()\n",
        "        sample_means.append(sample_mean)\n",
        "    \n",
        "    # now, plot a histogram \n",
        "    plt.hist(sample_means, bins=int(30), color= 'green', edgecolor='white', density=True)\n",
        "    \n",
        "    # fit a normal distribution to the data \n",
        "    mu, se = norm.fit(sample_means)\n",
        "    xmin, xmax = plt.xlim()\n",
        "    x = np.linspace(xmin, xmax, 100)\n",
        "    p = norm.pdf(x, mu, se) \n",
        "    plt.plot(x, p, 'k', linewidth=2)\n",
        "\n",
        "    # calculate the difference between the mean of the sample means \n",
        "    diff=abs(mu-var.mean())\n",
        "    \n",
        "    # add droplines, labels, title, legend, and limit the x-axis range to 3 standard deviations from the mean on either side.\n",
        "    plt.axvline(mu, color='black', linestyle='dashed', linewidth=1,label='µx̄ - µ= '+str(round(diff, 3)))\n",
        "    plt.axvline(mu-se*2, color='black', linestyle='dashed', linewidth=1.5,label='µ ± 2σ')\n",
        "    plt.axvline(mu+se*2, color='black', linestyle='dashed', linewidth=1.5)\n",
        "    plt.legend()\n",
        "    plt.xlabel(xlab)\t\n",
        "    plt.title('Distribution of Sample Means (n={})'.format(sample_size))\n",
        "    plt.xlim(mu-se*3, mu+se*3)\n",
        "    plt.show()\t"
      ]
    },
    {
      "cell_type": "code",
      "execution_count": 34,
      "metadata": {
        "id": "A4BVPo6lRUqn",
        "outputId": "dac97db2-1ed2-4da4-a3a4-de6930e34250",
        "colab": {
          "base_uri": "https://localhost:8080/",
          "height": 513
        }
      },
      "outputs": [
        {
          "output_type": "display_data",
          "data": {
            "text/plain": [
              "<Figure size 720x576 with 1 Axes>"
            ],
            "image/png": "[encoded data removed]"
          },
          "metadata": {
            "needs_background": "light"
          }
        }
      ],
      "source": [
        "plot_sample_means(df['income'], xlab='Income, ($, 000)', sample_size=2)"
      ]
    },
    {
      "cell_type": "code",
      "execution_count": 35,
      "metadata": {
        "id": "f21nTnFERUqn",
        "outputId": "50d3665b-c49f-4ecb-cb6e-f12a4da826d3",
        "colab": {
          "base_uri": "https://localhost:8080/",
          "height": 513
        }
      },
      "outputs": [
        {
          "output_type": "display_data",
          "data": {
            "text/plain": [
              "<Figure size 720x576 with 1 Axes>"
            ],
            "image/png": "[encoded data removed]"
          },
          "metadata": {
            "needs_background": "light"
          }
        }
      ],
      "source": [
        "plot_sample_means(df['union'], xlab='Income, ($, 000)', sample_size=1000)"
      ]
    },
    {
      "cell_type": "markdown",
      "source": [],
      "metadata": {
        "id": "xtvAcZDFlULC"
      }
    },
    {
      "cell_type": "markdown",
      "source": [],
      "metadata": {
        "id": "X1drNqEwksxc"
      }
    },
    {
      "cell_type": "code",
      "source": [
        "def two_hist(groups,group_labs,xlab, title):\n",
        "\n",
        "\t\tplt.figure(figsize=(15,6))\n",
        "\n",
        "\t\tit=-1\n",
        "\t\tfor var in groups:\n",
        "\t\t\tit+=1\n",
        "\t\t\tsample_size=1000\n",
        "\t\t\tsample_means=[]\n",
        "\t\t\titerations=10000\n",
        "\n",
        "\t\t\tfor i in range(0,iterations):\n",
        "\t\t\t\tsample=var.sample(sample_size, replace=True)\n",
        "\t\t\t\tsample_mean=sample.mean()\n",
        "\t\t\t\tsample_means.append(sample_mean)\n",
        "\t\t\t\n",
        "\t\t\tplt.hist(sample_means, bins=int(iterations/300),edgecolor='white',density=True, label=group_labs[it])\n",
        "\t\t\tmu, std = norm.fit(sample_means)\n",
        "\t\t\txmin, xmax = plt.xlim()\n",
        "\t\t\tx = np.linspace(xmin, xmax, 100)\n",
        "\t\t\tp = norm.pdf(x, mu, std) \n",
        "\n",
        "\t\t\tdiff=abs(mu-var.mean())\n",
        "\t\t\tplt.plot(x, p, 'k', linewidth=2)\n",
        "\n",
        "\t\t\tplt.xlabel(xlab)\t\n",
        "\t\t\tplt.title(title)\n",
        "\t\t\t\n",
        "\t\t\t#plt.xlim(mu-std*3, mu+std*3)\n",
        "\t\t\tplt.axvline(var.mean(), color='red', linestyle='solid', linewidth=2)\n",
        "\t\t\t#plt.axvline(mu-std*1, color='black', linestyle='dotted', linewidth=1.5,label='µ ± 1σ')\n",
        "\t\t\t#plt.axvline(mu+std*1, color='black', linestyle='dotted', linewidth=1.5)\n",
        "\t\t\t#plt.axvline(mu-std*2, color='black', linestyle='dashed', linewidth=1.5)\n",
        "\t\t\t#plt.axvline(mu+std*2, color='black', linestyle='dashed', linewidth=1.5)\n",
        "\t\t\t#plt.xlim(45,61)\n",
        "\t\t\tplt.legend()\n",
        "\t\t\t#filename=str(sample_size).zfill(4)\n",
        "\t\tplt.show()\n",
        "\n",
        "\t\tplt.close()\n",
        "\t\n"
      ],
      "metadata": {
        "id": "ZpmUTGfAksbe"
      },
      "execution_count": 41,
      "outputs": []
    },
    {
      "cell_type": "code",
      "source": [
        "men=df[df['sex']==1]['income']\n",
        "women=df[df['sex']==2]['income']"
      ],
      "metadata": {
        "id": "nBF2wuoOnx5-"
      },
      "execution_count": 36,
      "outputs": []
    },
    {
      "cell_type": "code",
      "source": [
        "two_hist([men,women],['Men','Women'],'Income ($, thousands)', \"Income Sample Means\")"
      ],
      "metadata": {
        "id": "zRYHLxRfqU55",
        "outputId": "516c13d6-f47d-43bf-95bc-f5d591bd757d",
        "colab": {
          "base_uri": "https://localhost:8080/",
          "height": 404
        }
      },
      "execution_count": 42,
      "outputs": [
        {
          "output_type": "display_data",
          "data": {
            "text/plain": [
              "<Figure size 1080x432 with 1 Axes>"
            ],
            "image/png": "[encoded data removed]"
          },
          "metadata": {
            "needs_background": "light"
          }
        }
      ]
    },
    {
      "cell_type": "code",
      "source": [
        "w_men=df[(df['sex']==1)&(df['race']==1)]['income']\n",
        "b_women=df[(df['sex']==2)&(df['race']==2)]['income']"
      ],
      "metadata": {
        "id": "77Vk8QgaqM1q"
      },
      "execution_count": 44,
      "outputs": []
    }
  ],
  "metadata": {
    "colab": {
      "name": "W5. Distributions and Basic Statistics.ipynb",
      "provenance": []
    },
    "kernelspec": {
      "display_name": "Python 3.9.5 64-bit ('3.9.5')",
      "language": "python",
      "name": "python3"
    },
    "language_info": {
      "codemirror_mode": {
        "name": "ipython",
        "version": 3
      },
      "file_extension": ".py",
      "mimetype": "text/x-python",
      "name": "python",
      "nbconvert_exporter": "python",
      "pygments_lexer": "ipython3",
      "version": "3.9.5"
    },
    "vscode": {
      "interpreter": {
        "hash": "d34fbd810dd9652f8e464616181cf14dbb258b5c046bed5c2f54c6b5e518fed2"
      }
    }
  },
  "nbformat": 4,
  "nbformat_minor": 0
}